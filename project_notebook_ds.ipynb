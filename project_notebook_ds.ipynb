{
 "cells": [
  {
   "cell_type": "code",
   "execution_count": 1,
   "metadata": {},
   "outputs": [],
   "source": [
    "import warnings\n",
    "warnings.filterwarnings(\"ignore\")\n",
    "%matplotlib inline\n",
    "import missingno as msno\n",
    "import numpy as np\n",
    "import pandas as pd\n",
    "import matplotlib.pyplot as plt\n",
    "import seaborn as sns\n",
    "from sklearn.model_selection import StratifiedKFold,train_test_split,GridSearchCV,KFold\n",
    "from sklearn.preprocessing import RobustScaler,MinMaxScaler\n",
    "from sklearn.pipeline import Pipeline\n",
    "from sklearn.linear_model import LinearRegression\n",
    "from sklearn.ensemble import RandomForestRegressor\n",
    "from sklearn.metrics import mean_absolute_error,mean_squared_error\n",
    "pd.set_option(\"display.max_rows\", None)\n",
    "pd.set_option(\"display.max_columns\", None)\n",
    "pd.set_option('display.max_colwidth', None)\n",
    "plt.style.use(\"ggplot\")\n",
    "sns.set_palette(sns.diverging_palette(220, 20))"
   ]
  },
  {
   "cell_type": "markdown",
   "metadata": {},
   "source": [
    "# Uçuş Rötarları ve İptallerinin Analizi\n",
    "---"
   ]
  },
  {
   "cell_type": "markdown",
   "metadata": {
    "id": "Md_WfESotu_8"
   },
   "source": [
    "### Proje Detayları\n",
    "- Time Series Analysis and Forecasting için tarih-saat oluşturulmalıdır, böylece çizim ve zaman serisi analizi daha etkili bir şekilde gerçekleştirilebilir.\n",
    "- Kalkış ve varış saatleri düzeltilmelidir, bu sayede verilerin doğruluğu sağlanabilir.\n",
    "- Kopyalar kontrol edilmelidir, böylece veri setinde tutarsızlıklar ve tekrarlanan bilgiler tespit edilebilir.\n",
    "- HAVA DURUMU DEĞİŞKENLERİ İLE, DELAY ARASINDA MANTIKLI BİR PARAMETRE VAR MI?\n",
    "\n",
    "### Beklenenler\n",
    "- csv dosyasındaki verileri düzenleyiniz.\n",
    "- Gecikmeler açısından hangi havayolları en kötü performansı gösteriyor?\n",
    "- Hangisi en iyisi?\n",
    "- Uçuş performansı yılın aylarına göre değişiyor mu? Bir havayolu şirketi her zaman en kötü performansı gösteren havayolu mudur, yoksa değişkenlik var mıdır?\n",
    "- Hangi rotaların 1. seviye gecikme sınıfına girme olasılığı en yüksek?\n",
    "\n",
    "\n",
    "<span style=\"color: green\"> Gecikme sürelerini cut veya qcut fonksiyonları ile 5 parçaya bölerek kategorik bir değişken oluşturunuz.</span>\n",
    "\n",
    "<span style=\"color: green\">Örneğin: En az gecikme 1. Seviye, en çok gecikme 5. seviye olmak üzere</span>\n"
   ]
  },
  {
   "cell_type": "markdown",
   "metadata": {
    "id": "2-4_kbQI7mMd"
   },
   "source": [
    "---\n",
    "# PROJE SORULARI\n",
    "---\n",
    "1.\tHer havayolunun mesafeyle ilişkisini anlamak için kategorik bir değişken oluşturunuz.\n",
    "2.\tUçuş mesafeleri, 500 mil altındaki mesafeler, 500-1000 mil arasındaki mesafeler ve 1000 mil ve üzerindeki mesafeler olmak üzere üç ana grupta sınıflandırınız.\n",
    "3.\tHavayolu şirketleri arasında en fazla uçuşu gerçekleştiren firmaları belirleyiniz.\n",
    "4.\tGecikmeleri varsayarak havayolu şirketlerinin performansları kıyaslayınız.\n",
    "5.\tHavayolu performansının yılın farklı aylarına göre değişip değişmediğini ve en iyi 5 havayolu performansı ile en kötü 5 performansı gösteriniz.\n",
    "6.\tUçuş iptallerinin yüzde kaç olduğunu belirleyip havayoluna göre değişkenliğini gösteriniz?\n",
    "7.\tRotar Süresinin daha yüksek olduğu günün belirli bir saati ve/veya yılın saati var mı?\n",
    "8.\tEn yüksek ROTAR(gecikme) süresine sahip güzergahlar hangileri?\n",
    "9.\tMakine öğrenmesi modeli kurup uçuşların gecikme sürelerini tahmin ediniz.\n",
    "10.\tModeli Değerlendiriniz.\n",
    "\n"
   ]
  },
  {
   "cell_type": "code",
   "execution_count": null,
   "metadata": {},
   "outputs": [],
   "source": []
  },
  {
   "cell_type": "markdown",
   "metadata": {},
   "source": [
    "# Data Validation"
   ]
  },
  {
   "cell_type": "markdown",
   "metadata": {},
   "source": [
    "Veri setinde 111006 satır ve 29 değişken bulunmaktadır.\n",
    "\n",
    "Değişken açıklamaları:\n",
    "\n",
    "- year : Yıl - 2022 yılına ait verileri kapsar.\n",
    "- month: Ay - 1. ve 6. aya ait verileri kapsar.\n",
    "- day: Gün - 31 günü ifade eder.\n",
    "- dep_time: Uçağın gerçekleşen kalkış zamanıdır. \n",
    "- sched_dep_time: Planlanan kalkış zamanı\n",
    "- dep_delay: Kalkış gecikme süresi\n",
    "- arr_time: Gerçekleşen varış zamanı\n",
    "- sched_arr_time: Planlanan varış zamanı\n",
    "- arr_delay: Varış gecikme süresi\n",
    "- carrier: Hava yolu şirketinin kısaltması\n",
    "- flight: uçuş numarası ?\n",
    "- tailnum: Uçak kuyruk numarası\n",
    "- origin: kalkış hava alanı kodu (SEA ve PDX)\n",
    "- dest: varış hava alanı kodu (97 adet havaalanı bulunmaktadır)\n",
    "- air_time: Uçuş süresi\n",
    "- distance: Uçuş mesafesi\n",
    "- hour: Saat\n",
    "- Minute: Dakika\n",
    "- airline: Havayolu şirketinin adı\n",
    "- route: Uçuş rotası\n",
    "- temp: Sıcaklık\n",
    "- dewp: Çiy noktası sıcaklığı, bir hava kütlesinin içindeki su buharının yoğunlaşmaya başladığı sıcaklık.\n",
    "- humid: Nemlilik\n",
    "- wind_dir: Rüzgar yönü\n",
    "- wind_speed: Rüzgar hızı\n",
    "- wind_gust:  belirli bir zaman dilimindeki rüzgarın en yüksek hızını ifade eder\n",
    "- precip: Yağış\n",
    "- pressure: Hava basıncı\n",
    "- visib: Görüş mesafesi\n",
    "\n",
    "Yüksek nem oranları, uçakların yüzeylerinde yoğuşma ve buzlanma riskini artırabilir. \n",
    "Yüksek nem oranları, düşük görüş mesafesi ve düşük hava kalitesi ile ilişkilendirilebilir. Bu da pilotların görüşünü etkileyebilir ve uçuş güvenliği için önemli bir faktör olabilir.\n",
    "Nem oranı, havanın yoğunluğunu etkiler. Bu da uçak performansını ve aerodinamik özelliklerini etkileyebilir.\n",
    "Yolcuların konforunu etkileyen bir faktör olarak düşünülebilir. Yüksek nem oranları, yolcuların rahatlık düzeyini azaltabilir ve kabin içinde nem kontrolüne ihtiyaç duyulmasına neden olabilir.\n",
    "\n",
    "\"Wind gust\" (rüzgar anında hızı), standart rüzgar hızından farklıdır. Rüzgar anında hızı, belirli bir zaman dilimindeki rüzgarın en yüksek hızını ifade eder. Bu, belirli bir süre boyunca rüzgarın geçici olarak ne kadar hızlandığını gösterir. Özellikle fırtına veya kuvvetli rüzgar koşullarında, rüzgar hızı anlık olarak artabilir ve bu artışlar \"wind gust\" olarak kaydedilir.\n",
    "\n",
    "\n"
   ]
  },
  {
   "cell_type": "code",
   "execution_count": 2,
   "metadata": {},
   "outputs": [],
   "source": [
    "df = pd.read_csv(\"data/flights_weather2022.csv\")"
   ]
  },
  {
   "cell_type": "code",
   "execution_count": 3,
   "metadata": {},
   "outputs": [
    {
     "data": {
      "text/html": [
       "<div>\n",
       "<style scoped>\n",
       "    .dataframe tbody tr th:only-of-type {\n",
       "        vertical-align: middle;\n",
       "    }\n",
       "\n",
       "    .dataframe tbody tr th {\n",
       "        vertical-align: top;\n",
       "    }\n",
       "\n",
       "    .dataframe thead th {\n",
       "        text-align: right;\n",
       "    }\n",
       "</style>\n",
       "<table border=\"1\" class=\"dataframe\">\n",
       "  <thead>\n",
       "    <tr style=\"text-align: right;\">\n",
       "      <th></th>\n",
       "      <th>year</th>\n",
       "      <th>month</th>\n",
       "      <th>day</th>\n",
       "      <th>dep_time</th>\n",
       "      <th>sched_dep_time</th>\n",
       "      <th>dep_delay</th>\n",
       "      <th>arr_time</th>\n",
       "      <th>sched_arr_time</th>\n",
       "      <th>arr_delay</th>\n",
       "      <th>carrier</th>\n",
       "      <th>flight</th>\n",
       "      <th>tailnum</th>\n",
       "      <th>origin</th>\n",
       "      <th>dest</th>\n",
       "      <th>air_time</th>\n",
       "      <th>distance</th>\n",
       "      <th>hour</th>\n",
       "      <th>minute</th>\n",
       "      <th>airline</th>\n",
       "      <th>route</th>\n",
       "      <th>temp</th>\n",
       "      <th>dewp</th>\n",
       "      <th>humid</th>\n",
       "      <th>wind_dir</th>\n",
       "      <th>wind_speed</th>\n",
       "      <th>wind_gust</th>\n",
       "      <th>precip</th>\n",
       "      <th>pressure</th>\n",
       "      <th>visib</th>\n",
       "    </tr>\n",
       "  </thead>\n",
       "  <tbody>\n",
       "    <tr>\n",
       "      <th>0</th>\n",
       "      <td>2022</td>\n",
       "      <td>1</td>\n",
       "      <td>1</td>\n",
       "      <td>1.0</td>\n",
       "      <td>2359</td>\n",
       "      <td>2.0</td>\n",
       "      <td>604.0</td>\n",
       "      <td>618</td>\n",
       "      <td>-14.0</td>\n",
       "      <td>UA</td>\n",
       "      <td>555</td>\n",
       "      <td>N405UA</td>\n",
       "      <td>SEA</td>\n",
       "      <td>IAH</td>\n",
       "      <td>221.0</td>\n",
       "      <td>1874</td>\n",
       "      <td>23</td>\n",
       "      <td>59</td>\n",
       "      <td>United Air Lines Inc.</td>\n",
       "      <td>SEA-IAH</td>\n",
       "      <td>33.0</td>\n",
       "      <td>23.0</td>\n",
       "      <td>66.06</td>\n",
       "      <td>160.0</td>\n",
       "      <td>8.05546</td>\n",
       "      <td>9.270062</td>\n",
       "      <td>0.0</td>\n",
       "      <td>1022.9</td>\n",
       "      <td>10.0</td>\n",
       "    </tr>\n",
       "    <tr>\n",
       "      <th>1</th>\n",
       "      <td>2022</td>\n",
       "      <td>1</td>\n",
       "      <td>1</td>\n",
       "      <td>1.0</td>\n",
       "      <td>2250</td>\n",
       "      <td>71.0</td>\n",
       "      <td>242.0</td>\n",
       "      <td>142</td>\n",
       "      <td>60.0</td>\n",
       "      <td>AS</td>\n",
       "      <td>72</td>\n",
       "      <td>N265AK</td>\n",
       "      <td>SEA</td>\n",
       "      <td>FAI</td>\n",
       "      <td>193.0</td>\n",
       "      <td>1533</td>\n",
       "      <td>22</td>\n",
       "      <td>50</td>\n",
       "      <td>Alaska Airlines Inc.</td>\n",
       "      <td>SEA-FAI</td>\n",
       "      <td>32.0</td>\n",
       "      <td>23.0</td>\n",
       "      <td>69.04</td>\n",
       "      <td>170.0</td>\n",
       "      <td>9.20624</td>\n",
       "      <td>10.594357</td>\n",
       "      <td>0.0</td>\n",
       "      <td>1023.4</td>\n",
       "      <td>10.0</td>\n",
       "    </tr>\n",
       "    <tr>\n",
       "      <th>2</th>\n",
       "      <td>2022</td>\n",
       "      <td>1</td>\n",
       "      <td>1</td>\n",
       "      <td>10.0</td>\n",
       "      <td>2355</td>\n",
       "      <td>15.0</td>\n",
       "      <td>759.0</td>\n",
       "      <td>730</td>\n",
       "      <td>29.0</td>\n",
       "      <td>AS</td>\n",
       "      <td>270</td>\n",
       "      <td>N274AK</td>\n",
       "      <td>SEA</td>\n",
       "      <td>ATL</td>\n",
       "      <td>261.0</td>\n",
       "      <td>2182</td>\n",
       "      <td>23</td>\n",
       "      <td>55</td>\n",
       "      <td>Alaska Airlines Inc.</td>\n",
       "      <td>SEA-ATL</td>\n",
       "      <td>33.0</td>\n",
       "      <td>23.0</td>\n",
       "      <td>66.06</td>\n",
       "      <td>160.0</td>\n",
       "      <td>8.05546</td>\n",
       "      <td>9.270062</td>\n",
       "      <td>0.0</td>\n",
       "      <td>1022.9</td>\n",
       "      <td>10.0</td>\n",
       "    </tr>\n",
       "    <tr>\n",
       "      <th>3</th>\n",
       "      <td>2022</td>\n",
       "      <td>1</td>\n",
       "      <td>1</td>\n",
       "      <td>25.0</td>\n",
       "      <td>2350</td>\n",
       "      <td>35.0</td>\n",
       "      <td>606.0</td>\n",
       "      <td>550</td>\n",
       "      <td>16.0</td>\n",
       "      <td>AS</td>\n",
       "      <td>7</td>\n",
       "      <td>N281AK</td>\n",
       "      <td>SEA</td>\n",
       "      <td>ORD</td>\n",
       "      <td>193.0</td>\n",
       "      <td>1721</td>\n",
       "      <td>23</td>\n",
       "      <td>50</td>\n",
       "      <td>Alaska Airlines Inc.</td>\n",
       "      <td>SEA-ORD</td>\n",
       "      <td>33.0</td>\n",
       "      <td>23.0</td>\n",
       "      <td>66.06</td>\n",
       "      <td>160.0</td>\n",
       "      <td>8.05546</td>\n",
       "      <td>9.270062</td>\n",
       "      <td>0.0</td>\n",
       "      <td>1022.9</td>\n",
       "      <td>10.0</td>\n",
       "    </tr>\n",
       "    <tr>\n",
       "      <th>4</th>\n",
       "      <td>2022</td>\n",
       "      <td>1</td>\n",
       "      <td>1</td>\n",
       "      <td>35.0</td>\n",
       "      <td>2349</td>\n",
       "      <td>46.0</td>\n",
       "      <td>616.0</td>\n",
       "      <td>545</td>\n",
       "      <td>31.0</td>\n",
       "      <td>UA</td>\n",
       "      <td>507</td>\n",
       "      <td>N426UA</td>\n",
       "      <td>PDX</td>\n",
       "      <td>ORD</td>\n",
       "      <td>196.0</td>\n",
       "      <td>1739</td>\n",
       "      <td>23</td>\n",
       "      <td>49</td>\n",
       "      <td>United Air Lines Inc.</td>\n",
       "      <td>PDX-ORD</td>\n",
       "      <td>33.0</td>\n",
       "      <td>19.0</td>\n",
       "      <td>55.75</td>\n",
       "      <td>120.0</td>\n",
       "      <td>6.90468</td>\n",
       "      <td>7.945768</td>\n",
       "      <td>0.0</td>\n",
       "      <td>1025.1</td>\n",
       "      <td>10.0</td>\n",
       "    </tr>\n",
       "  </tbody>\n",
       "</table>\n",
       "</div>"
      ],
      "text/plain": [
       "   year  month  day  dep_time  sched_dep_time  dep_delay  arr_time  \\\n",
       "0  2022      1    1       1.0            2359        2.0     604.0   \n",
       "1  2022      1    1       1.0            2250       71.0     242.0   \n",
       "2  2022      1    1      10.0            2355       15.0     759.0   \n",
       "3  2022      1    1      25.0            2350       35.0     606.0   \n",
       "4  2022      1    1      35.0            2349       46.0     616.0   \n",
       "\n",
       "   sched_arr_time  arr_delay carrier  flight tailnum origin dest  air_time  \\\n",
       "0             618      -14.0      UA     555  N405UA    SEA  IAH     221.0   \n",
       "1             142       60.0      AS      72  N265AK    SEA  FAI     193.0   \n",
       "2             730       29.0      AS     270  N274AK    SEA  ATL     261.0   \n",
       "3             550       16.0      AS       7  N281AK    SEA  ORD     193.0   \n",
       "4             545       31.0      UA     507  N426UA    PDX  ORD     196.0   \n",
       "\n",
       "   distance  hour  minute                airline    route  temp  dewp  humid  \\\n",
       "0      1874    23      59  United Air Lines Inc.  SEA-IAH  33.0  23.0  66.06   \n",
       "1      1533    22      50   Alaska Airlines Inc.  SEA-FAI  32.0  23.0  69.04   \n",
       "2      2182    23      55   Alaska Airlines Inc.  SEA-ATL  33.0  23.0  66.06   \n",
       "3      1721    23      50   Alaska Airlines Inc.  SEA-ORD  33.0  23.0  66.06   \n",
       "4      1739    23      49  United Air Lines Inc.  PDX-ORD  33.0  19.0  55.75   \n",
       "\n",
       "   wind_dir  wind_speed  wind_gust  precip  pressure  visib  \n",
       "0     160.0     8.05546   9.270062     0.0    1022.9   10.0  \n",
       "1     170.0     9.20624  10.594357     0.0    1023.4   10.0  \n",
       "2     160.0     8.05546   9.270062     0.0    1022.9   10.0  \n",
       "3     160.0     8.05546   9.270062     0.0    1022.9   10.0  \n",
       "4     120.0     6.90468   7.945768     0.0    1025.1   10.0  "
      ]
     },
     "execution_count": 3,
     "metadata": {},
     "output_type": "execute_result"
    }
   ],
   "source": [
    "df.head()"
   ]
  },
  {
   "cell_type": "markdown",
   "metadata": {},
   "source": [
    "**Veri setinde 111006 satır ve 29 değişken bulunmaktadır.**"
   ]
  },
  {
   "cell_type": "code",
   "execution_count": 4,
   "metadata": {},
   "outputs": [
    {
     "data": {
      "text/plain": [
       "(111006, 29)"
      ]
     },
     "execution_count": 4,
     "metadata": {},
     "output_type": "execute_result"
    }
   ],
   "source": [
    "df.shape"
   ]
  },
  {
   "cell_type": "code",
   "execution_count": 5,
   "metadata": {},
   "outputs": [
    {
     "data": {
      "text/plain": [
       "year\n",
       "2022    111006\n",
       "Name: count, dtype: int64"
      ]
     },
     "execution_count": 5,
     "metadata": {},
     "output_type": "execute_result"
    }
   ],
   "source": [
    "df[\"year\"].value_counts()"
   ]
  },
  {
   "cell_type": "code",
   "execution_count": 6,
   "metadata": {},
   "outputs": [
    {
     "data": {
      "text/plain": [
       "month\n",
       "6    20491\n",
       "5    19971\n",
       "4    18741\n",
       "3    18306\n",
       "1    17473\n",
       "2    16024\n",
       "Name: count, dtype: int64"
      ]
     },
     "execution_count": 6,
     "metadata": {},
     "output_type": "execute_result"
    }
   ],
   "source": [
    "df[\"month\"].value_counts()"
   ]
  },
  {
   "cell_type": "code",
   "execution_count": 7,
   "metadata": {},
   "outputs": [
    {
     "data": {
      "text/html": [
       "<div>\n",
       "<style scoped>\n",
       "    .dataframe tbody tr th:only-of-type {\n",
       "        vertical-align: middle;\n",
       "    }\n",
       "\n",
       "    .dataframe tbody tr th {\n",
       "        vertical-align: top;\n",
       "    }\n",
       "\n",
       "    .dataframe thead th {\n",
       "        text-align: right;\n",
       "    }\n",
       "</style>\n",
       "<table border=\"1\" class=\"dataframe\">\n",
       "  <thead>\n",
       "    <tr style=\"text-align: right;\">\n",
       "      <th></th>\n",
       "      <th>count</th>\n",
       "      <th>mean</th>\n",
       "      <th>std</th>\n",
       "      <th>min</th>\n",
       "      <th>25%</th>\n",
       "      <th>50%</th>\n",
       "      <th>75%</th>\n",
       "      <th>max</th>\n",
       "    </tr>\n",
       "  </thead>\n",
       "  <tbody>\n",
       "    <tr>\n",
       "      <th>year</th>\n",
       "      <td>111006.0</td>\n",
       "      <td>2022.000000</td>\n",
       "      <td>0.000000</td>\n",
       "      <td>2022.00</td>\n",
       "      <td>2022.000000</td>\n",
       "      <td>2022.000000</td>\n",
       "      <td>2022.000000</td>\n",
       "      <td>2022.000000</td>\n",
       "    </tr>\n",
       "    <tr>\n",
       "      <th>month</th>\n",
       "      <td>111006.0</td>\n",
       "      <td>3.623264</td>\n",
       "      <td>1.713287</td>\n",
       "      <td>1.00</td>\n",
       "      <td>2.000000</td>\n",
       "      <td>4.000000</td>\n",
       "      <td>5.000000</td>\n",
       "      <td>6.000000</td>\n",
       "    </tr>\n",
       "    <tr>\n",
       "      <th>day</th>\n",
       "      <td>111006.0</td>\n",
       "      <td>15.736654</td>\n",
       "      <td>8.723487</td>\n",
       "      <td>1.00</td>\n",
       "      <td>8.000000</td>\n",
       "      <td>16.000000</td>\n",
       "      <td>23.000000</td>\n",
       "      <td>31.000000</td>\n",
       "    </tr>\n",
       "    <tr>\n",
       "      <th>dep_time</th>\n",
       "      <td>108566.0</td>\n",
       "      <td>1336.449487</td>\n",
       "      <td>540.664793</td>\n",
       "      <td>1.00</td>\n",
       "      <td>912.000000</td>\n",
       "      <td>1309.000000</td>\n",
       "      <td>1800.000000</td>\n",
       "      <td>2400.000000</td>\n",
       "    </tr>\n",
       "    <tr>\n",
       "      <th>sched_dep_time</th>\n",
       "      <td>111006.0</td>\n",
       "      <td>1342.068158</td>\n",
       "      <td>530.610560</td>\n",
       "      <td>2.00</td>\n",
       "      <td>910.000000</td>\n",
       "      <td>1305.000000</td>\n",
       "      <td>1800.000000</td>\n",
       "      <td>2359.000000</td>\n",
       "    </tr>\n",
       "    <tr>\n",
       "      <th>dep_delay</th>\n",
       "      <td>108566.0</td>\n",
       "      <td>8.038456</td>\n",
       "      <td>41.687738</td>\n",
       "      <td>-36.00</td>\n",
       "      <td>-5.000000</td>\n",
       "      <td>-2.000000</td>\n",
       "      <td>6.000000</td>\n",
       "      <td>2120.000000</td>\n",
       "    </tr>\n",
       "    <tr>\n",
       "      <th>arr_time</th>\n",
       "      <td>108469.0</td>\n",
       "      <td>1467.243636</td>\n",
       "      <td>570.938019</td>\n",
       "      <td>1.00</td>\n",
       "      <td>1055.000000</td>\n",
       "      <td>1520.000000</td>\n",
       "      <td>1917.000000</td>\n",
       "      <td>2400.000000</td>\n",
       "    </tr>\n",
       "    <tr>\n",
       "      <th>sched_arr_time</th>\n",
       "      <td>111006.0</td>\n",
       "      <td>1506.330090</td>\n",
       "      <td>546.796862</td>\n",
       "      <td>3.00</td>\n",
       "      <td>1115.000000</td>\n",
       "      <td>1540.000000</td>\n",
       "      <td>1937.000000</td>\n",
       "      <td>2359.000000</td>\n",
       "    </tr>\n",
       "    <tr>\n",
       "      <th>arr_delay</th>\n",
       "      <td>108332.0</td>\n",
       "      <td>2.359524</td>\n",
       "      <td>43.088734</td>\n",
       "      <td>-65.00</td>\n",
       "      <td>-14.000000</td>\n",
       "      <td>-5.000000</td>\n",
       "      <td>6.000000</td>\n",
       "      <td>2098.000000</td>\n",
       "    </tr>\n",
       "    <tr>\n",
       "      <th>flight</th>\n",
       "      <td>111006.0</td>\n",
       "      <td>433.663856</td>\n",
       "      <td>267.779635</td>\n",
       "      <td>1.00</td>\n",
       "      <td>210.000000</td>\n",
       "      <td>416.000000</td>\n",
       "      <td>644.000000</td>\n",
       "      <td>1100.000000</td>\n",
       "    </tr>\n",
       "    <tr>\n",
       "      <th>air_time</th>\n",
       "      <td>108332.0</td>\n",
       "      <td>136.527628</td>\n",
       "      <td>82.487434</td>\n",
       "      <td>17.00</td>\n",
       "      <td>78.000000</td>\n",
       "      <td>120.000000</td>\n",
       "      <td>193.000000</td>\n",
       "      <td>397.000000</td>\n",
       "    </tr>\n",
       "    <tr>\n",
       "      <th>distance</th>\n",
       "      <td>111006.0</td>\n",
       "      <td>1068.619183</td>\n",
       "      <td>746.859903</td>\n",
       "      <td>93.00</td>\n",
       "      <td>543.000000</td>\n",
       "      <td>909.000000</td>\n",
       "      <td>1542.000000</td>\n",
       "      <td>2724.000000</td>\n",
       "    </tr>\n",
       "    <tr>\n",
       "      <th>hour</th>\n",
       "      <td>111006.0</td>\n",
       "      <td>13.135614</td>\n",
       "      <td>5.269788</td>\n",
       "      <td>0.00</td>\n",
       "      <td>9.000000</td>\n",
       "      <td>13.000000</td>\n",
       "      <td>18.000000</td>\n",
       "      <td>23.000000</td>\n",
       "    </tr>\n",
       "    <tr>\n",
       "      <th>minute</th>\n",
       "      <td>111006.0</td>\n",
       "      <td>28.506729</td>\n",
       "      <td>18.354465</td>\n",
       "      <td>0.00</td>\n",
       "      <td>15.000000</td>\n",
       "      <td>30.000000</td>\n",
       "      <td>45.000000</td>\n",
       "      <td>59.000000</td>\n",
       "    </tr>\n",
       "    <tr>\n",
       "      <th>temp</th>\n",
       "      <td>111006.0</td>\n",
       "      <td>48.155538</td>\n",
       "      <td>9.363201</td>\n",
       "      <td>21.90</td>\n",
       "      <td>42.000000</td>\n",
       "      <td>47.000000</td>\n",
       "      <td>54.000000</td>\n",
       "      <td>99.000000</td>\n",
       "    </tr>\n",
       "    <tr>\n",
       "      <th>dewp</th>\n",
       "      <td>111006.0</td>\n",
       "      <td>40.454927</td>\n",
       "      <td>7.968649</td>\n",
       "      <td>1.00</td>\n",
       "      <td>36.000000</td>\n",
       "      <td>40.000000</td>\n",
       "      <td>46.000000</td>\n",
       "      <td>61.000000</td>\n",
       "    </tr>\n",
       "    <tr>\n",
       "      <th>humid</th>\n",
       "      <td>111006.0</td>\n",
       "      <td>76.506300</td>\n",
       "      <td>15.192175</td>\n",
       "      <td>15.79</td>\n",
       "      <td>68.460000</td>\n",
       "      <td>79.400000</td>\n",
       "      <td>88.670000</td>\n",
       "      <td>100.000000</td>\n",
       "    </tr>\n",
       "    <tr>\n",
       "      <th>wind_dir</th>\n",
       "      <td>107843.0</td>\n",
       "      <td>164.500524</td>\n",
       "      <td>101.084372</td>\n",
       "      <td>0.00</td>\n",
       "      <td>100.000000</td>\n",
       "      <td>180.000000</td>\n",
       "      <td>220.000000</td>\n",
       "      <td>360.000000</td>\n",
       "    </tr>\n",
       "    <tr>\n",
       "      <th>wind_speed</th>\n",
       "      <td>110727.0</td>\n",
       "      <td>6.995307</td>\n",
       "      <td>4.507431</td>\n",
       "      <td>0.00</td>\n",
       "      <td>4.603120</td>\n",
       "      <td>6.904680</td>\n",
       "      <td>9.206240</td>\n",
       "      <td>27.618720</td>\n",
       "    </tr>\n",
       "    <tr>\n",
       "      <th>wind_gust</th>\n",
       "      <td>110727.0</td>\n",
       "      <td>8.050059</td>\n",
       "      <td>5.187061</td>\n",
       "      <td>0.00</td>\n",
       "      <td>5.297178</td>\n",
       "      <td>7.945768</td>\n",
       "      <td>10.594357</td>\n",
       "      <td>31.783071</td>\n",
       "    </tr>\n",
       "    <tr>\n",
       "      <th>precip</th>\n",
       "      <td>111006.0</td>\n",
       "      <td>0.005774</td>\n",
       "      <td>0.022099</td>\n",
       "      <td>0.00</td>\n",
       "      <td>0.000000</td>\n",
       "      <td>0.000000</td>\n",
       "      <td>0.000000</td>\n",
       "      <td>0.320000</td>\n",
       "    </tr>\n",
       "    <tr>\n",
       "      <th>pressure</th>\n",
       "      <td>111006.0</td>\n",
       "      <td>1020.187948</td>\n",
       "      <td>7.710084</td>\n",
       "      <td>991.00</td>\n",
       "      <td>1015.200000</td>\n",
       "      <td>1020.700000</td>\n",
       "      <td>1025.500000</td>\n",
       "      <td>1039.200000</td>\n",
       "    </tr>\n",
       "    <tr>\n",
       "      <th>visib</th>\n",
       "      <td>111006.0</td>\n",
       "      <td>8.922346</td>\n",
       "      <td>2.537055</td>\n",
       "      <td>0.00</td>\n",
       "      <td>10.000000</td>\n",
       "      <td>10.000000</td>\n",
       "      <td>10.000000</td>\n",
       "      <td>10.000000</td>\n",
       "    </tr>\n",
       "  </tbody>\n",
       "</table>\n",
       "</div>"
      ],
      "text/plain": [
       "                   count         mean         std      min          25%  \\\n",
       "year            111006.0  2022.000000    0.000000  2022.00  2022.000000   \n",
       "month           111006.0     3.623264    1.713287     1.00     2.000000   \n",
       "day             111006.0    15.736654    8.723487     1.00     8.000000   \n",
       "dep_time        108566.0  1336.449487  540.664793     1.00   912.000000   \n",
       "sched_dep_time  111006.0  1342.068158  530.610560     2.00   910.000000   \n",
       "dep_delay       108566.0     8.038456   41.687738   -36.00    -5.000000   \n",
       "arr_time        108469.0  1467.243636  570.938019     1.00  1055.000000   \n",
       "sched_arr_time  111006.0  1506.330090  546.796862     3.00  1115.000000   \n",
       "arr_delay       108332.0     2.359524   43.088734   -65.00   -14.000000   \n",
       "flight          111006.0   433.663856  267.779635     1.00   210.000000   \n",
       "air_time        108332.0   136.527628   82.487434    17.00    78.000000   \n",
       "distance        111006.0  1068.619183  746.859903    93.00   543.000000   \n",
       "hour            111006.0    13.135614    5.269788     0.00     9.000000   \n",
       "minute          111006.0    28.506729   18.354465     0.00    15.000000   \n",
       "temp            111006.0    48.155538    9.363201    21.90    42.000000   \n",
       "dewp            111006.0    40.454927    7.968649     1.00    36.000000   \n",
       "humid           111006.0    76.506300   15.192175    15.79    68.460000   \n",
       "wind_dir        107843.0   164.500524  101.084372     0.00   100.000000   \n",
       "wind_speed      110727.0     6.995307    4.507431     0.00     4.603120   \n",
       "wind_gust       110727.0     8.050059    5.187061     0.00     5.297178   \n",
       "precip          111006.0     0.005774    0.022099     0.00     0.000000   \n",
       "pressure        111006.0  1020.187948    7.710084   991.00  1015.200000   \n",
       "visib           111006.0     8.922346    2.537055     0.00    10.000000   \n",
       "\n",
       "                        50%          75%          max  \n",
       "year            2022.000000  2022.000000  2022.000000  \n",
       "month              4.000000     5.000000     6.000000  \n",
       "day               16.000000    23.000000    31.000000  \n",
       "dep_time        1309.000000  1800.000000  2400.000000  \n",
       "sched_dep_time  1305.000000  1800.000000  2359.000000  \n",
       "dep_delay         -2.000000     6.000000  2120.000000  \n",
       "arr_time        1520.000000  1917.000000  2400.000000  \n",
       "sched_arr_time  1540.000000  1937.000000  2359.000000  \n",
       "arr_delay         -5.000000     6.000000  2098.000000  \n",
       "flight           416.000000   644.000000  1100.000000  \n",
       "air_time         120.000000   193.000000   397.000000  \n",
       "distance         909.000000  1542.000000  2724.000000  \n",
       "hour              13.000000    18.000000    23.000000  \n",
       "minute            30.000000    45.000000    59.000000  \n",
       "temp              47.000000    54.000000    99.000000  \n",
       "dewp              40.000000    46.000000    61.000000  \n",
       "humid             79.400000    88.670000   100.000000  \n",
       "wind_dir         180.000000   220.000000   360.000000  \n",
       "wind_speed         6.904680     9.206240    27.618720  \n",
       "wind_gust          7.945768    10.594357    31.783071  \n",
       "precip             0.000000     0.000000     0.320000  \n",
       "pressure        1020.700000  1025.500000  1039.200000  \n",
       "visib             10.000000    10.000000    10.000000  "
      ]
     },
     "execution_count": 7,
     "metadata": {},
     "output_type": "execute_result"
    }
   ],
   "source": [
    "df.describe().T"
   ]
  },
  {
   "cell_type": "code",
   "execution_count": 8,
   "metadata": {},
   "outputs": [
    {
     "name": "stdout",
     "output_type": "stream",
     "text": [
      "<class 'pandas.core.frame.DataFrame'>\n",
      "RangeIndex: 111006 entries, 0 to 111005\n",
      "Data columns (total 29 columns):\n",
      " #   Column          Non-Null Count   Dtype  \n",
      "---  ------          --------------   -----  \n",
      " 0   year            111006 non-null  int64  \n",
      " 1   month           111006 non-null  int64  \n",
      " 2   day             111006 non-null  int64  \n",
      " 3   dep_time        108566 non-null  float64\n",
      " 4   sched_dep_time  111006 non-null  int64  \n",
      " 5   dep_delay       108566 non-null  float64\n",
      " 6   arr_time        108469 non-null  float64\n",
      " 7   sched_arr_time  111006 non-null  int64  \n",
      " 8   arr_delay       108332 non-null  float64\n",
      " 9   carrier         111006 non-null  object \n",
      " 10  flight          111006 non-null  int64  \n",
      " 11  tailnum         110877 non-null  object \n",
      " 12  origin          111006 non-null  object \n",
      " 13  dest            111006 non-null  object \n",
      " 14  air_time        108332 non-null  float64\n",
      " 15  distance        111006 non-null  int64  \n",
      " 16  hour            111006 non-null  int64  \n",
      " 17  minute          111006 non-null  int64  \n",
      " 18  airline         111006 non-null  object \n",
      " 19  route           111006 non-null  object \n",
      " 20  temp            111006 non-null  float64\n",
      " 21  dewp            111006 non-null  float64\n",
      " 22  humid           111006 non-null  float64\n",
      " 23  wind_dir        107843 non-null  float64\n",
      " 24  wind_speed      110727 non-null  float64\n",
      " 25  wind_gust       110727 non-null  float64\n",
      " 26  precip          111006 non-null  float64\n",
      " 27  pressure        111006 non-null  float64\n",
      " 28  visib           111006 non-null  float64\n",
      "dtypes: float64(14), int64(9), object(6)\n",
      "memory usage: 24.6+ MB\n"
     ]
    }
   ],
   "source": [
    "df.info()"
   ]
  },
  {
   "cell_type": "markdown",
   "metadata": {},
   "source": [
    "**Sayısal Kolonlar**"
   ]
  },
  {
   "cell_type": "code",
   "execution_count": 9,
   "metadata": {},
   "outputs": [
    {
     "data": {
      "text/plain": [
       "Index(['year', 'month', 'day', 'dep_time', 'sched_dep_time', 'dep_delay',\n",
       "       'arr_time', 'sched_arr_time', 'arr_delay', 'flight', 'air_time',\n",
       "       'distance', 'hour', 'minute', 'temp', 'dewp', 'humid', 'wind_dir',\n",
       "       'wind_speed', 'wind_gust', 'precip', 'pressure', 'visib'],\n",
       "      dtype='object')"
      ]
     },
     "execution_count": 9,
     "metadata": {},
     "output_type": "execute_result"
    }
   ],
   "source": [
    "numeric_df = df.select_dtypes(include=[\"int64\",\"float64\"])\n",
    "numeric_df.columns"
   ]
  },
  {
   "cell_type": "markdown",
   "metadata": {},
   "source": [
    "**Kategorik Kolonlar**"
   ]
  },
  {
   "cell_type": "code",
   "execution_count": 10,
   "metadata": {},
   "outputs": [
    {
     "data": {
      "text/plain": [
       "Index(['carrier', 'tailnum', 'origin', 'dest', 'airline', 'route'], dtype='object')"
      ]
     },
     "execution_count": 10,
     "metadata": {},
     "output_type": "execute_result"
    }
   ],
   "source": [
    "categoric_df =df.select_dtypes(include=[\"object\",\"category\"])\n",
    "categoric_df.columns"
   ]
  },
  {
   "cell_type": "markdown",
   "metadata": {},
   "source": [
    "**Veri seti Kalkış havaalanı SEA ve PDX olan 2 adet havaalanlarını kapsar**"
   ]
  },
  {
   "cell_type": "code",
   "execution_count": 11,
   "metadata": {},
   "outputs": [
    {
     "data": {
      "text/plain": [
       "origin\n",
       "SEA    82559\n",
       "PDX    28447\n",
       "Name: count, dtype: int64"
      ]
     },
     "execution_count": 11,
     "metadata": {},
     "output_type": "execute_result"
    }
   ],
   "source": [
    "df[\"origin\"].value_counts()"
   ]
  },
  {
   "cell_type": "markdown",
   "metadata": {},
   "source": [
    "**Varış havaalanı 97 adettir.**"
   ]
  },
  {
   "cell_type": "code",
   "execution_count": 12,
   "metadata": {},
   "outputs": [
    {
     "data": {
      "text/plain": [
       "97"
      ]
     },
     "execution_count": 12,
     "metadata": {},
     "output_type": "execute_result"
    }
   ],
   "source": [
    "df[\"dest\"].nunique()"
   ]
  },
  {
   "cell_type": "markdown",
   "metadata": {},
   "source": [
    "**Eksik verilerin temizlenmesi**\n",
    "- Veri setinde dep_time, dep_delay, arr_time, arr_delay, air_time değişkenlerinde sistematik meydana gelen eksik veriler vardır. Bunların aynı anda meydana gelmesi uçuk iptallerinden kaynaklı olabilir. Yine tailnum değişkeninde 129 adet eksik veri vardır. Bu eksiklikte diğer eksiklikler ile ilişkilidir. Aynı zamanda wind_dir, wind_speed ve wind_gust değişkenlerinde de eksiklikler yer almakdadır. \n"
   ]
  },
  {
   "cell_type": "code",
   "execution_count": 13,
   "metadata": {},
   "outputs": [
    {
     "data": {
      "text/plain": [
       "year                 0\n",
       "month                0\n",
       "day                  0\n",
       "dep_time          2440\n",
       "sched_dep_time       0\n",
       "dep_delay         2440\n",
       "arr_time          2537\n",
       "sched_arr_time       0\n",
       "arr_delay         2674\n",
       "carrier              0\n",
       "flight               0\n",
       "tailnum            129\n",
       "origin               0\n",
       "dest                 0\n",
       "air_time          2674\n",
       "distance             0\n",
       "hour                 0\n",
       "minute               0\n",
       "airline              0\n",
       "route                0\n",
       "temp                 0\n",
       "dewp                 0\n",
       "humid                0\n",
       "wind_dir          3163\n",
       "wind_speed         279\n",
       "wind_gust          279\n",
       "precip               0\n",
       "pressure             0\n",
       "visib                0\n",
       "dtype: int64"
      ]
     },
     "execution_count": 13,
     "metadata": {},
     "output_type": "execute_result"
    }
   ],
   "source": [
    "#Eksik veri kontrolü\n",
    "df.isnull().sum()"
   ]
  },
  {
   "cell_type": "code",
   "execution_count": 14,
   "metadata": {},
   "outputs": [
    {
     "data": {
      "text/plain": [
       "<Figure size 600x400 with 0 Axes>"
      ]
     },
     "metadata": {},
     "output_type": "display_data"
    },
    {
     "data": {
      "image/png": "[encoded data removed]",
      "text/plain": [
       "<Figure size 2500x1000 with 2 Axes>"
      ]
     },
     "metadata": {},
     "output_type": "display_data"
    }
   ],
   "source": [
    "#Eksik verilerin görselleştirilmesi\n",
    "plt.figure(figsize=(6, 4)) \n",
    "msno.matrix(df)\n",
    "plt.show()"
   ]
  },
  {
   "cell_type": "markdown",
   "metadata": {},
   "source": [
    "- \"dep_time\",\"dep_delay\",\"arr_time\",\"arr_delay\",\"air_time\" kolonlarındaki eksik verilerin aynı anda oluşmuş olabileceği grafikten görünüyor. Bu durumu sorguladığımızda bu kolonlarda 2440 değerin eksik olduğu görülmektedir."
   ]
  },
  {
   "cell_type": "code",
   "execution_count": 15,
   "metadata": {},
   "outputs": [
    {
     "data": {
      "text/plain": [
       "2440"
      ]
     },
     "execution_count": 15,
     "metadata": {},
     "output_type": "execute_result"
    }
   ],
   "source": [
    "df[[\"dep_time\",\"dep_delay\",\"arr_time\",\"arr_delay\",\"air_time\"]].isnull().all(axis=1).sum()\n"
   ]
  },
  {
   "cell_type": "code",
   "execution_count": 16,
   "metadata": {},
   "outputs": [
    {
     "name": "stdout",
     "output_type": "stream",
     "text": [
      "Aynı anda eksik olan değişkenlerin tüm veri setine oranı %2.20'dir.\n"
     ]
    }
   ],
   "source": [
    "simultaneus_missing_data = df[[\"dep_time\",\"dep_delay\",\"arr_time\",\"arr_delay\",\"air_time\"]].isnull().all(axis=1).sum()\n",
    "ratio = simultaneus_missing_data / len(df) * 100\n",
    "print(f\"Aynı anda eksik olan değişkenlerin tüm veri setine oranı %{ratio:.2f}'dir.\")"
   ]
  },
  {
   "cell_type": "code",
   "execution_count": 17,
   "metadata": {},
   "outputs": [
    {
     "data": {
      "text/plain": [
       "5787"
      ]
     },
     "execution_count": 17,
     "metadata": {},
     "output_type": "execute_result"
    }
   ],
   "source": [
    "#Eksik değer olan toplam satır sayısı veri setinin yaklaşık %5 ine karşılık gelir.\n",
    "df.isnull().any(axis=1).sum()"
   ]
  },
  {
   "cell_type": "code",
   "execution_count": 18,
   "metadata": {},
   "outputs": [
    {
     "data": {
      "text/plain": [
       "5550.3"
      ]
     },
     "execution_count": 18,
     "metadata": {},
     "output_type": "execute_result"
    }
   ],
   "source": [
    "# Genel kabul gören kabul edilebilir eksiklik oranı olan %5' ekarşılık gelen veri sayısı 5550 dir. \n",
    "#Başka bir deyişle eksik verilerde 5550 adet eksikliğe kadar tölaransımız vardır.\n",
    "threshold = len(df) * 0.05\n",
    "threshold"
   ]
  },
  {
   "cell_type": "markdown",
   "metadata": {},
   "source": [
    "\n",
    "**Eksik verileri temizlemeden önce 6. sorunun değerlendirilmesi**\n",
    "\n",
    "6.\tUçuş iptallerinin yüzde kaç olduğunu belirleyip havayoluna göre değişkenliğini gösteriniz?\n",
    "\n",
    "- \"dep_time\",\"dep_delay\",\"arr_time\",\"arr_delay\",\"air_time\" kolonlarında 2440 adet aynı anda meydana gelen eksik veriler yer almaktadır. Uçuş iptalini belirten herhangi bir kolon olmadığı için bu eksiklikleri uçuş iptali olarak kabul ettim.\n",
    "Eksik olan 2440 olan değer veri setinin %2.20'si olduğundan bu sayede uçuş iptallerinin yüzdesini de elde etmiş oldum.\n",
    "- İptaller en çok Alaska Airlines a aittir. Neredeyse toplam iptal edilen uçuşların %50 den fazlasını kapsamaktadır. En az iptal edilen uçuşda Hawaiian Airlines a aittir."
   ]
  },
  {
   "cell_type": "code",
   "execution_count": 19,
   "metadata": {},
   "outputs": [
    {
     "data": {
      "image/png": "[encoded data removed]",
      "text/plain": [
       "<Figure size 640x480 with 1 Axes>"
      ]
     },
     "metadata": {},
     "output_type": "display_data"
    }
   ],
   "source": [
    "missing_df=df.loc[df[[\"dep_time\",\"dep_delay\",\"arr_time\",\"arr_delay\",\"air_time\"]].isnull().all(axis=1),\"airline\"].reset_index()\n",
    "sns.countplot(data=missing_df,x=\"airline\")\n",
    "plt.xticks(rotation=90)\n",
    "plt.show()"
   ]
  },
  {
   "cell_type": "markdown",
   "metadata": {},
   "source": [
    "**Aynı anda eksik olan %2.20 lik verinin veri setinden çıkarılması**"
   ]
  },
  {
   "cell_type": "code",
   "execution_count": 20,
   "metadata": {},
   "outputs": [
    {
     "data": {
      "text/plain": [
       "2440"
      ]
     },
     "execution_count": 20,
     "metadata": {},
     "output_type": "execute_result"
    }
   ],
   "source": [
    "df[[\"dep_time\",\"dep_delay\",\"arr_time\",\"arr_delay\",\"air_time\"]].isnull().all(axis=1).sum()"
   ]
  },
  {
   "cell_type": "code",
   "execution_count": 21,
   "metadata": {},
   "outputs": [],
   "source": [
    "df.dropna(subset=[\"dep_time\", \"dep_delay\", \"arr_time\", \"arr_delay\", \"air_time\"], how=\"all\", inplace=True)"
   ]
  },
  {
   "cell_type": "markdown",
   "metadata": {},
   "source": [
    "-  Bu eksik veriler veri setinin  %2.20 sinde meydana gelmiştir. Genelde kabul gören yaklaşım eksik veriler veri setinin %5'inden fazla değilse silinmesinde sakınca olmayabilir. Ayrıca aynı anda olan eksiklik aynı anda bilgi kaybı demektir. Eksik verileri doldurma yoluna gidersek bir çok değişkeni aynı anda tahmin etmemiz gerekicek buda yanıltıcı sonuçlara yol açabilir.\n",
    "-  Eksik verilerin aynı olanlarını çıkardıktan sonra arr_time değişkeninde 97 tane arr_delay değişkeninde 234 tane, airtime değişkeninde yine 234 eksik veri kalmıştır. Bu değerlerde çok küçük bir oranda kaldığından bunlarıda veri setinden çıkardım."
   ]
  },
  {
   "cell_type": "code",
   "execution_count": 22,
   "metadata": {},
   "outputs": [
    {
     "data": {
      "text/plain": [
       "year                 0\n",
       "month                0\n",
       "day                  0\n",
       "dep_time             0\n",
       "sched_dep_time       0\n",
       "dep_delay            0\n",
       "arr_time            97\n",
       "sched_arr_time       0\n",
       "arr_delay          234\n",
       "carrier              0\n",
       "flight               0\n",
       "tailnum              0\n",
       "origin               0\n",
       "dest                 0\n",
       "air_time           234\n",
       "distance             0\n",
       "hour                 0\n",
       "minute               0\n",
       "airline              0\n",
       "route                0\n",
       "temp                 0\n",
       "dewp                 0\n",
       "humid                0\n",
       "wind_dir          3116\n",
       "wind_speed         274\n",
       "wind_gust          274\n",
       "precip               0\n",
       "pressure             0\n",
       "visib                0\n",
       "dtype: int64"
      ]
     },
     "execution_count": 22,
     "metadata": {},
     "output_type": "execute_result"
    }
   ],
   "source": [
    "df.isnull().sum()"
   ]
  },
  {
   "cell_type": "code",
   "execution_count": 23,
   "metadata": {},
   "outputs": [],
   "source": [
    "df.dropna(subset=[\"arr_time\", \"arr_delay\", \"air_time\"], inplace=True)"
   ]
  },
  {
   "cell_type": "markdown",
   "metadata": {},
   "source": [
    "- tailnum eksik olan değerlerde bu işlemler sonucu silinmiştir."
   ]
  },
  {
   "cell_type": "code",
   "execution_count": 24,
   "metadata": {},
   "outputs": [
    {
     "data": {
      "text/plain": [
       "year                 0\n",
       "month                0\n",
       "day                  0\n",
       "dep_time             0\n",
       "sched_dep_time       0\n",
       "dep_delay            0\n",
       "arr_time             0\n",
       "sched_arr_time       0\n",
       "arr_delay            0\n",
       "carrier              0\n",
       "flight               0\n",
       "tailnum              0\n",
       "origin               0\n",
       "dest                 0\n",
       "air_time             0\n",
       "distance             0\n",
       "hour                 0\n",
       "minute               0\n",
       "airline              0\n",
       "route                0\n",
       "temp                 0\n",
       "dewp                 0\n",
       "humid                0\n",
       "wind_dir          3113\n",
       "wind_speed         273\n",
       "wind_gust          273\n",
       "precip               0\n",
       "pressure             0\n",
       "visib                0\n",
       "dtype: int64"
      ]
     },
     "execution_count": 24,
     "metadata": {},
     "output_type": "execute_result"
    }
   ],
   "source": [
    "df.isnull().sum()"
   ]
  },
  {
   "cell_type": "markdown",
   "metadata": {},
   "source": [
    "**Hava durumu verilerinden wind_dir, wind_speed ve wind_gust eksik verilerinin doldurulması**\n",
    "- Rüzgar yönünü ifade eden wind_dir değişkeni veri setinin %2.87'sini oluşturmaktadır. Bu eksikliğin tek bir değişkende olması ve hava olayını ifade etmesinden dolayı ilave %2.87 lik veri kaybetmek istemediğimden bu değerlerin doldurulmasını daha faydalı buldum. Aynı metodu rüzgar hızını ifade eden wind_speed ve wind_gust değişkenleri içinde uygulayacağım. Doldurma işlemi için verileri tarihe göre sıralayıp ffill uygulayacağım. Bu sayede hava durumu verileri en yakın tarihteki veriler ile doldurulmuş olacaktır.\n"
   ]
  },
  {
   "cell_type": "code",
   "execution_count": 25,
   "metadata": {},
   "outputs": [
    {
     "name": "stdout",
     "output_type": "stream",
     "text": [
      "Eksik olan wind_dir değişkeninin tüm veri setine oranı %2.87'dir.\n"
     ]
    }
   ],
   "source": [
    "wind_dir=df[\"wind_dir\"].isnull().sum()\n",
    "ratio_wind = wind_dir/len(df) * 100\n",
    "print(f\"Eksik olan wind_dir değişkeninin tüm veri setine oranı %{ratio_wind:.2f}'dir.\")"
   ]
  },
  {
   "cell_type": "markdown",
   "metadata": {},
   "source": [
    "**Tarih Kolonlarının düzeltilip aynı formata getirilmesi**\n",
    "- Burada amacım bozuk yapıda olan ve tarih ifade eden dep_time, sched_dep_time, arr_timeve sched_arr_time değişkenlerini yıl,ay,gün,saat ve dakika şeklinde aynı formata getirmektir.\n",
    "- Ayrıca günün tarihini ifade eden yıl, ay, gün şeklinde ilave genel bir date değişken oluşturdum. "
   ]
  },
  {
   "cell_type": "markdown",
   "metadata": {},
   "source": [
    "- date değişkeninin oluşturulması"
   ]
  },
  {
   "cell_type": "code",
   "execution_count": 26,
   "metadata": {},
   "outputs": [],
   "source": [
    "df[\"date\"] = pd.to_datetime(df[[\"year\",\"month\",\"day\"]])"
   ]
  },
  {
   "cell_type": "markdown",
   "metadata": {},
   "source": [
    "- Oluşturduğum date değişkenini dep_time,arr_time, sched_dep_time ve sched_arr_time değişkenleri ile birleştirip bir timestamp elde etmek için string formata çevirdim"
   ]
  },
  {
   "cell_type": "code",
   "execution_count": 27,
   "metadata": {},
   "outputs": [],
   "source": [
    "df[\"date_string\"] = df[\"date\"].astype(str).str.replace(\"-\",\"\")"
   ]
  },
  {
   "cell_type": "markdown",
   "metadata": {},
   "source": [
    "- dep_time ve arr_time değişkenleri float sched_dep_time ve sched_arr_time integerdır. Zfill ile bu değerleri aynı formatta saat ve dakika stringine dönüştürdüm. float veri tipleri için extra integer dönüşümü uyguladım"
   ]
  },
  {
   "cell_type": "code",
   "execution_count": 28,
   "metadata": {},
   "outputs": [],
   "source": [
    "# dep_time ve arr_time değişkenleri float sched_dep_time ve sched_arr_time integerdır. Zfill ile bu değerleri aynı formatta saat ve dakika stringine dönüştürdüm. float veri tipleri için extra integer dönüşümü uyguladım\n",
    "df[\"dep_time\"] = df[\"dep_time\"].astype(int).astype(str).str.zfill(4)\n",
    "df[\"sched_dep_time\"] = df[\"sched_dep_time\"].astype(str).str.zfill(4)\n",
    "df[\"arr_time\"] = df[\"arr_time\"].astype(int).astype(str).str.zfill(4)\n",
    "df[\"sched_arr_time\"] = df[\"sched_arr_time\"].astype(str).str.zfill(4)\n"
   ]
  },
  {
   "cell_type": "markdown",
   "metadata": {},
   "source": [
    "- dep_time,arr_time, sched_dep_time ve sched_arr_time değişkenlerini date_string ile birleştirerek aynı yapıda yıl,ay,gün,hour, minute şeklinde aynı tarih yapısına getirdim ve tekrar datetime oluşturdum.\n",
    "- sched_dep_time ve sched_arr_time verileri düzgün bir şekilde dönüştürüldü. Fakat dep_time ve arr_time verilerinde 0000 şeklinde olması gereken saat dakika verisi 2400 şeklinde yanlış yazılmış. \n",
    "- Bu nedenden dolayı format hatası oluştu 2400 olan verileri 0000 şekline dönüştürünce hata giderildi.\n",
    "- Diğer bir çok önemli noktayı tarih verilerinden delay_time ı hesaplayıp orjinal değer ile kıyaslarken farkettim. saati 2400 dan 0000 yaptığımız zaman aynı anda günüde bir ileri atlatmamız gerekiyor.\n",
    "- Bu şekilde sorunsuz bir şekilde datatime dönüşümlerini tamamladım."
   ]
  },
  {
   "cell_type": "code",
   "execution_count": 29,
   "metadata": {},
   "outputs": [],
   "source": [
    "# sched_dep_time ve sched_arr_time dönüşümü\n",
    "df[\"sched_dep_time\"] = df[\"date_string\"].str.cat(df[\"sched_dep_time\"])\n",
    "df[\"sched_dep_time\"] = pd.to_datetime(df[\"sched_dep_time\"],format=\"%Y%m%d%H%M\")\n",
    "\n",
    "df[\"sched_arr_time\"] = df[\"date_string\"].str.cat(df[\"sched_arr_time\"])\n",
    "df[\"sched_arr_time\"] = pd.to_datetime(df[\"sched_arr_time\"],format=\"%Y%m%d%H%M\")\n",
    "\n",
    "# dep_time ve arr_time dönüşümü\n",
    "df[\"dep_time\"] = df[\"dep_time\"].replace({\"2400\":\"0000\"})\n",
    "df[\"dep_time\"] = df[\"date_string\"].str.cat(df[\"dep_time\"])\n",
    "df[\"dep_time\"] = pd.to_datetime(df[\"dep_time\"],format=\"%Y%m%d%H%M\")\n",
    "# datetime a dönüştürdükten sonra eğer saat 0 ise güne timedelta nesnesi ile 1 gün ilave ediyoruz.\n",
    "df.loc[df[\"dep_time\"].dt.hour == 0, \"dep_time\"] += pd.Timedelta(days=1)\n",
    "\n",
    "df[\"arr_time\"] = df[\"arr_time\"].replace({\"2400\":\"0000\"})\n",
    "df[\"arr_time\"] = df[\"date_string\"].str.cat(df[\"arr_time\"])\n",
    "df[\"arr_time\"] = pd.to_datetime(df[\"arr_time\"],format=\"%Y%m%d%H%M\")\n",
    "df.loc[df[\"arr_time\"].dt.hour == 0, \"arr_time\"] += pd.Timedelta(days=1)\n"
   ]
  },
  {
   "cell_type": "code",
   "execution_count": 30,
   "metadata": {},
   "outputs": [
    {
     "data": {
      "text/plain": [
       "Index(['dep_time', 'sched_dep_time', 'arr_time', 'sched_arr_time', 'date'], dtype='object')"
      ]
     },
     "execution_count": 30,
     "metadata": {},
     "output_type": "execute_result"
    }
   ],
   "source": [
    "# Datetime dönüşümü uygulanan kolonların kontrolü\n",
    "df.select_dtypes(include=[\"datetime64\"]).columns"
   ]
  },
  {
   "cell_type": "markdown",
   "metadata": {},
   "source": [
    "**Eksik olan wind_dir,wind_speed, wind_gust değerlerinin ffill ile doldurulması ve temmuz ayına sarkan son 10 artık verinin kaldırılması**\n",
    "- Burada verileri yıl,ay,gün, saat , dakika içeren kalkış zamanına göre sıraladım(dep_time). Bu sayede ffill uygularken en yakın değerleri dakika bazında almış oldum kalan eksik bir sonraki wind verisi ile verileri doldurdum.\n",
    "- Sıralama işlemi sonrasında en alttan 10 değeri incelediğimde temmuz ayına sarktığını gördüm çünkü yukarıda 1 gün ilave etmiştik. Bu değerler sadece 10 adet olduğundan dolayı bunlarıda sildim.\n"
   ]
  },
  {
   "cell_type": "code",
   "execution_count": 31,
   "metadata": {},
   "outputs": [
    {
     "data": {
      "text/html": [
       "<div>\n",
       "<style scoped>\n",
       "    .dataframe tbody tr th:only-of-type {\n",
       "        vertical-align: middle;\n",
       "    }\n",
       "\n",
       "    .dataframe tbody tr th {\n",
       "        vertical-align: top;\n",
       "    }\n",
       "\n",
       "    .dataframe thead th {\n",
       "        text-align: right;\n",
       "    }\n",
       "</style>\n",
       "<table border=\"1\" class=\"dataframe\">\n",
       "  <thead>\n",
       "    <tr style=\"text-align: right;\">\n",
       "      <th></th>\n",
       "      <th>year</th>\n",
       "      <th>month</th>\n",
       "      <th>day</th>\n",
       "      <th>dep_time</th>\n",
       "      <th>sched_dep_time</th>\n",
       "      <th>dep_delay</th>\n",
       "      <th>arr_time</th>\n",
       "      <th>sched_arr_time</th>\n",
       "      <th>arr_delay</th>\n",
       "      <th>carrier</th>\n",
       "      <th>flight</th>\n",
       "      <th>tailnum</th>\n",
       "      <th>origin</th>\n",
       "      <th>dest</th>\n",
       "      <th>air_time</th>\n",
       "      <th>distance</th>\n",
       "      <th>hour</th>\n",
       "      <th>minute</th>\n",
       "      <th>airline</th>\n",
       "      <th>route</th>\n",
       "      <th>temp</th>\n",
       "      <th>dewp</th>\n",
       "      <th>humid</th>\n",
       "      <th>wind_dir</th>\n",
       "      <th>wind_speed</th>\n",
       "      <th>wind_gust</th>\n",
       "      <th>precip</th>\n",
       "      <th>pressure</th>\n",
       "      <th>visib</th>\n",
       "      <th>date</th>\n",
       "      <th>date_string</th>\n",
       "    </tr>\n",
       "  </thead>\n",
       "  <tbody>\n",
       "    <tr>\n",
       "      <th>108320</th>\n",
       "      <td>2022</td>\n",
       "      <td>6</td>\n",
       "      <td>30</td>\n",
       "      <td>2022-06-30 23:53:00</td>\n",
       "      <td>2022-06-30 23:56:00</td>\n",
       "      <td>-3.0</td>\n",
       "      <td>2022-06-30 07:22:00</td>\n",
       "      <td>2022-06-30 07:31:00</td>\n",
       "      <td>-9.0</td>\n",
       "      <td>DL</td>\n",
       "      <td>841</td>\n",
       "      <td>N838DN</td>\n",
       "      <td>PDX</td>\n",
       "      <td>ATL</td>\n",
       "      <td>253.0</td>\n",
       "      <td>2172</td>\n",
       "      <td>23</td>\n",
       "      <td>56</td>\n",
       "      <td>Delta Air Lines Inc.</td>\n",
       "      <td>PDX-ATL</td>\n",
       "      <td>81.0</td>\n",
       "      <td>54.0</td>\n",
       "      <td>39.37</td>\n",
       "      <td>330.0</td>\n",
       "      <td>8.05546</td>\n",
       "      <td>9.270062</td>\n",
       "      <td>0.0</td>\n",
       "      <td>1016.4</td>\n",
       "      <td>10.0</td>\n",
       "      <td>2022-06-30</td>\n",
       "      <td>20220630</td>\n",
       "    </tr>\n",
       "    <tr>\n",
       "      <th>108321</th>\n",
       "      <td>2022</td>\n",
       "      <td>6</td>\n",
       "      <td>30</td>\n",
       "      <td>2022-06-30 23:59:00</td>\n",
       "      <td>2022-06-30 23:59:00</td>\n",
       "      <td>0.0</td>\n",
       "      <td>2022-06-30 05:52:00</td>\n",
       "      <td>2022-06-30 06:08:00</td>\n",
       "      <td>-16.0</td>\n",
       "      <td>UA</td>\n",
       "      <td>603</td>\n",
       "      <td>N31412</td>\n",
       "      <td>PDX</td>\n",
       "      <td>IAH</td>\n",
       "      <td>217.0</td>\n",
       "      <td>1825</td>\n",
       "      <td>23</td>\n",
       "      <td>59</td>\n",
       "      <td>United Air Lines Inc.</td>\n",
       "      <td>PDX-IAH</td>\n",
       "      <td>81.0</td>\n",
       "      <td>54.0</td>\n",
       "      <td>39.37</td>\n",
       "      <td>330.0</td>\n",
       "      <td>8.05546</td>\n",
       "      <td>9.270062</td>\n",
       "      <td>0.0</td>\n",
       "      <td>1016.4</td>\n",
       "      <td>10.0</td>\n",
       "      <td>2022-06-30</td>\n",
       "      <td>20220630</td>\n",
       "    </tr>\n",
       "    <tr>\n",
       "      <th>108322</th>\n",
       "      <td>2022</td>\n",
       "      <td>6</td>\n",
       "      <td>30</td>\n",
       "      <td>2022-07-01 00:00:00</td>\n",
       "      <td>2022-06-30 23:58:00</td>\n",
       "      <td>2.0</td>\n",
       "      <td>2022-06-30 07:47:00</td>\n",
       "      <td>2022-06-30 07:58:00</td>\n",
       "      <td>-11.0</td>\n",
       "      <td>AA</td>\n",
       "      <td>830</td>\n",
       "      <td>N916US</td>\n",
       "      <td>SEA</td>\n",
       "      <td>CLT</td>\n",
       "      <td>256.0</td>\n",
       "      <td>2279</td>\n",
       "      <td>23</td>\n",
       "      <td>58</td>\n",
       "      <td>American Airlines Inc.</td>\n",
       "      <td>SEA-CLT</td>\n",
       "      <td>75.0</td>\n",
       "      <td>47.0</td>\n",
       "      <td>36.87</td>\n",
       "      <td>10.0</td>\n",
       "      <td>10.35702</td>\n",
       "      <td>11.918651</td>\n",
       "      <td>0.0</td>\n",
       "      <td>1019.4</td>\n",
       "      <td>10.0</td>\n",
       "      <td>2022-06-30</td>\n",
       "      <td>20220630</td>\n",
       "    </tr>\n",
       "    <tr>\n",
       "      <th>108323</th>\n",
       "      <td>2022</td>\n",
       "      <td>6</td>\n",
       "      <td>30</td>\n",
       "      <td>2022-07-01 00:01:00</td>\n",
       "      <td>2022-06-30 21:35:00</td>\n",
       "      <td>146.0</td>\n",
       "      <td>2022-06-30 01:42:00</td>\n",
       "      <td>2022-06-30 23:20:00</td>\n",
       "      <td>142.0</td>\n",
       "      <td>WN</td>\n",
       "      <td>792</td>\n",
       "      <td>N480WN</td>\n",
       "      <td>PDX</td>\n",
       "      <td>OAK</td>\n",
       "      <td>83.0</td>\n",
       "      <td>543</td>\n",
       "      <td>21</td>\n",
       "      <td>35</td>\n",
       "      <td>Southwest Airlines Co.</td>\n",
       "      <td>PDX-OAK</td>\n",
       "      <td>76.0</td>\n",
       "      <td>54.0</td>\n",
       "      <td>46.57</td>\n",
       "      <td>270.0</td>\n",
       "      <td>8.05546</td>\n",
       "      <td>9.270062</td>\n",
       "      <td>0.0</td>\n",
       "      <td>1017.6</td>\n",
       "      <td>10.0</td>\n",
       "      <td>2022-06-30</td>\n",
       "      <td>20220630</td>\n",
       "    </tr>\n",
       "    <tr>\n",
       "      <th>108324</th>\n",
       "      <td>2022</td>\n",
       "      <td>6</td>\n",
       "      <td>30</td>\n",
       "      <td>2022-07-01 00:01:00</td>\n",
       "      <td>2022-06-30 23:32:00</td>\n",
       "      <td>29.0</td>\n",
       "      <td>2022-06-30 05:45:00</td>\n",
       "      <td>2022-06-30 05:21:00</td>\n",
       "      <td>24.0</td>\n",
       "      <td>AA</td>\n",
       "      <td>348</td>\n",
       "      <td>N940NN</td>\n",
       "      <td>PDX</td>\n",
       "      <td>ORD</td>\n",
       "      <td>193.0</td>\n",
       "      <td>1739</td>\n",
       "      <td>23</td>\n",
       "      <td>32</td>\n",
       "      <td>American Airlines Inc.</td>\n",
       "      <td>PDX-ORD</td>\n",
       "      <td>81.0</td>\n",
       "      <td>54.0</td>\n",
       "      <td>39.37</td>\n",
       "      <td>330.0</td>\n",
       "      <td>8.05546</td>\n",
       "      <td>9.270062</td>\n",
       "      <td>0.0</td>\n",
       "      <td>1016.4</td>\n",
       "      <td>10.0</td>\n",
       "      <td>2022-06-30</td>\n",
       "      <td>20220630</td>\n",
       "    </tr>\n",
       "    <tr>\n",
       "      <th>108325</th>\n",
       "      <td>2022</td>\n",
       "      <td>6</td>\n",
       "      <td>30</td>\n",
       "      <td>2022-07-01 00:10:00</td>\n",
       "      <td>2022-06-30 00:15:00</td>\n",
       "      <td>-5.0</td>\n",
       "      <td>2022-06-30 05:14:00</td>\n",
       "      <td>2022-06-30 05:33:00</td>\n",
       "      <td>-19.0</td>\n",
       "      <td>DL</td>\n",
       "      <td>282</td>\n",
       "      <td>N341DN</td>\n",
       "      <td>PDX</td>\n",
       "      <td>MSP</td>\n",
       "      <td>161.0</td>\n",
       "      <td>1426</td>\n",
       "      <td>0</td>\n",
       "      <td>15</td>\n",
       "      <td>Delta Air Lines Inc.</td>\n",
       "      <td>PDX-MSP</td>\n",
       "      <td>74.0</td>\n",
       "      <td>55.0</td>\n",
       "      <td>51.64</td>\n",
       "      <td>320.0</td>\n",
       "      <td>10.35702</td>\n",
       "      <td>11.918651</td>\n",
       "      <td>0.0</td>\n",
       "      <td>1019.2</td>\n",
       "      <td>10.0</td>\n",
       "      <td>2022-06-30</td>\n",
       "      <td>20220630</td>\n",
       "    </tr>\n",
       "    <tr>\n",
       "      <th>108326</th>\n",
       "      <td>2022</td>\n",
       "      <td>6</td>\n",
       "      <td>30</td>\n",
       "      <td>2022-07-01 00:13:00</td>\n",
       "      <td>2022-06-30 00:05:00</td>\n",
       "      <td>8.0</td>\n",
       "      <td>2022-06-30 05:44:00</td>\n",
       "      <td>2022-06-30 06:02:00</td>\n",
       "      <td>-18.0</td>\n",
       "      <td>UA</td>\n",
       "      <td>501</td>\n",
       "      <td>N73259</td>\n",
       "      <td>PDX</td>\n",
       "      <td>ORD</td>\n",
       "      <td>189.0</td>\n",
       "      <td>1739</td>\n",
       "      <td>0</td>\n",
       "      <td>5</td>\n",
       "      <td>United Air Lines Inc.</td>\n",
       "      <td>PDX-ORD</td>\n",
       "      <td>74.0</td>\n",
       "      <td>55.0</td>\n",
       "      <td>51.64</td>\n",
       "      <td>320.0</td>\n",
       "      <td>10.35702</td>\n",
       "      <td>11.918651</td>\n",
       "      <td>0.0</td>\n",
       "      <td>1019.2</td>\n",
       "      <td>10.0</td>\n",
       "      <td>2022-06-30</td>\n",
       "      <td>20220630</td>\n",
       "    </tr>\n",
       "    <tr>\n",
       "      <th>108327</th>\n",
       "      <td>2022</td>\n",
       "      <td>6</td>\n",
       "      <td>30</td>\n",
       "      <td>2022-07-01 00:17:00</td>\n",
       "      <td>2022-06-30 23:59:00</td>\n",
       "      <td>18.0</td>\n",
       "      <td>2022-06-30 05:48:00</td>\n",
       "      <td>2022-06-30 05:57:00</td>\n",
       "      <td>-9.0</td>\n",
       "      <td>UA</td>\n",
       "      <td>782</td>\n",
       "      <td>N39461</td>\n",
       "      <td>SEA</td>\n",
       "      <td>ORD</td>\n",
       "      <td>192.0</td>\n",
       "      <td>1721</td>\n",
       "      <td>23</td>\n",
       "      <td>59</td>\n",
       "      <td>United Air Lines Inc.</td>\n",
       "      <td>SEA-ORD</td>\n",
       "      <td>75.0</td>\n",
       "      <td>47.0</td>\n",
       "      <td>36.87</td>\n",
       "      <td>10.0</td>\n",
       "      <td>10.35702</td>\n",
       "      <td>11.918651</td>\n",
       "      <td>0.0</td>\n",
       "      <td>1019.4</td>\n",
       "      <td>10.0</td>\n",
       "      <td>2022-06-30</td>\n",
       "      <td>20220630</td>\n",
       "    </tr>\n",
       "    <tr>\n",
       "      <th>108328</th>\n",
       "      <td>2022</td>\n",
       "      <td>6</td>\n",
       "      <td>30</td>\n",
       "      <td>2022-07-01 00:24:00</td>\n",
       "      <td>2022-06-30 00:30:00</td>\n",
       "      <td>-6.0</td>\n",
       "      <td>2022-06-30 03:03:00</td>\n",
       "      <td>2022-06-30 03:00:00</td>\n",
       "      <td>3.0</td>\n",
       "      <td>AS</td>\n",
       "      <td>88</td>\n",
       "      <td>N615AS</td>\n",
       "      <td>SEA</td>\n",
       "      <td>ANC</td>\n",
       "      <td>190.0</td>\n",
       "      <td>1448</td>\n",
       "      <td>0</td>\n",
       "      <td>30</td>\n",
       "      <td>Alaska Airlines Inc.</td>\n",
       "      <td>SEA-ANC</td>\n",
       "      <td>68.0</td>\n",
       "      <td>50.0</td>\n",
       "      <td>52.51</td>\n",
       "      <td>NaN</td>\n",
       "      <td>6.90468</td>\n",
       "      <td>7.945768</td>\n",
       "      <td>0.0</td>\n",
       "      <td>1021.9</td>\n",
       "      <td>10.0</td>\n",
       "      <td>2022-06-30</td>\n",
       "      <td>20220630</td>\n",
       "    </tr>\n",
       "    <tr>\n",
       "      <th>108329</th>\n",
       "      <td>2022</td>\n",
       "      <td>6</td>\n",
       "      <td>30</td>\n",
       "      <td>2022-07-01 00:25:00</td>\n",
       "      <td>2022-06-30 00:30:00</td>\n",
       "      <td>-5.0</td>\n",
       "      <td>2022-06-30 06:02:00</td>\n",
       "      <td>2022-06-30 06:27:00</td>\n",
       "      <td>-25.0</td>\n",
       "      <td>UA</td>\n",
       "      <td>505</td>\n",
       "      <td>N27213</td>\n",
       "      <td>PDX</td>\n",
       "      <td>ORD</td>\n",
       "      <td>199.0</td>\n",
       "      <td>1739</td>\n",
       "      <td>0</td>\n",
       "      <td>30</td>\n",
       "      <td>United Air Lines Inc.</td>\n",
       "      <td>PDX-ORD</td>\n",
       "      <td>74.0</td>\n",
       "      <td>55.0</td>\n",
       "      <td>51.64</td>\n",
       "      <td>320.0</td>\n",
       "      <td>10.35702</td>\n",
       "      <td>11.918651</td>\n",
       "      <td>0.0</td>\n",
       "      <td>1019.2</td>\n",
       "      <td>10.0</td>\n",
       "      <td>2022-06-30</td>\n",
       "      <td>20220630</td>\n",
       "    </tr>\n",
       "    <tr>\n",
       "      <th>108330</th>\n",
       "      <td>2022</td>\n",
       "      <td>6</td>\n",
       "      <td>30</td>\n",
       "      <td>2022-07-01 00:30:00</td>\n",
       "      <td>2022-06-30 00:30:00</td>\n",
       "      <td>0.0</td>\n",
       "      <td>2022-06-30 05:31:00</td>\n",
       "      <td>2022-06-30 05:43:00</td>\n",
       "      <td>-12.0</td>\n",
       "      <td>DL</td>\n",
       "      <td>271</td>\n",
       "      <td>N847DN</td>\n",
       "      <td>SEA</td>\n",
       "      <td>MSP</td>\n",
       "      <td>161.0</td>\n",
       "      <td>1399</td>\n",
       "      <td>0</td>\n",
       "      <td>30</td>\n",
       "      <td>Delta Air Lines Inc.</td>\n",
       "      <td>SEA-MSP</td>\n",
       "      <td>68.0</td>\n",
       "      <td>50.0</td>\n",
       "      <td>52.51</td>\n",
       "      <td>NaN</td>\n",
       "      <td>6.90468</td>\n",
       "      <td>7.945768</td>\n",
       "      <td>0.0</td>\n",
       "      <td>1021.9</td>\n",
       "      <td>10.0</td>\n",
       "      <td>2022-06-30</td>\n",
       "      <td>20220630</td>\n",
       "    </tr>\n",
       "    <tr>\n",
       "      <th>108331</th>\n",
       "      <td>2022</td>\n",
       "      <td>6</td>\n",
       "      <td>30</td>\n",
       "      <td>2022-07-01 00:37:00</td>\n",
       "      <td>2022-06-30 00:45:00</td>\n",
       "      <td>-8.0</td>\n",
       "      <td>2022-06-30 08:37:00</td>\n",
       "      <td>2022-06-30 08:52:00</td>\n",
       "      <td>-15.0</td>\n",
       "      <td>UA</td>\n",
       "      <td>431</td>\n",
       "      <td>N12218</td>\n",
       "      <td>SEA</td>\n",
       "      <td>EWR</td>\n",
       "      <td>269.0</td>\n",
       "      <td>2402</td>\n",
       "      <td>0</td>\n",
       "      <td>45</td>\n",
       "      <td>United Air Lines Inc.</td>\n",
       "      <td>SEA-EWR</td>\n",
       "      <td>68.0</td>\n",
       "      <td>50.0</td>\n",
       "      <td>52.51</td>\n",
       "      <td>NaN</td>\n",
       "      <td>6.90468</td>\n",
       "      <td>7.945768</td>\n",
       "      <td>0.0</td>\n",
       "      <td>1021.9</td>\n",
       "      <td>10.0</td>\n",
       "      <td>2022-06-30</td>\n",
       "      <td>20220630</td>\n",
       "    </tr>\n",
       "  </tbody>\n",
       "</table>\n",
       "</div>"
      ],
      "text/plain": [
       "        year  month  day            dep_time      sched_dep_time  dep_delay  \\\n",
       "108320  2022      6   30 2022-06-30 23:53:00 2022-06-30 23:56:00       -3.0   \n",
       "108321  2022      6   30 2022-06-30 23:59:00 2022-06-30 23:59:00        0.0   \n",
       "108322  2022      6   30 2022-07-01 00:00:00 2022-06-30 23:58:00        2.0   \n",
       "108323  2022      6   30 2022-07-01 00:01:00 2022-06-30 21:35:00      146.0   \n",
       "108324  2022      6   30 2022-07-01 00:01:00 2022-06-30 23:32:00       29.0   \n",
       "108325  2022      6   30 2022-07-01 00:10:00 2022-06-30 00:15:00       -5.0   \n",
       "108326  2022      6   30 2022-07-01 00:13:00 2022-06-30 00:05:00        8.0   \n",
       "108327  2022      6   30 2022-07-01 00:17:00 2022-06-30 23:59:00       18.0   \n",
       "108328  2022      6   30 2022-07-01 00:24:00 2022-06-30 00:30:00       -6.0   \n",
       "108329  2022      6   30 2022-07-01 00:25:00 2022-06-30 00:30:00       -5.0   \n",
       "108330  2022      6   30 2022-07-01 00:30:00 2022-06-30 00:30:00        0.0   \n",
       "108331  2022      6   30 2022-07-01 00:37:00 2022-06-30 00:45:00       -8.0   \n",
       "\n",
       "                  arr_time      sched_arr_time  arr_delay carrier  flight  \\\n",
       "108320 2022-06-30 07:22:00 2022-06-30 07:31:00       -9.0      DL     841   \n",
       "108321 2022-06-30 05:52:00 2022-06-30 06:08:00      -16.0      UA     603   \n",
       "108322 2022-06-30 07:47:00 2022-06-30 07:58:00      -11.0      AA     830   \n",
       "108323 2022-06-30 01:42:00 2022-06-30 23:20:00      142.0      WN     792   \n",
       "108324 2022-06-30 05:45:00 2022-06-30 05:21:00       24.0      AA     348   \n",
       "108325 2022-06-30 05:14:00 2022-06-30 05:33:00      -19.0      DL     282   \n",
       "108326 2022-06-30 05:44:00 2022-06-30 06:02:00      -18.0      UA     501   \n",
       "108327 2022-06-30 05:48:00 2022-06-30 05:57:00       -9.0      UA     782   \n",
       "108328 2022-06-30 03:03:00 2022-06-30 03:00:00        3.0      AS      88   \n",
       "108329 2022-06-30 06:02:00 2022-06-30 06:27:00      -25.0      UA     505   \n",
       "108330 2022-06-30 05:31:00 2022-06-30 05:43:00      -12.0      DL     271   \n",
       "108331 2022-06-30 08:37:00 2022-06-30 08:52:00      -15.0      UA     431   \n",
       "\n",
       "       tailnum origin dest  air_time  distance  hour  minute  \\\n",
       "108320  N838DN    PDX  ATL     253.0      2172    23      56   \n",
       "108321  N31412    PDX  IAH     217.0      1825    23      59   \n",
       "108322  N916US    SEA  CLT     256.0      2279    23      58   \n",
       "108323  N480WN    PDX  OAK      83.0       543    21      35   \n",
       "108324  N940NN    PDX  ORD     193.0      1739    23      32   \n",
       "108325  N341DN    PDX  MSP     161.0      1426     0      15   \n",
       "108326  N73259    PDX  ORD     189.0      1739     0       5   \n",
       "108327  N39461    SEA  ORD     192.0      1721    23      59   \n",
       "108328  N615AS    SEA  ANC     190.0      1448     0      30   \n",
       "108329  N27213    PDX  ORD     199.0      1739     0      30   \n",
       "108330  N847DN    SEA  MSP     161.0      1399     0      30   \n",
       "108331  N12218    SEA  EWR     269.0      2402     0      45   \n",
       "\n",
       "                       airline    route  temp  dewp  humid  wind_dir  \\\n",
       "108320    Delta Air Lines Inc.  PDX-ATL  81.0  54.0  39.37     330.0   \n",
       "108321   United Air Lines Inc.  PDX-IAH  81.0  54.0  39.37     330.0   \n",
       "108322  American Airlines Inc.  SEA-CLT  75.0  47.0  36.87      10.0   \n",
       "108323  Southwest Airlines Co.  PDX-OAK  76.0  54.0  46.57     270.0   \n",
       "108324  American Airlines Inc.  PDX-ORD  81.0  54.0  39.37     330.0   \n",
       "108325    Delta Air Lines Inc.  PDX-MSP  74.0  55.0  51.64     320.0   \n",
       "108326   United Air Lines Inc.  PDX-ORD  74.0  55.0  51.64     320.0   \n",
       "108327   United Air Lines Inc.  SEA-ORD  75.0  47.0  36.87      10.0   \n",
       "108328    Alaska Airlines Inc.  SEA-ANC  68.0  50.0  52.51       NaN   \n",
       "108329   United Air Lines Inc.  PDX-ORD  74.0  55.0  51.64     320.0   \n",
       "108330    Delta Air Lines Inc.  SEA-MSP  68.0  50.0  52.51       NaN   \n",
       "108331   United Air Lines Inc.  SEA-EWR  68.0  50.0  52.51       NaN   \n",
       "\n",
       "        wind_speed  wind_gust  precip  pressure  visib       date date_string  \n",
       "108320     8.05546   9.270062     0.0    1016.4   10.0 2022-06-30    20220630  \n",
       "108321     8.05546   9.270062     0.0    1016.4   10.0 2022-06-30    20220630  \n",
       "108322    10.35702  11.918651     0.0    1019.4   10.0 2022-06-30    20220630  \n",
       "108323     8.05546   9.270062     0.0    1017.6   10.0 2022-06-30    20220630  \n",
       "108324     8.05546   9.270062     0.0    1016.4   10.0 2022-06-30    20220630  \n",
       "108325    10.35702  11.918651     0.0    1019.2   10.0 2022-06-30    20220630  \n",
       "108326    10.35702  11.918651     0.0    1019.2   10.0 2022-06-30    20220630  \n",
       "108327    10.35702  11.918651     0.0    1019.4   10.0 2022-06-30    20220630  \n",
       "108328     6.90468   7.945768     0.0    1021.9   10.0 2022-06-30    20220630  \n",
       "108329    10.35702  11.918651     0.0    1019.2   10.0 2022-06-30    20220630  \n",
       "108330     6.90468   7.945768     0.0    1021.9   10.0 2022-06-30    20220630  \n",
       "108331     6.90468   7.945768     0.0    1021.9   10.0 2022-06-30    20220630  "
      ]
     },
     "execution_count": 31,
     "metadata": {},
     "output_type": "execute_result"
    }
   ],
   "source": [
    "df = df.sort_values(\"dep_time\").reset_index(drop=True)\n",
    "df.tail(12)"
   ]
  },
  {
   "cell_type": "markdown",
   "metadata": {},
   "source": [
    "**son 10 temmuz verisinin çıkarılması**"
   ]
  },
  {
   "cell_type": "code",
   "execution_count": 32,
   "metadata": {},
   "outputs": [],
   "source": [
    "df = df.iloc[:-10]"
   ]
  },
  {
   "cell_type": "code",
   "execution_count": 33,
   "metadata": {},
   "outputs": [
    {
     "data": {
      "text/html": [
       "<div>\n",
       "<style scoped>\n",
       "    .dataframe tbody tr th:only-of-type {\n",
       "        vertical-align: middle;\n",
       "    }\n",
       "\n",
       "    .dataframe tbody tr th {\n",
       "        vertical-align: top;\n",
       "    }\n",
       "\n",
       "    .dataframe thead th {\n",
       "        text-align: right;\n",
       "    }\n",
       "</style>\n",
       "<table border=\"1\" class=\"dataframe\">\n",
       "  <thead>\n",
       "    <tr style=\"text-align: right;\">\n",
       "      <th></th>\n",
       "      <th>year</th>\n",
       "      <th>month</th>\n",
       "      <th>day</th>\n",
       "      <th>dep_time</th>\n",
       "      <th>sched_dep_time</th>\n",
       "      <th>dep_delay</th>\n",
       "      <th>arr_time</th>\n",
       "      <th>sched_arr_time</th>\n",
       "      <th>arr_delay</th>\n",
       "      <th>carrier</th>\n",
       "      <th>flight</th>\n",
       "      <th>tailnum</th>\n",
       "      <th>origin</th>\n",
       "      <th>dest</th>\n",
       "      <th>air_time</th>\n",
       "      <th>distance</th>\n",
       "      <th>hour</th>\n",
       "      <th>minute</th>\n",
       "      <th>airline</th>\n",
       "      <th>route</th>\n",
       "      <th>temp</th>\n",
       "      <th>dewp</th>\n",
       "      <th>humid</th>\n",
       "      <th>wind_dir</th>\n",
       "      <th>wind_speed</th>\n",
       "      <th>wind_gust</th>\n",
       "      <th>precip</th>\n",
       "      <th>pressure</th>\n",
       "      <th>visib</th>\n",
       "      <th>date</th>\n",
       "      <th>date_string</th>\n",
       "    </tr>\n",
       "  </thead>\n",
       "  <tbody>\n",
       "    <tr>\n",
       "      <th>108321</th>\n",
       "      <td>2022</td>\n",
       "      <td>6</td>\n",
       "      <td>30</td>\n",
       "      <td>2022-06-30 23:59:00</td>\n",
       "      <td>2022-06-30 23:59:00</td>\n",
       "      <td>0.0</td>\n",
       "      <td>2022-06-30 05:52:00</td>\n",
       "      <td>2022-06-30 06:08:00</td>\n",
       "      <td>-16.0</td>\n",
       "      <td>UA</td>\n",
       "      <td>603</td>\n",
       "      <td>N31412</td>\n",
       "      <td>PDX</td>\n",
       "      <td>IAH</td>\n",
       "      <td>217.0</td>\n",
       "      <td>1825</td>\n",
       "      <td>23</td>\n",
       "      <td>59</td>\n",
       "      <td>United Air Lines Inc.</td>\n",
       "      <td>PDX-IAH</td>\n",
       "      <td>81.0</td>\n",
       "      <td>54.0</td>\n",
       "      <td>39.37</td>\n",
       "      <td>330.0</td>\n",
       "      <td>8.05546</td>\n",
       "      <td>9.270062</td>\n",
       "      <td>0.0</td>\n",
       "      <td>1016.4</td>\n",
       "      <td>10.0</td>\n",
       "      <td>2022-06-30</td>\n",
       "      <td>20220630</td>\n",
       "    </tr>\n",
       "  </tbody>\n",
       "</table>\n",
       "</div>"
      ],
      "text/plain": [
       "        year  month  day            dep_time      sched_dep_time  dep_delay  \\\n",
       "108321  2022      6   30 2022-06-30 23:59:00 2022-06-30 23:59:00        0.0   \n",
       "\n",
       "                  arr_time      sched_arr_time  arr_delay carrier  flight  \\\n",
       "108321 2022-06-30 05:52:00 2022-06-30 06:08:00      -16.0      UA     603   \n",
       "\n",
       "       tailnum origin dest  air_time  distance  hour  minute  \\\n",
       "108321  N31412    PDX  IAH     217.0      1825    23      59   \n",
       "\n",
       "                      airline    route  temp  dewp  humid  wind_dir  \\\n",
       "108321  United Air Lines Inc.  PDX-IAH  81.0  54.0  39.37     330.0   \n",
       "\n",
       "        wind_speed  wind_gust  precip  pressure  visib       date date_string  \n",
       "108321     8.05546   9.270062     0.0    1016.4   10.0 2022-06-30    20220630  "
      ]
     },
     "execution_count": 33,
     "metadata": {},
     "output_type": "execute_result"
    }
   ],
   "source": [
    "df.tail(1)"
   ]
  },
  {
   "cell_type": "markdown",
   "metadata": {},
   "source": [
    "- ffill uygulamadan önce özet istatistikler"
   ]
  },
  {
   "cell_type": "code",
   "execution_count": 34,
   "metadata": {},
   "outputs": [
    {
     "data": {
      "text/html": [
       "<div>\n",
       "<style scoped>\n",
       "    .dataframe tbody tr th:only-of-type {\n",
       "        vertical-align: middle;\n",
       "    }\n",
       "\n",
       "    .dataframe tbody tr th {\n",
       "        vertical-align: top;\n",
       "    }\n",
       "\n",
       "    .dataframe thead th {\n",
       "        text-align: right;\n",
       "    }\n",
       "</style>\n",
       "<table border=\"1\" class=\"dataframe\">\n",
       "  <thead>\n",
       "    <tr style=\"text-align: right;\">\n",
       "      <th></th>\n",
       "      <th>count</th>\n",
       "      <th>mean</th>\n",
       "      <th>std</th>\n",
       "      <th>min</th>\n",
       "      <th>25%</th>\n",
       "      <th>50%</th>\n",
       "      <th>75%</th>\n",
       "      <th>max</th>\n",
       "    </tr>\n",
       "  </thead>\n",
       "  <tbody>\n",
       "    <tr>\n",
       "      <th>wind_dir</th>\n",
       "      <td>105212.0</td>\n",
       "      <td>164.54815</td>\n",
       "      <td>101.190198</td>\n",
       "      <td>0.0</td>\n",
       "      <td>100.0</td>\n",
       "      <td>180.0</td>\n",
       "      <td>220.0</td>\n",
       "      <td>360.0</td>\n",
       "    </tr>\n",
       "  </tbody>\n",
       "</table>\n",
       "</div>"
      ],
      "text/plain": [
       "             count       mean         std  min    25%    50%    75%    max\n",
       "wind_dir  105212.0  164.54815  101.190198  0.0  100.0  180.0  220.0  360.0"
      ]
     },
     "execution_count": 34,
     "metadata": {},
     "output_type": "execute_result"
    }
   ],
   "source": [
    "df[[\"wind_dir\"]].describe().T"
   ]
  },
  {
   "cell_type": "code",
   "execution_count": 35,
   "metadata": {},
   "outputs": [
    {
     "data": {
      "text/html": [
       "<div>\n",
       "<style scoped>\n",
       "    .dataframe tbody tr th:only-of-type {\n",
       "        vertical-align: middle;\n",
       "    }\n",
       "\n",
       "    .dataframe tbody tr th {\n",
       "        vertical-align: top;\n",
       "    }\n",
       "\n",
       "    .dataframe thead th {\n",
       "        text-align: right;\n",
       "    }\n",
       "</style>\n",
       "<table border=\"1\" class=\"dataframe\">\n",
       "  <thead>\n",
       "    <tr style=\"text-align: right;\">\n",
       "      <th></th>\n",
       "      <th>count</th>\n",
       "      <th>mean</th>\n",
       "      <th>std</th>\n",
       "      <th>min</th>\n",
       "      <th>25%</th>\n",
       "      <th>50%</th>\n",
       "      <th>75%</th>\n",
       "      <th>max</th>\n",
       "    </tr>\n",
       "  </thead>\n",
       "  <tbody>\n",
       "    <tr>\n",
       "      <th>wind_speed</th>\n",
       "      <td>108049.0</td>\n",
       "      <td>6.976262</td>\n",
       "      <td>4.497065</td>\n",
       "      <td>0.0</td>\n",
       "      <td>4.60312</td>\n",
       "      <td>6.90468</td>\n",
       "      <td>9.20624</td>\n",
       "      <td>27.61872</td>\n",
       "    </tr>\n",
       "  </tbody>\n",
       "</table>\n",
       "</div>"
      ],
      "text/plain": [
       "               count      mean       std  min      25%      50%      75%  \\\n",
       "wind_speed  108049.0  6.976262  4.497065  0.0  4.60312  6.90468  9.20624   \n",
       "\n",
       "                 max  \n",
       "wind_speed  27.61872  "
      ]
     },
     "execution_count": 35,
     "metadata": {},
     "output_type": "execute_result"
    }
   ],
   "source": [
    "df[[\"wind_speed\"]].describe().T"
   ]
  },
  {
   "cell_type": "code",
   "execution_count": 36,
   "metadata": {},
   "outputs": [
    {
     "data": {
      "text/html": [
       "<div>\n",
       "<style scoped>\n",
       "    .dataframe tbody tr th:only-of-type {\n",
       "        vertical-align: middle;\n",
       "    }\n",
       "\n",
       "    .dataframe tbody tr th {\n",
       "        vertical-align: top;\n",
       "    }\n",
       "\n",
       "    .dataframe thead th {\n",
       "        text-align: right;\n",
       "    }\n",
       "</style>\n",
       "<table border=\"1\" class=\"dataframe\">\n",
       "  <thead>\n",
       "    <tr style=\"text-align: right;\">\n",
       "      <th></th>\n",
       "      <th>count</th>\n",
       "      <th>mean</th>\n",
       "      <th>std</th>\n",
       "      <th>min</th>\n",
       "      <th>25%</th>\n",
       "      <th>50%</th>\n",
       "      <th>75%</th>\n",
       "      <th>max</th>\n",
       "    </tr>\n",
       "  </thead>\n",
       "  <tbody>\n",
       "    <tr>\n",
       "      <th>wind_gust</th>\n",
       "      <td>108049.0</td>\n",
       "      <td>8.028143</td>\n",
       "      <td>5.175133</td>\n",
       "      <td>0.0</td>\n",
       "      <td>5.297178</td>\n",
       "      <td>7.945768</td>\n",
       "      <td>10.594357</td>\n",
       "      <td>31.783071</td>\n",
       "    </tr>\n",
       "  </tbody>\n",
       "</table>\n",
       "</div>"
      ],
      "text/plain": [
       "              count      mean       std  min       25%       50%        75%  \\\n",
       "wind_gust  108049.0  8.028143  5.175133  0.0  5.297178  7.945768  10.594357   \n",
       "\n",
       "                 max  \n",
       "wind_gust  31.783071  "
      ]
     },
     "execution_count": 36,
     "metadata": {},
     "output_type": "execute_result"
    }
   ],
   "source": [
    "df[[\"wind_gust\"]].describe().T"
   ]
  },
  {
   "cell_type": "code",
   "execution_count": 37,
   "metadata": {},
   "outputs": [],
   "source": [
    "# ffill uygulanması\n",
    "wind_data_to_be_filled = [\"wind_dir\",\"wind_speed\",\"wind_gust\"]\n",
    "for value in wind_data_to_be_filled:\n",
    "    df[value].ffill(inplace=True)"
   ]
  },
  {
   "cell_type": "markdown",
   "metadata": {},
   "source": [
    "- ffill uyguladıktan sonraki özet istatistikler\n",
    "- Böylelikle özet istatistiklere bakıncada verilerin dağılımında bir bozulma olmamıştır."
   ]
  },
  {
   "cell_type": "code",
   "execution_count": 38,
   "metadata": {},
   "outputs": [
    {
     "data": {
      "text/html": [
       "<div>\n",
       "<style scoped>\n",
       "    .dataframe tbody tr th:only-of-type {\n",
       "        vertical-align: middle;\n",
       "    }\n",
       "\n",
       "    .dataframe tbody tr th {\n",
       "        vertical-align: top;\n",
       "    }\n",
       "\n",
       "    .dataframe thead th {\n",
       "        text-align: right;\n",
       "    }\n",
       "</style>\n",
       "<table border=\"1\" class=\"dataframe\">\n",
       "  <thead>\n",
       "    <tr style=\"text-align: right;\">\n",
       "      <th></th>\n",
       "      <th>count</th>\n",
       "      <th>mean</th>\n",
       "      <th>std</th>\n",
       "      <th>min</th>\n",
       "      <th>25%</th>\n",
       "      <th>50%</th>\n",
       "      <th>75%</th>\n",
       "      <th>max</th>\n",
       "    </tr>\n",
       "  </thead>\n",
       "  <tbody>\n",
       "    <tr>\n",
       "      <th>wind_dir</th>\n",
       "      <td>108322.0</td>\n",
       "      <td>165.347575</td>\n",
       "      <td>101.61994</td>\n",
       "      <td>0.0</td>\n",
       "      <td>100.0</td>\n",
       "      <td>180.0</td>\n",
       "      <td>220.0</td>\n",
       "      <td>360.0</td>\n",
       "    </tr>\n",
       "  </tbody>\n",
       "</table>\n",
       "</div>"
      ],
      "text/plain": [
       "             count        mean        std  min    25%    50%    75%    max\n",
       "wind_dir  108322.0  165.347575  101.61994  0.0  100.0  180.0  220.0  360.0"
      ]
     },
     "execution_count": 38,
     "metadata": {},
     "output_type": "execute_result"
    }
   ],
   "source": [
    "df[[\"wind_dir\"]].describe().T"
   ]
  },
  {
   "cell_type": "code",
   "execution_count": 39,
   "metadata": {},
   "outputs": [
    {
     "data": {
      "text/html": [
       "<div>\n",
       "<style scoped>\n",
       "    .dataframe tbody tr th:only-of-type {\n",
       "        vertical-align: middle;\n",
       "    }\n",
       "\n",
       "    .dataframe tbody tr th {\n",
       "        vertical-align: top;\n",
       "    }\n",
       "\n",
       "    .dataframe thead th {\n",
       "        text-align: right;\n",
       "    }\n",
       "</style>\n",
       "<table border=\"1\" class=\"dataframe\">\n",
       "  <thead>\n",
       "    <tr style=\"text-align: right;\">\n",
       "      <th></th>\n",
       "      <th>count</th>\n",
       "      <th>mean</th>\n",
       "      <th>std</th>\n",
       "      <th>min</th>\n",
       "      <th>25%</th>\n",
       "      <th>50%</th>\n",
       "      <th>75%</th>\n",
       "      <th>max</th>\n",
       "    </tr>\n",
       "  </thead>\n",
       "  <tbody>\n",
       "    <tr>\n",
       "      <th>wind_speed</th>\n",
       "      <td>108322.0</td>\n",
       "      <td>6.973925</td>\n",
       "      <td>4.494517</td>\n",
       "      <td>0.0</td>\n",
       "      <td>4.60312</td>\n",
       "      <td>6.90468</td>\n",
       "      <td>9.20624</td>\n",
       "      <td>27.61872</td>\n",
       "    </tr>\n",
       "  </tbody>\n",
       "</table>\n",
       "</div>"
      ],
      "text/plain": [
       "               count      mean       std  min      25%      50%      75%  \\\n",
       "wind_speed  108322.0  6.973925  4.494517  0.0  4.60312  6.90468  9.20624   \n",
       "\n",
       "                 max  \n",
       "wind_speed  27.61872  "
      ]
     },
     "execution_count": 39,
     "metadata": {},
     "output_type": "execute_result"
    }
   ],
   "source": [
    "df[[\"wind_speed\"]].describe().T"
   ]
  },
  {
   "cell_type": "code",
   "execution_count": 40,
   "metadata": {},
   "outputs": [
    {
     "data": {
      "text/html": [
       "<div>\n",
       "<style scoped>\n",
       "    .dataframe tbody tr th:only-of-type {\n",
       "        vertical-align: middle;\n",
       "    }\n",
       "\n",
       "    .dataframe tbody tr th {\n",
       "        vertical-align: top;\n",
       "    }\n",
       "\n",
       "    .dataframe thead th {\n",
       "        text-align: right;\n",
       "    }\n",
       "</style>\n",
       "<table border=\"1\" class=\"dataframe\">\n",
       "  <thead>\n",
       "    <tr style=\"text-align: right;\">\n",
       "      <th></th>\n",
       "      <th>count</th>\n",
       "      <th>mean</th>\n",
       "      <th>std</th>\n",
       "      <th>min</th>\n",
       "      <th>25%</th>\n",
       "      <th>50%</th>\n",
       "      <th>75%</th>\n",
       "      <th>max</th>\n",
       "    </tr>\n",
       "  </thead>\n",
       "  <tbody>\n",
       "    <tr>\n",
       "      <th>wind_gust</th>\n",
       "      <td>108322.0</td>\n",
       "      <td>8.025454</td>\n",
       "      <td>5.1722</td>\n",
       "      <td>0.0</td>\n",
       "      <td>5.297178</td>\n",
       "      <td>7.945768</td>\n",
       "      <td>10.594357</td>\n",
       "      <td>31.783071</td>\n",
       "    </tr>\n",
       "  </tbody>\n",
       "</table>\n",
       "</div>"
      ],
      "text/plain": [
       "              count      mean     std  min       25%       50%        75%  \\\n",
       "wind_gust  108322.0  8.025454  5.1722  0.0  5.297178  7.945768  10.594357   \n",
       "\n",
       "                 max  \n",
       "wind_gust  31.783071  "
      ]
     },
     "execution_count": 40,
     "metadata": {},
     "output_type": "execute_result"
    }
   ],
   "source": [
    "df[[\"wind_gust\"]].describe().T"
   ]
  },
  {
   "cell_type": "markdown",
   "metadata": {},
   "source": [
    "**dep_delay, arr_delay ve air_time değişkenlerinin kontrol edilmesi**\n",
    "- Tarih verilerimizi uygun formata çevirdikten sonra veri setindeki dep_delay, arr_delay ve air_time değişkenlerinin doğrulamasını yaptım."
   ]
  },
  {
   "cell_type": "code",
   "execution_count": 41,
   "metadata": {},
   "outputs": [
    {
     "data": {
      "text/plain": [
       "(108322, 31)"
      ]
     },
     "execution_count": 41,
     "metadata": {},
     "output_type": "execute_result"
    }
   ],
   "source": [
    "df.shape"
   ]
  },
  {
   "cell_type": "markdown",
   "metadata": {},
   "source": [
    "- dep_delay kontrolü"
   ]
  },
  {
   "cell_type": "code",
   "execution_count": 42,
   "metadata": {},
   "outputs": [],
   "source": [
    "# Yeni oluşturduğum tarih verilerinden kontrol etmek amaçlı tekrar dep_delay_check adlı sütun oluşturdum\n",
    "df['dep_delay_check'] = (df['dep_time'] - df['sched_dep_time']).dt.total_seconds() / 60"
   ]
  },
  {
   "cell_type": "code",
   "execution_count": 43,
   "metadata": {},
   "outputs": [
    {
     "name": "stdout",
     "output_type": "stream",
     "text": [
      "Değerleri farklı olan satır sayısı: 824\n"
     ]
    }
   ],
   "source": [
    "# veri setindeki orjinal dep_delay kolonu ile karşılaştırdım.\n",
    "dep_delay_check = df['dep_delay'] == df['dep_delay_check']\n",
    "diff_dep_delay = len(df) - dep_delay_check.sum()\n",
    "print(\"Değerleri farklı olan satır sayısı:\", diff_dep_delay)"
   ]
  },
  {
   "cell_type": "code",
   "execution_count": 44,
   "metadata": {},
   "outputs": [
    {
     "data": {
      "text/html": [
       "<div>\n",
       "<style scoped>\n",
       "    .dataframe tbody tr th:only-of-type {\n",
       "        vertical-align: middle;\n",
       "    }\n",
       "\n",
       "    .dataframe tbody tr th {\n",
       "        vertical-align: top;\n",
       "    }\n",
       "\n",
       "    .dataframe thead th {\n",
       "        text-align: right;\n",
       "    }\n",
       "</style>\n",
       "<table border=\"1\" class=\"dataframe\">\n",
       "  <thead>\n",
       "    <tr style=\"text-align: right;\">\n",
       "      <th></th>\n",
       "      <th>dep_delay</th>\n",
       "      <th>dep_delay_check</th>\n",
       "    </tr>\n",
       "  </thead>\n",
       "  <tbody>\n",
       "    <tr>\n",
       "      <th>1</th>\n",
       "      <td>160.0</td>\n",
       "      <td>-1280.0</td>\n",
       "    </tr>\n",
       "  </tbody>\n",
       "</table>\n",
       "</div>"
      ],
      "text/plain": [
       "   dep_delay  dep_delay_check\n",
       "1      160.0          -1280.0"
      ]
     },
     "execution_count": 44,
     "metadata": {},
     "output_type": "execute_result"
    }
   ],
   "source": [
    "# örnek 2 nolu satır karşılaştırma\n",
    "df.loc[[1],[\"dep_delay\",\"dep_delay_check\"]]"
   ]
  },
  {
   "cell_type": "markdown",
   "metadata": {},
   "source": [
    "Oluşan tutarsız veriler tarih verisinin yanlış girilmesinden dolayı olabilir dep_delay kolunu daha gerçekçi veri içerdiğinden doğru kabul ettim ve bu değerden farklı değerleri veri setinden çıkarmaya karar verdim."
   ]
  },
  {
   "cell_type": "code",
   "execution_count": 45,
   "metadata": {},
   "outputs": [
    {
     "name": "stdout",
     "output_type": "stream",
     "text": [
      "Değerleri farklı olan satır sayısı: 0\n"
     ]
    }
   ],
   "source": [
    "df = df[dep_delay_check]\n",
    "dep_delay_check = df['dep_delay'] == df['dep_delay_check']\n",
    "diff_dep_delay = len(df) - dep_delay_check.sum()\n",
    "print(\"Değerleri farklı olan satır sayısı:\", diff_dep_delay)"
   ]
  },
  {
   "cell_type": "markdown",
   "metadata": {},
   "source": [
    "- arr_delay controlü"
   ]
  },
  {
   "cell_type": "code",
   "execution_count": 46,
   "metadata": {},
   "outputs": [],
   "source": [
    "# Yeni oluşturduğum tarih verilerinden kontrol etmek amaçlı tekrar arr_delay_check adlı sütun oluşturdum\n",
    "df['arr_delay_check'] = (df['arr_time'] - df['sched_arr_time']).dt.total_seconds() / 60"
   ]
  },
  {
   "cell_type": "code",
   "execution_count": 47,
   "metadata": {},
   "outputs": [
    {
     "name": "stdout",
     "output_type": "stream",
     "text": [
      "Değerleri farklı olan satır sayısı: 1884\n"
     ]
    }
   ],
   "source": [
    "# veri setindeki orjinal arr_delay kolonu ile karşılaştırdım.\n",
    "arr_delay_check = df['arr_delay'] == df['arr_delay_check']\n",
    "diff_arr_delay = len(df) - arr_delay_check.sum()\n",
    "print(\"Değerleri farklı olan satır sayısı:\", diff_arr_delay)"
   ]
  },
  {
   "cell_type": "markdown",
   "metadata": {},
   "source": [
    "Oluşan tutarsız veriler tarih verisinin yanlış girilmesinden dolayı olabilir arr_delay kolunu daha gerçekçi veri içerdiğinden doğru kabul ettim ve bu değerden farklı değerleri veri setinden çıkarmaya karar verdim."
   ]
  },
  {
   "cell_type": "code",
   "execution_count": 48,
   "metadata": {},
   "outputs": [
    {
     "name": "stdout",
     "output_type": "stream",
     "text": [
      "Değerleri farklı olan satır sayısı: 0\n"
     ]
    }
   ],
   "source": [
    "df = df[arr_delay_check]\n",
    "arr_delay_check = df['arr_delay'] == df['arr_delay_check']\n",
    "diff_arr_delay = len(df) - arr_delay_check.sum()\n",
    "print(\"Değerleri farklı olan satır sayısı:\", diff_arr_delay)"
   ]
  },
  {
   "cell_type": "markdown",
   "metadata": {},
   "source": [
    "**Bütün validasyon ve silme işlemleri neticesinde endüstride genellikle kabul gören %5 kabul edilebilir veri silme sınırının altında kalınmıştır. Ayrıca veri seti büyüklüğü göz önüne alındığında bu değerler kritik bir öneme sahip değildir. Temizleme işlemi sonucunda tutarlı temiz bir veriseti elde edilmiştir.**"
   ]
  },
  {
   "cell_type": "code",
   "execution_count": 49,
   "metadata": {},
   "outputs": [
    {
     "name": "stdout",
     "output_type": "stream",
     "text": [
      "Toplam silinen veri %'4.86'dır.\n"
     ]
    }
   ],
   "source": [
    "row_data = 111006\n",
    "deleted_data = row_data - df.shape[0]\n",
    "total_cleaned_data_percentage = (deleted_data / row_data ) * 100\n",
    "print(f\"Toplam silinen veri %'{total_cleaned_data_percentage:.2f}'dır.\")"
   ]
  },
  {
   "cell_type": "code",
   "execution_count": 50,
   "metadata": {},
   "outputs": [
    {
     "data": {
      "text/plain": [
       "year               0\n",
       "month              0\n",
       "day                0\n",
       "dep_time           0\n",
       "sched_dep_time     0\n",
       "dep_delay          0\n",
       "arr_time           0\n",
       "sched_arr_time     0\n",
       "arr_delay          0\n",
       "carrier            0\n",
       "flight             0\n",
       "tailnum            0\n",
       "origin             0\n",
       "dest               0\n",
       "air_time           0\n",
       "distance           0\n",
       "hour               0\n",
       "minute             0\n",
       "airline            0\n",
       "route              0\n",
       "temp               0\n",
       "dewp               0\n",
       "humid              0\n",
       "wind_dir           0\n",
       "wind_speed         0\n",
       "wind_gust          0\n",
       "precip             0\n",
       "pressure           0\n",
       "visib              0\n",
       "date               0\n",
       "date_string        0\n",
       "dep_delay_check    0\n",
       "arr_delay_check    0\n",
       "dtype: int64"
      ]
     },
     "execution_count": 50,
     "metadata": {},
     "output_type": "execute_result"
    }
   ],
   "source": [
    "df.isnull().sum()"
   ]
  },
  {
   "cell_type": "markdown",
   "metadata": {},
   "source": [
    "- air_time controlü\n",
    "- bu değişkende bütün değerler birbirinden farklı çıkmıştır. Air time hesaplamasında zaman farkı faktörü rol oynamış olabilir."
   ]
  },
  {
   "cell_type": "code",
   "execution_count": 51,
   "metadata": {},
   "outputs": [],
   "source": [
    "df['air_time_check'] = (df['arr_time'] - df['dep_time']).dt.total_seconds() / 60"
   ]
  },
  {
   "cell_type": "code",
   "execution_count": 52,
   "metadata": {},
   "outputs": [
    {
     "name": "stdout",
     "output_type": "stream",
     "text": [
      "Değerleri farklı olan satır sayısı: 105611\n"
     ]
    }
   ],
   "source": [
    "air_time_check = df['air_time'] == df['air_time_check']\n",
    "diff_air_time = len(df) - air_time_check.sum()\n",
    "print(\"Değerleri farklı olan satır sayısı:\", diff_air_time)"
   ]
  },
  {
   "cell_type": "markdown",
   "metadata": {},
   "source": [
    "**Kopyaların kontrolü**\n",
    "- veri setinde kopya veriye rastlanmamıştır."
   ]
  },
  {
   "cell_type": "code",
   "execution_count": 53,
   "metadata": {},
   "outputs": [
    {
     "data": {
      "text/html": [
       "<div>\n",
       "<style scoped>\n",
       "    .dataframe tbody tr th:only-of-type {\n",
       "        vertical-align: middle;\n",
       "    }\n",
       "\n",
       "    .dataframe tbody tr th {\n",
       "        vertical-align: top;\n",
       "    }\n",
       "\n",
       "    .dataframe thead th {\n",
       "        text-align: right;\n",
       "    }\n",
       "</style>\n",
       "<table border=\"1\" class=\"dataframe\">\n",
       "  <thead>\n",
       "    <tr style=\"text-align: right;\">\n",
       "      <th></th>\n",
       "      <th>year</th>\n",
       "      <th>month</th>\n",
       "      <th>day</th>\n",
       "      <th>dep_time</th>\n",
       "      <th>sched_dep_time</th>\n",
       "      <th>dep_delay</th>\n",
       "      <th>arr_time</th>\n",
       "      <th>sched_arr_time</th>\n",
       "      <th>arr_delay</th>\n",
       "      <th>carrier</th>\n",
       "      <th>flight</th>\n",
       "      <th>tailnum</th>\n",
       "      <th>origin</th>\n",
       "      <th>dest</th>\n",
       "      <th>air_time</th>\n",
       "      <th>distance</th>\n",
       "      <th>hour</th>\n",
       "      <th>minute</th>\n",
       "      <th>airline</th>\n",
       "      <th>route</th>\n",
       "      <th>temp</th>\n",
       "      <th>dewp</th>\n",
       "      <th>humid</th>\n",
       "      <th>wind_dir</th>\n",
       "      <th>wind_speed</th>\n",
       "      <th>wind_gust</th>\n",
       "      <th>precip</th>\n",
       "      <th>pressure</th>\n",
       "      <th>visib</th>\n",
       "      <th>date</th>\n",
       "      <th>date_string</th>\n",
       "      <th>dep_delay_check</th>\n",
       "      <th>arr_delay_check</th>\n",
       "      <th>air_time_check</th>\n",
       "    </tr>\n",
       "  </thead>\n",
       "  <tbody>\n",
       "  </tbody>\n",
       "</table>\n",
       "</div>"
      ],
      "text/plain": [
       "Empty DataFrame\n",
       "Columns: [year, month, day, dep_time, sched_dep_time, dep_delay, arr_time, sched_arr_time, arr_delay, carrier, flight, tailnum, origin, dest, air_time, distance, hour, minute, airline, route, temp, dewp, humid, wind_dir, wind_speed, wind_gust, precip, pressure, visib, date, date_string, dep_delay_check, arr_delay_check, air_time_check]\n",
       "Index: []"
      ]
     },
     "execution_count": 53,
     "metadata": {},
     "output_type": "execute_result"
    }
   ],
   "source": [
    "df[df.duplicated(keep=False)]"
   ]
  },
  {
   "cell_type": "code",
   "execution_count": 54,
   "metadata": {},
   "outputs": [
    {
     "data": {
      "text/html": [
       "<div>\n",
       "<style scoped>\n",
       "    .dataframe tbody tr th:only-of-type {\n",
       "        vertical-align: middle;\n",
       "    }\n",
       "\n",
       "    .dataframe tbody tr th {\n",
       "        vertical-align: top;\n",
       "    }\n",
       "\n",
       "    .dataframe thead th {\n",
       "        text-align: right;\n",
       "    }\n",
       "</style>\n",
       "<table border=\"1\" class=\"dataframe\">\n",
       "  <thead>\n",
       "    <tr style=\"text-align: right;\">\n",
       "      <th></th>\n",
       "      <th>year</th>\n",
       "      <th>month</th>\n",
       "      <th>day</th>\n",
       "      <th>dep_time</th>\n",
       "      <th>sched_dep_time</th>\n",
       "      <th>dep_delay</th>\n",
       "      <th>arr_time</th>\n",
       "      <th>sched_arr_time</th>\n",
       "      <th>arr_delay</th>\n",
       "      <th>carrier</th>\n",
       "      <th>flight</th>\n",
       "      <th>tailnum</th>\n",
       "      <th>origin</th>\n",
       "      <th>dest</th>\n",
       "      <th>air_time</th>\n",
       "      <th>distance</th>\n",
       "      <th>hour</th>\n",
       "      <th>minute</th>\n",
       "      <th>airline</th>\n",
       "      <th>route</th>\n",
       "      <th>temp</th>\n",
       "      <th>dewp</th>\n",
       "      <th>humid</th>\n",
       "      <th>wind_dir</th>\n",
       "      <th>wind_speed</th>\n",
       "      <th>wind_gust</th>\n",
       "      <th>precip</th>\n",
       "      <th>pressure</th>\n",
       "      <th>visib</th>\n",
       "      <th>date</th>\n",
       "      <th>date_string</th>\n",
       "      <th>dep_delay_check</th>\n",
       "      <th>arr_delay_check</th>\n",
       "      <th>air_time_check</th>\n",
       "    </tr>\n",
       "  </thead>\n",
       "  <tbody>\n",
       "    <tr>\n",
       "      <th>0</th>\n",
       "      <td>2022</td>\n",
       "      <td>1</td>\n",
       "      <td>1</td>\n",
       "      <td>2022-01-01 01:04:00</td>\n",
       "      <td>2022-01-01 00:43:00</td>\n",
       "      <td>21.0</td>\n",
       "      <td>2022-01-01 09:36:00</td>\n",
       "      <td>2022-01-01 09:30:00</td>\n",
       "      <td>6.0</td>\n",
       "      <td>AA</td>\n",
       "      <td>501</td>\n",
       "      <td>N413AN</td>\n",
       "      <td>SEA</td>\n",
       "      <td>MIA</td>\n",
       "      <td>312.0</td>\n",
       "      <td>2724</td>\n",
       "      <td>0</td>\n",
       "      <td>43</td>\n",
       "      <td>American Airlines Inc.</td>\n",
       "      <td>SEA-MIA</td>\n",
       "      <td>25.0</td>\n",
       "      <td>14.0</td>\n",
       "      <td>62.50</td>\n",
       "      <td>350.0</td>\n",
       "      <td>8.05546</td>\n",
       "      <td>9.270062</td>\n",
       "      <td>0.0</td>\n",
       "      <td>1020.7</td>\n",
       "      <td>10.0</td>\n",
       "      <td>2022-01-01</td>\n",
       "      <td>20220101</td>\n",
       "      <td>21.0</td>\n",
       "      <td>6.0</td>\n",
       "      <td>512.0</td>\n",
       "    </tr>\n",
       "    <tr>\n",
       "      <th>4</th>\n",
       "      <td>2022</td>\n",
       "      <td>1</td>\n",
       "      <td>1</td>\n",
       "      <td>2022-01-01 05:13:00</td>\n",
       "      <td>2022-01-01 05:05:00</td>\n",
       "      <td>8.0</td>\n",
       "      <td>2022-01-01 08:52:00</td>\n",
       "      <td>2022-01-01 08:46:00</td>\n",
       "      <td>6.0</td>\n",
       "      <td>UA</td>\n",
       "      <td>850</td>\n",
       "      <td>N24202</td>\n",
       "      <td>SEA</td>\n",
       "      <td>DEN</td>\n",
       "      <td>133.0</td>\n",
       "      <td>1024</td>\n",
       "      <td>5</td>\n",
       "      <td>5</td>\n",
       "      <td>United Air Lines Inc.</td>\n",
       "      <td>SEA-DEN</td>\n",
       "      <td>24.1</td>\n",
       "      <td>17.1</td>\n",
       "      <td>74.27</td>\n",
       "      <td>110.0</td>\n",
       "      <td>6.90468</td>\n",
       "      <td>7.945768</td>\n",
       "      <td>0.0</td>\n",
       "      <td>1023.0</td>\n",
       "      <td>10.0</td>\n",
       "      <td>2022-01-01</td>\n",
       "      <td>20220101</td>\n",
       "      <td>8.0</td>\n",
       "      <td>6.0</td>\n",
       "      <td>219.0</td>\n",
       "    </tr>\n",
       "    <tr>\n",
       "      <th>5</th>\n",
       "      <td>2022</td>\n",
       "      <td>1</td>\n",
       "      <td>1</td>\n",
       "      <td>2022-01-01 05:14:00</td>\n",
       "      <td>2022-01-01 05:15:00</td>\n",
       "      <td>-1.0</td>\n",
       "      <td>2022-01-01 08:31:00</td>\n",
       "      <td>2022-01-01 08:45:00</td>\n",
       "      <td>-14.0</td>\n",
       "      <td>WN</td>\n",
       "      <td>558</td>\n",
       "      <td>N7738A</td>\n",
       "      <td>PDX</td>\n",
       "      <td>PHX</td>\n",
       "      <td>121.0</td>\n",
       "      <td>1009</td>\n",
       "      <td>5</td>\n",
       "      <td>15</td>\n",
       "      <td>Southwest Airlines Co.</td>\n",
       "      <td>PDX-PHX</td>\n",
       "      <td>28.0</td>\n",
       "      <td>15.1</td>\n",
       "      <td>57.93</td>\n",
       "      <td>130.0</td>\n",
       "      <td>9.20624</td>\n",
       "      <td>10.594357</td>\n",
       "      <td>0.0</td>\n",
       "      <td>1023.1</td>\n",
       "      <td>10.0</td>\n",
       "      <td>2022-01-01</td>\n",
       "      <td>20220101</td>\n",
       "      <td>-1.0</td>\n",
       "      <td>-14.0</td>\n",
       "      <td>197.0</td>\n",
       "    </tr>\n",
       "  </tbody>\n",
       "</table>\n",
       "</div>"
      ],
      "text/plain": [
       "   year  month  day            dep_time      sched_dep_time  dep_delay  \\\n",
       "0  2022      1    1 2022-01-01 01:04:00 2022-01-01 00:43:00       21.0   \n",
       "4  2022      1    1 2022-01-01 05:13:00 2022-01-01 05:05:00        8.0   \n",
       "5  2022      1    1 2022-01-01 05:14:00 2022-01-01 05:15:00       -1.0   \n",
       "\n",
       "             arr_time      sched_arr_time  arr_delay carrier  flight tailnum  \\\n",
       "0 2022-01-01 09:36:00 2022-01-01 09:30:00        6.0      AA     501  N413AN   \n",
       "4 2022-01-01 08:52:00 2022-01-01 08:46:00        6.0      UA     850  N24202   \n",
       "5 2022-01-01 08:31:00 2022-01-01 08:45:00      -14.0      WN     558  N7738A   \n",
       "\n",
       "  origin dest  air_time  distance  hour  minute                 airline  \\\n",
       "0    SEA  MIA     312.0      2724     0      43  American Airlines Inc.   \n",
       "4    SEA  DEN     133.0      1024     5       5   United Air Lines Inc.   \n",
       "5    PDX  PHX     121.0      1009     5      15  Southwest Airlines Co.   \n",
       "\n",
       "     route  temp  dewp  humid  wind_dir  wind_speed  wind_gust  precip  \\\n",
       "0  SEA-MIA  25.0  14.0  62.50     350.0     8.05546   9.270062     0.0   \n",
       "4  SEA-DEN  24.1  17.1  74.27     110.0     6.90468   7.945768     0.0   \n",
       "5  PDX-PHX  28.0  15.1  57.93     130.0     9.20624  10.594357     0.0   \n",
       "\n",
       "   pressure  visib       date date_string  dep_delay_check  arr_delay_check  \\\n",
       "0    1020.7   10.0 2022-01-01    20220101             21.0              6.0   \n",
       "4    1023.0   10.0 2022-01-01    20220101              8.0              6.0   \n",
       "5    1023.1   10.0 2022-01-01    20220101             -1.0            -14.0   \n",
       "\n",
       "   air_time_check  \n",
       "0           512.0  \n",
       "4           219.0  \n",
       "5           197.0  "
      ]
     },
     "execution_count": 54,
     "metadata": {},
     "output_type": "execute_result"
    }
   ],
   "source": [
    "# temizlenen ve validasyonu yapılan veri seti\n",
    "df.head(3)"
   ]
  },
  {
   "cell_type": "markdown",
   "metadata": {},
   "source": [
    "---\n",
    "# PROJE SORULARI\n",
    "---\n",
    "1.\tHer havayolunun mesafeyle ilişkisini anlamak için kategorik bir değişken oluşturunuz.\n",
    "2.\tUçuş mesafeleri, 500 mil altındaki mesafeler, 500-1000 mil arasındaki mesafeler ve 1000 mil ve üzerindeki mesafeler olmak üzere üç ana grupta sınıflandırınız.\n",
    "3.\tHavayolu şirketleri arasında en fazla uçuşu gerçekleştiren firmaları belirleyiniz.\n",
    "4.\tGecikmeleri varsayarak havayolu şirketlerinin performansları kıyaslayınız.\n",
    "5.\tHavayolu performansının yılın farklı aylarına göre değişip değişmediğini ve en iyi 5 havayolu performansı ile en kötü 5 performansı gösteriniz.\n",
    "6.\tUçuş iptallerinin yüzde kaç olduğunu belirleyip havayoluna göre değişkenliğini gösteriniz?\n",
    "7.\tRotar Süresinin daha yüksek olduğu günün belirli bir saati ve/veya yılın saati var mı?\n",
    "8.\tEn yüksek ROTAR(gecikme) süresine sahip güzergahlar hangileri?\n",
    "9.\tMakine öğrenmesi modeli kurup uçuşların gecikme sürelerini tahmin ediniz.\n",
    "10.\tModeli Değerlendiriniz."
   ]
  },
  {
   "cell_type": "code",
   "execution_count": 55,
   "metadata": {},
   "outputs": [
    {
     "data": {
      "text/html": [
       "<div>\n",
       "<style scoped>\n",
       "    .dataframe tbody tr th:only-of-type {\n",
       "        vertical-align: middle;\n",
       "    }\n",
       "\n",
       "    .dataframe tbody tr th {\n",
       "        vertical-align: top;\n",
       "    }\n",
       "\n",
       "    .dataframe thead th {\n",
       "        text-align: right;\n",
       "    }\n",
       "</style>\n",
       "<table border=\"1\" class=\"dataframe\">\n",
       "  <thead>\n",
       "    <tr style=\"text-align: right;\">\n",
       "      <th></th>\n",
       "      <th>year</th>\n",
       "      <th>month</th>\n",
       "      <th>day</th>\n",
       "      <th>dep_time</th>\n",
       "      <th>sched_dep_time</th>\n",
       "      <th>dep_delay</th>\n",
       "      <th>arr_time</th>\n",
       "      <th>sched_arr_time</th>\n",
       "      <th>arr_delay</th>\n",
       "      <th>carrier</th>\n",
       "      <th>flight</th>\n",
       "      <th>tailnum</th>\n",
       "      <th>origin</th>\n",
       "      <th>dest</th>\n",
       "      <th>air_time</th>\n",
       "      <th>distance</th>\n",
       "      <th>hour</th>\n",
       "      <th>minute</th>\n",
       "      <th>airline</th>\n",
       "      <th>route</th>\n",
       "      <th>temp</th>\n",
       "      <th>dewp</th>\n",
       "      <th>humid</th>\n",
       "      <th>wind_dir</th>\n",
       "      <th>wind_speed</th>\n",
       "      <th>wind_gust</th>\n",
       "      <th>precip</th>\n",
       "      <th>pressure</th>\n",
       "      <th>visib</th>\n",
       "      <th>date</th>\n",
       "      <th>date_string</th>\n",
       "      <th>dep_delay_check</th>\n",
       "      <th>arr_delay_check</th>\n",
       "      <th>air_time_check</th>\n",
       "    </tr>\n",
       "  </thead>\n",
       "  <tbody>\n",
       "    <tr>\n",
       "      <th>0</th>\n",
       "      <td>2022</td>\n",
       "      <td>1</td>\n",
       "      <td>1</td>\n",
       "      <td>2022-01-01 01:04:00</td>\n",
       "      <td>2022-01-01 00:43:00</td>\n",
       "      <td>21.0</td>\n",
       "      <td>2022-01-01 09:36:00</td>\n",
       "      <td>2022-01-01 09:30:00</td>\n",
       "      <td>6.0</td>\n",
       "      <td>AA</td>\n",
       "      <td>501</td>\n",
       "      <td>N413AN</td>\n",
       "      <td>SEA</td>\n",
       "      <td>MIA</td>\n",
       "      <td>312.0</td>\n",
       "      <td>2724</td>\n",
       "      <td>0</td>\n",
       "      <td>43</td>\n",
       "      <td>American Airlines Inc.</td>\n",
       "      <td>SEA-MIA</td>\n",
       "      <td>25.0</td>\n",
       "      <td>14.0</td>\n",
       "      <td>62.50</td>\n",
       "      <td>350.0</td>\n",
       "      <td>8.05546</td>\n",
       "      <td>9.270062</td>\n",
       "      <td>0.0</td>\n",
       "      <td>1020.7</td>\n",
       "      <td>10.0</td>\n",
       "      <td>2022-01-01</td>\n",
       "      <td>20220101</td>\n",
       "      <td>21.0</td>\n",
       "      <td>6.0</td>\n",
       "      <td>512.0</td>\n",
       "    </tr>\n",
       "    <tr>\n",
       "      <th>4</th>\n",
       "      <td>2022</td>\n",
       "      <td>1</td>\n",
       "      <td>1</td>\n",
       "      <td>2022-01-01 05:13:00</td>\n",
       "      <td>2022-01-01 05:05:00</td>\n",
       "      <td>8.0</td>\n",
       "      <td>2022-01-01 08:52:00</td>\n",
       "      <td>2022-01-01 08:46:00</td>\n",
       "      <td>6.0</td>\n",
       "      <td>UA</td>\n",
       "      <td>850</td>\n",
       "      <td>N24202</td>\n",
       "      <td>SEA</td>\n",
       "      <td>DEN</td>\n",
       "      <td>133.0</td>\n",
       "      <td>1024</td>\n",
       "      <td>5</td>\n",
       "      <td>5</td>\n",
       "      <td>United Air Lines Inc.</td>\n",
       "      <td>SEA-DEN</td>\n",
       "      <td>24.1</td>\n",
       "      <td>17.1</td>\n",
       "      <td>74.27</td>\n",
       "      <td>110.0</td>\n",
       "      <td>6.90468</td>\n",
       "      <td>7.945768</td>\n",
       "      <td>0.0</td>\n",
       "      <td>1023.0</td>\n",
       "      <td>10.0</td>\n",
       "      <td>2022-01-01</td>\n",
       "      <td>20220101</td>\n",
       "      <td>8.0</td>\n",
       "      <td>6.0</td>\n",
       "      <td>219.0</td>\n",
       "    </tr>\n",
       "    <tr>\n",
       "      <th>5</th>\n",
       "      <td>2022</td>\n",
       "      <td>1</td>\n",
       "      <td>1</td>\n",
       "      <td>2022-01-01 05:14:00</td>\n",
       "      <td>2022-01-01 05:15:00</td>\n",
       "      <td>-1.0</td>\n",
       "      <td>2022-01-01 08:31:00</td>\n",
       "      <td>2022-01-01 08:45:00</td>\n",
       "      <td>-14.0</td>\n",
       "      <td>WN</td>\n",
       "      <td>558</td>\n",
       "      <td>N7738A</td>\n",
       "      <td>PDX</td>\n",
       "      <td>PHX</td>\n",
       "      <td>121.0</td>\n",
       "      <td>1009</td>\n",
       "      <td>5</td>\n",
       "      <td>15</td>\n",
       "      <td>Southwest Airlines Co.</td>\n",
       "      <td>PDX-PHX</td>\n",
       "      <td>28.0</td>\n",
       "      <td>15.1</td>\n",
       "      <td>57.93</td>\n",
       "      <td>130.0</td>\n",
       "      <td>9.20624</td>\n",
       "      <td>10.594357</td>\n",
       "      <td>0.0</td>\n",
       "      <td>1023.1</td>\n",
       "      <td>10.0</td>\n",
       "      <td>2022-01-01</td>\n",
       "      <td>20220101</td>\n",
       "      <td>-1.0</td>\n",
       "      <td>-14.0</td>\n",
       "      <td>197.0</td>\n",
       "    </tr>\n",
       "    <tr>\n",
       "      <th>6</th>\n",
       "      <td>2022</td>\n",
       "      <td>1</td>\n",
       "      <td>1</td>\n",
       "      <td>2022-01-01 05:32:00</td>\n",
       "      <td>2022-01-01 05:35:00</td>\n",
       "      <td>-3.0</td>\n",
       "      <td>2022-01-01 11:09:00</td>\n",
       "      <td>2022-01-01 11:30:00</td>\n",
       "      <td>-21.0</td>\n",
       "      <td>WN</td>\n",
       "      <td>874</td>\n",
       "      <td>N8683D</td>\n",
       "      <td>PDX</td>\n",
       "      <td>MDW</td>\n",
       "      <td>205.0</td>\n",
       "      <td>1751</td>\n",
       "      <td>5</td>\n",
       "      <td>35</td>\n",
       "      <td>Southwest Airlines Co.</td>\n",
       "      <td>PDX-MDW</td>\n",
       "      <td>28.0</td>\n",
       "      <td>15.1</td>\n",
       "      <td>57.93</td>\n",
       "      <td>130.0</td>\n",
       "      <td>9.20624</td>\n",
       "      <td>10.594357</td>\n",
       "      <td>0.0</td>\n",
       "      <td>1023.1</td>\n",
       "      <td>10.0</td>\n",
       "      <td>2022-01-01</td>\n",
       "      <td>20220101</td>\n",
       "      <td>-3.0</td>\n",
       "      <td>-21.0</td>\n",
       "      <td>337.0</td>\n",
       "    </tr>\n",
       "    <tr>\n",
       "      <th>7</th>\n",
       "      <td>2022</td>\n",
       "      <td>1</td>\n",
       "      <td>1</td>\n",
       "      <td>2022-01-01 05:37:00</td>\n",
       "      <td>2022-01-01 05:25:00</td>\n",
       "      <td>12.0</td>\n",
       "      <td>2022-01-01 07:29:00</td>\n",
       "      <td>2022-01-01 07:30:00</td>\n",
       "      <td>-1.0</td>\n",
       "      <td>WN</td>\n",
       "      <td>349</td>\n",
       "      <td>N289CT</td>\n",
       "      <td>SEA</td>\n",
       "      <td>OAK</td>\n",
       "      <td>92.0</td>\n",
       "      <td>672</td>\n",
       "      <td>5</td>\n",
       "      <td>25</td>\n",
       "      <td>Southwest Airlines Co.</td>\n",
       "      <td>SEA-OAK</td>\n",
       "      <td>24.1</td>\n",
       "      <td>17.1</td>\n",
       "      <td>74.27</td>\n",
       "      <td>110.0</td>\n",
       "      <td>6.90468</td>\n",
       "      <td>7.945768</td>\n",
       "      <td>0.0</td>\n",
       "      <td>1023.0</td>\n",
       "      <td>10.0</td>\n",
       "      <td>2022-01-01</td>\n",
       "      <td>20220101</td>\n",
       "      <td>12.0</td>\n",
       "      <td>-1.0</td>\n",
       "      <td>112.0</td>\n",
       "    </tr>\n",
       "  </tbody>\n",
       "</table>\n",
       "</div>"
      ],
      "text/plain": [
       "   year  month  day            dep_time      sched_dep_time  dep_delay  \\\n",
       "0  2022      1    1 2022-01-01 01:04:00 2022-01-01 00:43:00       21.0   \n",
       "4  2022      1    1 2022-01-01 05:13:00 2022-01-01 05:05:00        8.0   \n",
       "5  2022      1    1 2022-01-01 05:14:00 2022-01-01 05:15:00       -1.0   \n",
       "6  2022      1    1 2022-01-01 05:32:00 2022-01-01 05:35:00       -3.0   \n",
       "7  2022      1    1 2022-01-01 05:37:00 2022-01-01 05:25:00       12.0   \n",
       "\n",
       "             arr_time      sched_arr_time  arr_delay carrier  flight tailnum  \\\n",
       "0 2022-01-01 09:36:00 2022-01-01 09:30:00        6.0      AA     501  N413AN   \n",
       "4 2022-01-01 08:52:00 2022-01-01 08:46:00        6.0      UA     850  N24202   \n",
       "5 2022-01-01 08:31:00 2022-01-01 08:45:00      -14.0      WN     558  N7738A   \n",
       "6 2022-01-01 11:09:00 2022-01-01 11:30:00      -21.0      WN     874  N8683D   \n",
       "7 2022-01-01 07:29:00 2022-01-01 07:30:00       -1.0      WN     349  N289CT   \n",
       "\n",
       "  origin dest  air_time  distance  hour  minute                 airline  \\\n",
       "0    SEA  MIA     312.0      2724     0      43  American Airlines Inc.   \n",
       "4    SEA  DEN     133.0      1024     5       5   United Air Lines Inc.   \n",
       "5    PDX  PHX     121.0      1009     5      15  Southwest Airlines Co.   \n",
       "6    PDX  MDW     205.0      1751     5      35  Southwest Airlines Co.   \n",
       "7    SEA  OAK      92.0       672     5      25  Southwest Airlines Co.   \n",
       "\n",
       "     route  temp  dewp  humid  wind_dir  wind_speed  wind_gust  precip  \\\n",
       "0  SEA-MIA  25.0  14.0  62.50     350.0     8.05546   9.270062     0.0   \n",
       "4  SEA-DEN  24.1  17.1  74.27     110.0     6.90468   7.945768     0.0   \n",
       "5  PDX-PHX  28.0  15.1  57.93     130.0     9.20624  10.594357     0.0   \n",
       "6  PDX-MDW  28.0  15.1  57.93     130.0     9.20624  10.594357     0.0   \n",
       "7  SEA-OAK  24.1  17.1  74.27     110.0     6.90468   7.945768     0.0   \n",
       "\n",
       "   pressure  visib       date date_string  dep_delay_check  arr_delay_check  \\\n",
       "0    1020.7   10.0 2022-01-01    20220101             21.0              6.0   \n",
       "4    1023.0   10.0 2022-01-01    20220101              8.0              6.0   \n",
       "5    1023.1   10.0 2022-01-01    20220101             -1.0            -14.0   \n",
       "6    1023.1   10.0 2022-01-01    20220101             -3.0            -21.0   \n",
       "7    1023.0   10.0 2022-01-01    20220101             12.0             -1.0   \n",
       "\n",
       "   air_time_check  \n",
       "0           512.0  \n",
       "4           219.0  \n",
       "5           197.0  \n",
       "6           337.0  \n",
       "7           112.0  "
      ]
     },
     "execution_count": 55,
     "metadata": {},
     "output_type": "execute_result"
    }
   ],
   "source": [
    "df.head()"
   ]
  },
  {
   "cell_type": "markdown",
   "metadata": {},
   "source": [
    "# Keşifsel Veri Analizi"
   ]
  },
  {
   "cell_type": "markdown",
   "metadata": {},
   "source": [
    "**Plot Fonksiyon tanımları**\n",
    "- Burada bundan sonraki kategorik ve sayısal değişkenlerde tek bir kolonu görselleştirmek için kolaylık olması ve zaman kazanmak için bir plot fonksiyonu tanımladım"
   ]
  },
  {
   "cell_type": "code",
   "execution_count": 129,
   "metadata": {},
   "outputs": [],
   "source": [
    " \n",
    "def single_variable_multiple_plot(data,type=\"float64\",numeric=True):\n",
    "    \"\"\"\n",
    "    Veri kümesindeki tek bir değişkeni histogram, kutu grafiği ve çekirdek yoğunluk tahmini (sayısal değişkenler için) veya sayısal değişkenler için sayım grafiği ve pasta grafiği (kategorik değişkenler için) kullanarak görselleştirir.\n",
    "\n",
    "    Parametreler:\n",
    "    data : DataFrame Veri kümesi.\n",
    "    type : str, opsiyonel, Sayısal değişkenlerin veri tipi. Varsayılan 'float64'tür.\n",
    "    numeric : bool, opsiyonel, True ise, grafikler sayısal değişkenler için oluşturulur; False ise, grafikler kategorik değişkenler için oluşturulur. Varsayılan True'dur.\n",
    "\n",
    "    Returns:\n",
    "    None\n",
    "    \"\"\"\n",
    " \n",
    "    if numeric: \n",
    "         numeric_columns= [col for col in data.columns if data[col].dtype == type]\n",
    "         for i in numeric_columns:\n",
    "            fig, axes = plt.subplots(nrows=1,ncols=3, figsize=(20,4))\n",
    "            sns.histplot(x=data[i],bins=10,ax=axes[0])\n",
    "            axes[0].set_title(i)\n",
    "            sns.boxplot(x=data[i],ax=axes[1])\n",
    "            axes[1].set_title(i)\n",
    "            sns.kdeplot(x=data[i],ax=axes[2])\n",
    "            axes[2].set_title(i)\n",
    "            plt.show()\n",
    "    \n",
    "    else:\n",
    "         categoric_columns= [col for col in data.columns if data[col].dtype in [\"object\",\"category\",\"int32\"]]\n",
    "         for i in categoric_columns:\n",
    "            fig, axes = plt.subplots(nrows=1,ncols=2, figsize=(16,8))\n",
    "            sns.countplot(data=data, x=i,order=data[i].value_counts().index, ax=axes[0])\n",
    "            axes[0].set_title(i)\n",
    "            axes[0].set_xticklabels(axes[0].get_xticklabels(), rotation=90)\n",
    "            plt.pie(data[i].value_counts(), autopct='%1.1f%%',labels=data[i].value_counts().index)\n",
    "            axes[1].set_title(i)\n",
    "            axes[1].set_xticklabels(axes[1].get_xticklabels(), rotation=90)\n",
    "            plt.tight_layout()\n",
    "            plt.show()"
   ]
  },
  {
   "cell_type": "markdown",
   "metadata": {},
   "source": [
    "- diğerplot fonksiyonuda barplotun özelleştirilmiş halidir kod tekrarına düşmemek için yine bu fonksiyonu tanımladım."
   ]
  },
  {
   "cell_type": "code",
   "execution_count": 88,
   "metadata": {},
   "outputs": [],
   "source": [
    "def custom_barplot(data, categoric_value, numeric_value, agg_func):\n",
    "    \"\"\"\n",
    "    Verilen veri setindeki kategorik bir değere göre gruplayarak, her grubun belirli bir sayısal değerinin \n",
    "    istatistiksel bir özetini çıkartır ve bu özetleri çubuk grafik olarak çizer.\n",
    "\n",
    "    Argümanlar:\n",
    "    data : pandas.DataFrame, İşlenecek veri seti.\n",
    "    categoric_value : str, Veri setindeki kategorik değeri temsil eden sütunun adı.\n",
    "    numeric_value : str, İstatistiksel özetinin çıkarılacağı sayısal değeri temsil eden sütunun adı.\n",
    "    agg_func : str veya callable\n",
    "        Grupların istatistiksel özetini hesaplamak için kullanılacak fonksiyonun adı veya kendisi.\n",
    "        Örneğin: 'mean', 'median', 'sum' veya bir özel işlev (örneğin: numpy.mean gibi).\n",
    "\n",
    "    Returns:pandas.DataFrame, Gruplanmış ve özetlenmiş veri setini içeren DataFrame.\n",
    "\n",
    "    \"\"\"\n",
    "    sorted_df = data.groupby(categoric_value)[numeric_value].agg(agg_func).reset_index().sort_values(numeric_value, ascending=False)\n",
    "    sns.barplot(x=categoric_value, y=numeric_value, data=data, estimator=agg_func, order=sorted_df[categoric_value], ci=False)\n",
    "    plt.xticks(rotation=90)\n",
    "    plt.show()\n",
    "    return sorted_df"
   ]
  },
  {
   "cell_type": "markdown",
   "metadata": {},
   "source": [
    "# 1.\tHer havayolunun mesafeyle ilişkisini anlamak için kategorik bir değişken oluşturunuz."
   ]
  },
  {
   "cell_type": "markdown",
   "metadata": {},
   "source": [
    "- Distance değişkeninin incelenmesi"
   ]
  },
  {
   "cell_type": "code",
   "execution_count": 57,
   "metadata": {},
   "outputs": [
    {
     "data": {
      "text/plain": [
       "dtype('int64')"
      ]
     },
     "execution_count": 57,
     "metadata": {},
     "output_type": "execute_result"
    }
   ],
   "source": [
    "df[\"distance\"].dtype"
   ]
  },
  {
   "cell_type": "markdown",
   "metadata": {},
   "source": [
    "Aykırı değer olabilicek anormal bir değer gözlemlenmemiştir."
   ]
  },
  {
   "cell_type": "code",
   "execution_count": 58,
   "metadata": {},
   "outputs": [
    {
     "data": {
      "text/html": [
       "<div>\n",
       "<style scoped>\n",
       "    .dataframe tbody tr th:only-of-type {\n",
       "        vertical-align: middle;\n",
       "    }\n",
       "\n",
       "    .dataframe tbody tr th {\n",
       "        vertical-align: top;\n",
       "    }\n",
       "\n",
       "    .dataframe thead th {\n",
       "        text-align: right;\n",
       "    }\n",
       "</style>\n",
       "<table border=\"1\" class=\"dataframe\">\n",
       "  <thead>\n",
       "    <tr style=\"text-align: right;\">\n",
       "      <th></th>\n",
       "      <th>count</th>\n",
       "      <th>mean</th>\n",
       "      <th>std</th>\n",
       "      <th>min</th>\n",
       "      <th>25%</th>\n",
       "      <th>50%</th>\n",
       "      <th>75%</th>\n",
       "      <th>max</th>\n",
       "    </tr>\n",
       "  </thead>\n",
       "  <tbody>\n",
       "    <tr>\n",
       "      <th>distance</th>\n",
       "      <td>105614.0</td>\n",
       "      <td>1063.636402</td>\n",
       "      <td>746.772089</td>\n",
       "      <td>93.0</td>\n",
       "      <td>543.0</td>\n",
       "      <td>909.0</td>\n",
       "      <td>1542.0</td>\n",
       "      <td>2724.0</td>\n",
       "    </tr>\n",
       "  </tbody>\n",
       "</table>\n",
       "</div>"
      ],
      "text/plain": [
       "             count         mean         std   min    25%    50%     75%  \\\n",
       "distance  105614.0  1063.636402  746.772089  93.0  543.0  909.0  1542.0   \n",
       "\n",
       "             max  \n",
       "distance  2724.0  "
      ]
     },
     "execution_count": 58,
     "metadata": {},
     "output_type": "execute_result"
    }
   ],
   "source": [
    "df[[\"distance\"]].describe().T"
   ]
  },
  {
   "cell_type": "markdown",
   "metadata": {},
   "source": [
    "- Distance değişkenini incelediğimizde uçuşların genellikle 0 -1000 mil arasında yoğunlaştığını görüyoruz."
   ]
  },
  {
   "cell_type": "code",
   "execution_count": 130,
   "metadata": {},
   "outputs": [
    {
     "data": {
      "image/png": "[encoded data removed]",
      "text/plain": [
       "<Figure size 2000x400 with 3 Axes>"
      ]
     },
     "metadata": {},
     "output_type": "display_data"
    }
   ],
   "source": [
    "single_variable_multiple_plot(df[[\"distance\"]],type=\"int64\",numeric=True)"
   ]
  },
  {
   "cell_type": "markdown",
   "metadata": {},
   "source": [
    "**Şirketlerin yaptıkları toplam uçuş mesafeleri.**\n",
    "- Şirketlerin yaptıkları toplam uçuşları incelediğimizde  en fazla mesafeyi Alaska Airlines Inc. en az mesafeyi Allegiant Air firması yapmıştır. Sıralama ve grafik aşağıda gösterilmiştir."
   ]
  },
  {
   "cell_type": "code",
   "execution_count": 60,
   "metadata": {},
   "outputs": [
    {
     "data": {
      "text/html": [
       "<div>\n",
       "<style scoped>\n",
       "    .dataframe tbody tr th:only-of-type {\n",
       "        vertical-align: middle;\n",
       "    }\n",
       "\n",
       "    .dataframe tbody tr th {\n",
       "        vertical-align: top;\n",
       "    }\n",
       "\n",
       "    .dataframe thead th {\n",
       "        text-align: right;\n",
       "    }\n",
       "</style>\n",
       "<table border=\"1\" class=\"dataframe\">\n",
       "  <thead>\n",
       "    <tr style=\"text-align: right;\">\n",
       "      <th></th>\n",
       "      <th>airline</th>\n",
       "      <th>distance</th>\n",
       "    </tr>\n",
       "  </thead>\n",
       "  <tbody>\n",
       "    <tr>\n",
       "      <th>0</th>\n",
       "      <td>Alaska Airlines Inc.</td>\n",
       "      <td>51901234</td>\n",
       "    </tr>\n",
       "    <tr>\n",
       "      <th>3</th>\n",
       "      <td>Delta Air Lines Inc.</td>\n",
       "      <td>22395311</td>\n",
       "    </tr>\n",
       "    <tr>\n",
       "      <th>11</th>\n",
       "      <td>United Air Lines Inc.</td>\n",
       "      <td>8248029</td>\n",
       "    </tr>\n",
       "    <tr>\n",
       "      <th>8</th>\n",
       "      <td>SkyWest Airlines Inc.</td>\n",
       "      <td>7107696</td>\n",
       "    </tr>\n",
       "    <tr>\n",
       "      <th>6</th>\n",
       "      <td>Horizon Air</td>\n",
       "      <td>6788743</td>\n",
       "    </tr>\n",
       "    <tr>\n",
       "      <th>2</th>\n",
       "      <td>American Airlines Inc.</td>\n",
       "      <td>5814178</td>\n",
       "    </tr>\n",
       "    <tr>\n",
       "      <th>9</th>\n",
       "      <td>Southwest Airlines Co.</td>\n",
       "      <td>5747645</td>\n",
       "    </tr>\n",
       "    <tr>\n",
       "      <th>5</th>\n",
       "      <td>Hawaiian Airlines Inc.</td>\n",
       "      <td>1884424</td>\n",
       "    </tr>\n",
       "    <tr>\n",
       "      <th>7</th>\n",
       "      <td>JetBlue Airways</td>\n",
       "      <td>1386325</td>\n",
       "    </tr>\n",
       "    <tr>\n",
       "      <th>10</th>\n",
       "      <td>Spirit Air Lines</td>\n",
       "      <td>662752</td>\n",
       "    </tr>\n",
       "    <tr>\n",
       "      <th>4</th>\n",
       "      <td>Frontier Airlines Inc.</td>\n",
       "      <td>300144</td>\n",
       "    </tr>\n",
       "    <tr>\n",
       "      <th>1</th>\n",
       "      <td>Allegiant Air</td>\n",
       "      <td>98414</td>\n",
       "    </tr>\n",
       "  </tbody>\n",
       "</table>\n",
       "</div>"
      ],
      "text/plain": [
       "                   airline  distance\n",
       "0     Alaska Airlines Inc.  51901234\n",
       "3     Delta Air Lines Inc.  22395311\n",
       "11   United Air Lines Inc.   8248029\n",
       "8    SkyWest Airlines Inc.   7107696\n",
       "6              Horizon Air   6788743\n",
       "2   American Airlines Inc.   5814178\n",
       "9   Southwest Airlines Co.   5747645\n",
       "5   Hawaiian Airlines Inc.   1884424\n",
       "7          JetBlue Airways   1386325\n",
       "10        Spirit Air Lines    662752\n",
       "4   Frontier Airlines Inc.    300144\n",
       "1            Allegiant Air     98414"
      ]
     },
     "execution_count": 60,
     "metadata": {},
     "output_type": "execute_result"
    }
   ],
   "source": [
    "df.groupby(\"airline\")[\"distance\"].sum().reset_index().sort_values(\"distance\",ascending=False)"
   ]
  },
  {
   "cell_type": "code",
   "execution_count": 95,
   "metadata": {},
   "outputs": [
    {
     "data": {
      "image/png": "[encoded data removed]",
      "text/plain": [
       "<Figure size 640x480 with 1 Axes>"
      ]
     },
     "metadata": {},
     "output_type": "display_data"
    }
   ],
   "source": [
    "# Hava yoluna göre toplam mesafeler sıralı olarak görselleştirilmiştir.\n",
    "sorted_airlines = custom_barplot(df,\"airline\",\"distance\",sum)"
   ]
  },
  {
   "cell_type": "markdown",
   "metadata": {},
   "source": [
    "**Burada kategorik değişken oluşturma amacıyla her havayolu şirketinin toplam mesafeye oranı tespit edilmiştir.**"
   ]
  },
  {
   "cell_type": "code",
   "execution_count": 90,
   "metadata": {},
   "outputs": [
    {
     "data": {
      "text/plain": [
       "0     0.462022\n",
       "3     0.199362\n",
       "11    0.073424\n",
       "8     0.063272\n",
       "6     0.060433\n",
       "2     0.051758\n",
       "9     0.051165\n",
       "5     0.016775\n",
       "7     0.012341\n",
       "10    0.005900\n",
       "4     0.002672\n",
       "1     0.000876\n",
       "Name: distance, dtype: float64"
      ]
     },
     "execution_count": 90,
     "metadata": {},
     "output_type": "execute_result"
    }
   ],
   "source": [
    "total_distance = df[\"distance\"].sum()\n",
    "distance_ratio = sorted_airlines[\"distance\"]/ total_distance\n",
    "distance_ratio"
   ]
  },
  {
   "cell_type": "code",
   "execution_count": 91,
   "metadata": {},
   "outputs": [
    {
     "data": {
      "text/html": [
       "<div>\n",
       "<style scoped>\n",
       "    .dataframe tbody tr th:only-of-type {\n",
       "        vertical-align: middle;\n",
       "    }\n",
       "\n",
       "    .dataframe tbody tr th {\n",
       "        vertical-align: top;\n",
       "    }\n",
       "\n",
       "    .dataframe thead th {\n",
       "        text-align: right;\n",
       "    }\n",
       "</style>\n",
       "<table border=\"1\" class=\"dataframe\">\n",
       "  <thead>\n",
       "    <tr style=\"text-align: right;\">\n",
       "      <th></th>\n",
       "      <th>airline</th>\n",
       "      <th>distance</th>\n",
       "    </tr>\n",
       "  </thead>\n",
       "  <tbody>\n",
       "    <tr>\n",
       "      <th>0</th>\n",
       "      <td>Alaska Airlines Inc.</td>\n",
       "      <td>51901234</td>\n",
       "    </tr>\n",
       "    <tr>\n",
       "      <th>3</th>\n",
       "      <td>Delta Air Lines Inc.</td>\n",
       "      <td>22395311</td>\n",
       "    </tr>\n",
       "    <tr>\n",
       "      <th>11</th>\n",
       "      <td>United Air Lines Inc.</td>\n",
       "      <td>8248029</td>\n",
       "    </tr>\n",
       "    <tr>\n",
       "      <th>8</th>\n",
       "      <td>SkyWest Airlines Inc.</td>\n",
       "      <td>7107696</td>\n",
       "    </tr>\n",
       "    <tr>\n",
       "      <th>6</th>\n",
       "      <td>Horizon Air</td>\n",
       "      <td>6788743</td>\n",
       "    </tr>\n",
       "    <tr>\n",
       "      <th>2</th>\n",
       "      <td>American Airlines Inc.</td>\n",
       "      <td>5814178</td>\n",
       "    </tr>\n",
       "    <tr>\n",
       "      <th>9</th>\n",
       "      <td>Southwest Airlines Co.</td>\n",
       "      <td>5747645</td>\n",
       "    </tr>\n",
       "    <tr>\n",
       "      <th>5</th>\n",
       "      <td>Hawaiian Airlines Inc.</td>\n",
       "      <td>1884424</td>\n",
       "    </tr>\n",
       "    <tr>\n",
       "      <th>7</th>\n",
       "      <td>JetBlue Airways</td>\n",
       "      <td>1386325</td>\n",
       "    </tr>\n",
       "    <tr>\n",
       "      <th>10</th>\n",
       "      <td>Spirit Air Lines</td>\n",
       "      <td>662752</td>\n",
       "    </tr>\n",
       "    <tr>\n",
       "      <th>4</th>\n",
       "      <td>Frontier Airlines Inc.</td>\n",
       "      <td>300144</td>\n",
       "    </tr>\n",
       "    <tr>\n",
       "      <th>1</th>\n",
       "      <td>Allegiant Air</td>\n",
       "      <td>98414</td>\n",
       "    </tr>\n",
       "  </tbody>\n",
       "</table>\n",
       "</div>"
      ],
      "text/plain": [
       "                   airline  distance\n",
       "0     Alaska Airlines Inc.  51901234\n",
       "3     Delta Air Lines Inc.  22395311\n",
       "11   United Air Lines Inc.   8248029\n",
       "8    SkyWest Airlines Inc.   7107696\n",
       "6              Horizon Air   6788743\n",
       "2   American Airlines Inc.   5814178\n",
       "9   Southwest Airlines Co.   5747645\n",
       "5   Hawaiian Airlines Inc.   1884424\n",
       "7          JetBlue Airways   1386325\n",
       "10        Spirit Air Lines    662752\n",
       "4   Frontier Airlines Inc.    300144\n",
       "1            Allegiant Air     98414"
      ]
     },
     "execution_count": 91,
     "metadata": {},
     "output_type": "execute_result"
    }
   ],
   "source": [
    "sorted_airlines"
   ]
  },
  {
   "cell_type": "markdown",
   "metadata": {},
   "source": [
    "**daha önce grafik çizmek amacıyla oluşturulan sorted_airlines dataframeine oranlar eklenmiştir** "
   ]
  },
  {
   "cell_type": "code",
   "execution_count": 92,
   "metadata": {},
   "outputs": [],
   "source": [
    "sorted_airlines[\"distance_ratio_by_total\"] = distance_ratio"
   ]
  },
  {
   "cell_type": "code",
   "execution_count": 93,
   "metadata": {},
   "outputs": [
    {
     "data": {
      "text/html": [
       "<div>\n",
       "<style scoped>\n",
       "    .dataframe tbody tr th:only-of-type {\n",
       "        vertical-align: middle;\n",
       "    }\n",
       "\n",
       "    .dataframe tbody tr th {\n",
       "        vertical-align: top;\n",
       "    }\n",
       "\n",
       "    .dataframe thead th {\n",
       "        text-align: right;\n",
       "    }\n",
       "</style>\n",
       "<table border=\"1\" class=\"dataframe\">\n",
       "  <thead>\n",
       "    <tr style=\"text-align: right;\">\n",
       "      <th></th>\n",
       "      <th>airline</th>\n",
       "      <th>distance</th>\n",
       "      <th>distance_ratio_by_total</th>\n",
       "    </tr>\n",
       "  </thead>\n",
       "  <tbody>\n",
       "    <tr>\n",
       "      <th>0</th>\n",
       "      <td>Alaska Airlines Inc.</td>\n",
       "      <td>51901234</td>\n",
       "      <td>0.462022</td>\n",
       "    </tr>\n",
       "    <tr>\n",
       "      <th>3</th>\n",
       "      <td>Delta Air Lines Inc.</td>\n",
       "      <td>22395311</td>\n",
       "      <td>0.199362</td>\n",
       "    </tr>\n",
       "    <tr>\n",
       "      <th>11</th>\n",
       "      <td>United Air Lines Inc.</td>\n",
       "      <td>8248029</td>\n",
       "      <td>0.073424</td>\n",
       "    </tr>\n",
       "    <tr>\n",
       "      <th>8</th>\n",
       "      <td>SkyWest Airlines Inc.</td>\n",
       "      <td>7107696</td>\n",
       "      <td>0.063272</td>\n",
       "    </tr>\n",
       "    <tr>\n",
       "      <th>6</th>\n",
       "      <td>Horizon Air</td>\n",
       "      <td>6788743</td>\n",
       "      <td>0.060433</td>\n",
       "    </tr>\n",
       "    <tr>\n",
       "      <th>2</th>\n",
       "      <td>American Airlines Inc.</td>\n",
       "      <td>5814178</td>\n",
       "      <td>0.051758</td>\n",
       "    </tr>\n",
       "    <tr>\n",
       "      <th>9</th>\n",
       "      <td>Southwest Airlines Co.</td>\n",
       "      <td>5747645</td>\n",
       "      <td>0.051165</td>\n",
       "    </tr>\n",
       "    <tr>\n",
       "      <th>5</th>\n",
       "      <td>Hawaiian Airlines Inc.</td>\n",
       "      <td>1884424</td>\n",
       "      <td>0.016775</td>\n",
       "    </tr>\n",
       "    <tr>\n",
       "      <th>7</th>\n",
       "      <td>JetBlue Airways</td>\n",
       "      <td>1386325</td>\n",
       "      <td>0.012341</td>\n",
       "    </tr>\n",
       "    <tr>\n",
       "      <th>10</th>\n",
       "      <td>Spirit Air Lines</td>\n",
       "      <td>662752</td>\n",
       "      <td>0.005900</td>\n",
       "    </tr>\n",
       "    <tr>\n",
       "      <th>4</th>\n",
       "      <td>Frontier Airlines Inc.</td>\n",
       "      <td>300144</td>\n",
       "      <td>0.002672</td>\n",
       "    </tr>\n",
       "    <tr>\n",
       "      <th>1</th>\n",
       "      <td>Allegiant Air</td>\n",
       "      <td>98414</td>\n",
       "      <td>0.000876</td>\n",
       "    </tr>\n",
       "  </tbody>\n",
       "</table>\n",
       "</div>"
      ],
      "text/plain": [
       "                   airline  distance  distance_ratio_by_total\n",
       "0     Alaska Airlines Inc.  51901234                 0.462022\n",
       "3     Delta Air Lines Inc.  22395311                 0.199362\n",
       "11   United Air Lines Inc.   8248029                 0.073424\n",
       "8    SkyWest Airlines Inc.   7107696                 0.063272\n",
       "6              Horizon Air   6788743                 0.060433\n",
       "2   American Airlines Inc.   5814178                 0.051758\n",
       "9   Southwest Airlines Co.   5747645                 0.051165\n",
       "5   Hawaiian Airlines Inc.   1884424                 0.016775\n",
       "7          JetBlue Airways   1386325                 0.012341\n",
       "10        Spirit Air Lines    662752                 0.005900\n",
       "4   Frontier Airlines Inc.    300144                 0.002672\n",
       "1            Allegiant Air     98414                 0.000876"
      ]
     },
     "execution_count": 93,
     "metadata": {},
     "output_type": "execute_result"
    }
   ],
   "source": [
    "sorted_airlines"
   ]
  },
  {
   "cell_type": "markdown",
   "metadata": {},
   "source": [
    "**12 adet oran kategorisi oluşmuştur**"
   ]
  },
  {
   "cell_type": "code",
   "execution_count": 94,
   "metadata": {},
   "outputs": [
    {
     "data": {
      "text/plain": [
       "12"
      ]
     },
     "execution_count": 94,
     "metadata": {},
     "output_type": "execute_result"
    }
   ],
   "source": [
    "sorted_airlines[\"distance_ratio_by_total\"].nunique()"
   ]
  },
  {
   "cell_type": "markdown",
   "metadata": {},
   "source": [
    "**merge işlemi öncesi distance kolonu silinmiştir.**"
   ]
  },
  {
   "cell_type": "code",
   "execution_count": 67,
   "metadata": {},
   "outputs": [
    {
     "data": {
      "text/html": [
       "<div>\n",
       "<style scoped>\n",
       "    .dataframe tbody tr th:only-of-type {\n",
       "        vertical-align: middle;\n",
       "    }\n",
       "\n",
       "    .dataframe tbody tr th {\n",
       "        vertical-align: top;\n",
       "    }\n",
       "\n",
       "    .dataframe thead th {\n",
       "        text-align: right;\n",
       "    }\n",
       "</style>\n",
       "<table border=\"1\" class=\"dataframe\">\n",
       "  <thead>\n",
       "    <tr style=\"text-align: right;\">\n",
       "      <th></th>\n",
       "      <th>airline</th>\n",
       "      <th>distance_ratio_by_total</th>\n",
       "    </tr>\n",
       "  </thead>\n",
       "  <tbody>\n",
       "    <tr>\n",
       "      <th>0</th>\n",
       "      <td>Alaska Airlines Inc.</td>\n",
       "      <td>0.462022</td>\n",
       "    </tr>\n",
       "    <tr>\n",
       "      <th>3</th>\n",
       "      <td>Delta Air Lines Inc.</td>\n",
       "      <td>0.199362</td>\n",
       "    </tr>\n",
       "    <tr>\n",
       "      <th>11</th>\n",
       "      <td>United Air Lines Inc.</td>\n",
       "      <td>0.073424</td>\n",
       "    </tr>\n",
       "    <tr>\n",
       "      <th>8</th>\n",
       "      <td>SkyWest Airlines Inc.</td>\n",
       "      <td>0.063272</td>\n",
       "    </tr>\n",
       "    <tr>\n",
       "      <th>6</th>\n",
       "      <td>Horizon Air</td>\n",
       "      <td>0.060433</td>\n",
       "    </tr>\n",
       "    <tr>\n",
       "      <th>2</th>\n",
       "      <td>American Airlines Inc.</td>\n",
       "      <td>0.051758</td>\n",
       "    </tr>\n",
       "    <tr>\n",
       "      <th>9</th>\n",
       "      <td>Southwest Airlines Co.</td>\n",
       "      <td>0.051165</td>\n",
       "    </tr>\n",
       "    <tr>\n",
       "      <th>5</th>\n",
       "      <td>Hawaiian Airlines Inc.</td>\n",
       "      <td>0.016775</td>\n",
       "    </tr>\n",
       "    <tr>\n",
       "      <th>7</th>\n",
       "      <td>JetBlue Airways</td>\n",
       "      <td>0.012341</td>\n",
       "    </tr>\n",
       "    <tr>\n",
       "      <th>10</th>\n",
       "      <td>Spirit Air Lines</td>\n",
       "      <td>0.005900</td>\n",
       "    </tr>\n",
       "    <tr>\n",
       "      <th>4</th>\n",
       "      <td>Frontier Airlines Inc.</td>\n",
       "      <td>0.002672</td>\n",
       "    </tr>\n",
       "    <tr>\n",
       "      <th>1</th>\n",
       "      <td>Allegiant Air</td>\n",
       "      <td>0.000876</td>\n",
       "    </tr>\n",
       "  </tbody>\n",
       "</table>\n",
       "</div>"
      ],
      "text/plain": [
       "                   airline  distance_ratio_by_total\n",
       "0     Alaska Airlines Inc.                 0.462022\n",
       "3     Delta Air Lines Inc.                 0.199362\n",
       "11   United Air Lines Inc.                 0.073424\n",
       "8    SkyWest Airlines Inc.                 0.063272\n",
       "6              Horizon Air                 0.060433\n",
       "2   American Airlines Inc.                 0.051758\n",
       "9   Southwest Airlines Co.                 0.051165\n",
       "5   Hawaiian Airlines Inc.                 0.016775\n",
       "7          JetBlue Airways                 0.012341\n",
       "10        Spirit Air Lines                 0.005900\n",
       "4   Frontier Airlines Inc.                 0.002672\n",
       "1            Allegiant Air                 0.000876"
      ]
     },
     "execution_count": 67,
     "metadata": {},
     "output_type": "execute_result"
    }
   ],
   "source": [
    "sorted_airlines.drop(\"distance\",inplace=True,axis=1)\n",
    "sorted_airlines"
   ]
  },
  {
   "cell_type": "markdown",
   "metadata": {},
   "source": [
    "**genel veri setimize merge ile havayolu şirketinin adı üzerinden birleştirilme yapılmıştır.**"
   ]
  },
  {
   "cell_type": "code",
   "execution_count": 68,
   "metadata": {},
   "outputs": [],
   "source": [
    "df = df.merge(sorted_airlines, on=\"airline\", how=\"left\")"
   ]
  },
  {
   "cell_type": "markdown",
   "metadata": {},
   "source": [
    "**Yeni kategorik oran değişkeninin atandığının doğrulaması**\n",
    "- Yeni değişkenimizin atanması doğrulanmıştır"
   ]
  },
  {
   "cell_type": "code",
   "execution_count": 69,
   "metadata": {},
   "outputs": [
    {
     "data": {
      "text/plain": [
       "12"
      ]
     },
     "execution_count": 69,
     "metadata": {},
     "output_type": "execute_result"
    }
   ],
   "source": [
    "df[\"distance_ratio_by_total\"].nunique()"
   ]
  },
  {
   "cell_type": "code",
   "execution_count": 70,
   "metadata": {},
   "outputs": [
    {
     "data": {
      "text/plain": [
       "8     0.462022\n",
       "10    0.462022\n",
       "16    0.462022\n",
       "19    0.462022\n",
       "22    0.462022\n",
       "Name: distance_ratio_by_total, dtype: float64"
      ]
     },
     "execution_count": 70,
     "metadata": {},
     "output_type": "execute_result"
    }
   ],
   "source": [
    "df.loc[df[\"airline\"]==\"Alaska Airlines Inc.\", \"distance_ratio_by_total\"].head()"
   ]
  },
  {
   "cell_type": "code",
   "execution_count": 71,
   "metadata": {},
   "outputs": [
    {
     "data": {
      "text/plain": [
       "1208     0.000876\n",
       "3109     0.000876\n",
       "4647     0.000876\n",
       "6822     0.000876\n",
       "10486    0.000876\n",
       "Name: distance_ratio_by_total, dtype: float64"
      ]
     },
     "execution_count": 71,
     "metadata": {},
     "output_type": "execute_result"
    }
   ],
   "source": [
    "df.loc[df[\"airline\"]==\"Allegiant Air\", \"distance_ratio_by_total\"].head()"
   ]
  },
  {
   "cell_type": "markdown",
   "metadata": {},
   "source": [
    "**Bu kategoriyi özellikle makine öğrenmesi kısmında işe yarayacağını düşündüğüm için sayısal olarak bıraktım.**"
   ]
  },
  {
   "cell_type": "markdown",
   "metadata": {},
   "source": [
    "# 2.Uçuş mesafeleri, 500 mil altındaki mesafeler, 500-1000 mil arasındaki mesafeler ve 1000 mil ve üzerindeki mesafeler olmak üzere üç ana grupta sınıflandırınız."
   ]
  },
  {
   "cell_type": "code",
   "execution_count": 72,
   "metadata": {},
   "outputs": [
    {
     "data": {
      "text/html": [
       "<div>\n",
       "<style scoped>\n",
       "    .dataframe tbody tr th:only-of-type {\n",
       "        vertical-align: middle;\n",
       "    }\n",
       "\n",
       "    .dataframe tbody tr th {\n",
       "        vertical-align: top;\n",
       "    }\n",
       "\n",
       "    .dataframe thead th {\n",
       "        text-align: right;\n",
       "    }\n",
       "</style>\n",
       "<table border=\"1\" class=\"dataframe\">\n",
       "  <thead>\n",
       "    <tr style=\"text-align: right;\">\n",
       "      <th></th>\n",
       "      <th>count</th>\n",
       "      <th>mean</th>\n",
       "      <th>std</th>\n",
       "      <th>min</th>\n",
       "      <th>25%</th>\n",
       "      <th>50%</th>\n",
       "      <th>75%</th>\n",
       "      <th>max</th>\n",
       "    </tr>\n",
       "  </thead>\n",
       "  <tbody>\n",
       "    <tr>\n",
       "      <th>distance</th>\n",
       "      <td>105614.0</td>\n",
       "      <td>1063.636402</td>\n",
       "      <td>746.772089</td>\n",
       "      <td>93.0</td>\n",
       "      <td>543.0</td>\n",
       "      <td>909.0</td>\n",
       "      <td>1542.0</td>\n",
       "      <td>2724.0</td>\n",
       "    </tr>\n",
       "  </tbody>\n",
       "</table>\n",
       "</div>"
      ],
      "text/plain": [
       "             count         mean         std   min    25%    50%     75%  \\\n",
       "distance  105614.0  1063.636402  746.772089  93.0  543.0  909.0  1542.0   \n",
       "\n",
       "             max  \n",
       "distance  2724.0  "
      ]
     },
     "execution_count": 72,
     "metadata": {},
     "output_type": "execute_result"
    }
   ],
   "source": [
    "df[[\"distance\"]].describe().T"
   ]
  },
  {
   "cell_type": "markdown",
   "metadata": {},
   "source": [
    "- Burada istenilen değerlere göre mesafeler gruplanmıştır."
   ]
  },
  {
   "cell_type": "code",
   "execution_count": 73,
   "metadata": {},
   "outputs": [],
   "source": [
    "bins = [0, 500, 1000, np.inf]\n",
    "labels = [\"0-500 miles\", \"500-1000 miles\", \"1000+ miles\"]\n",
    "df[\"distance_category\"] = pd.cut(df[\"distance\"],bins=bins, labels=labels)"
   ]
  },
  {
   "cell_type": "code",
   "execution_count": 74,
   "metadata": {},
   "outputs": [
    {
     "data": {
      "text/html": [
       "<div>\n",
       "<style scoped>\n",
       "    .dataframe tbody tr th:only-of-type {\n",
       "        vertical-align: middle;\n",
       "    }\n",
       "\n",
       "    .dataframe tbody tr th {\n",
       "        vertical-align: top;\n",
       "    }\n",
       "\n",
       "    .dataframe thead th {\n",
       "        text-align: right;\n",
       "    }\n",
       "</style>\n",
       "<table border=\"1\" class=\"dataframe\">\n",
       "  <thead>\n",
       "    <tr style=\"text-align: right;\">\n",
       "      <th></th>\n",
       "      <th>year</th>\n",
       "      <th>month</th>\n",
       "      <th>day</th>\n",
       "      <th>dep_time</th>\n",
       "      <th>sched_dep_time</th>\n",
       "      <th>dep_delay</th>\n",
       "      <th>arr_time</th>\n",
       "      <th>sched_arr_time</th>\n",
       "      <th>arr_delay</th>\n",
       "      <th>carrier</th>\n",
       "      <th>flight</th>\n",
       "      <th>tailnum</th>\n",
       "      <th>origin</th>\n",
       "      <th>dest</th>\n",
       "      <th>air_time</th>\n",
       "      <th>distance</th>\n",
       "      <th>hour</th>\n",
       "      <th>minute</th>\n",
       "      <th>airline</th>\n",
       "      <th>route</th>\n",
       "      <th>temp</th>\n",
       "      <th>dewp</th>\n",
       "      <th>humid</th>\n",
       "      <th>wind_dir</th>\n",
       "      <th>wind_speed</th>\n",
       "      <th>wind_gust</th>\n",
       "      <th>precip</th>\n",
       "      <th>pressure</th>\n",
       "      <th>visib</th>\n",
       "      <th>date</th>\n",
       "      <th>date_string</th>\n",
       "      <th>dep_delay_check</th>\n",
       "      <th>arr_delay_check</th>\n",
       "      <th>air_time_check</th>\n",
       "      <th>distance_ratio_by_total</th>\n",
       "      <th>distance_category</th>\n",
       "    </tr>\n",
       "  </thead>\n",
       "  <tbody>\n",
       "    <tr>\n",
       "      <th>0</th>\n",
       "      <td>2022</td>\n",
       "      <td>1</td>\n",
       "      <td>1</td>\n",
       "      <td>2022-01-01 01:04:00</td>\n",
       "      <td>2022-01-01 00:43:00</td>\n",
       "      <td>21.0</td>\n",
       "      <td>2022-01-01 09:36:00</td>\n",
       "      <td>2022-01-01 09:30:00</td>\n",
       "      <td>6.0</td>\n",
       "      <td>AA</td>\n",
       "      <td>501</td>\n",
       "      <td>N413AN</td>\n",
       "      <td>SEA</td>\n",
       "      <td>MIA</td>\n",
       "      <td>312.0</td>\n",
       "      <td>2724</td>\n",
       "      <td>0</td>\n",
       "      <td>43</td>\n",
       "      <td>American Airlines Inc.</td>\n",
       "      <td>SEA-MIA</td>\n",
       "      <td>25.0</td>\n",
       "      <td>14.0</td>\n",
       "      <td>62.50</td>\n",
       "      <td>350.0</td>\n",
       "      <td>8.05546</td>\n",
       "      <td>9.270062</td>\n",
       "      <td>0.0</td>\n",
       "      <td>1020.7</td>\n",
       "      <td>10.0</td>\n",
       "      <td>2022-01-01</td>\n",
       "      <td>20220101</td>\n",
       "      <td>21.0</td>\n",
       "      <td>6.0</td>\n",
       "      <td>512.0</td>\n",
       "      <td>0.051758</td>\n",
       "      <td>1000+ miles</td>\n",
       "    </tr>\n",
       "    <tr>\n",
       "      <th>1</th>\n",
       "      <td>2022</td>\n",
       "      <td>1</td>\n",
       "      <td>1</td>\n",
       "      <td>2022-01-01 05:13:00</td>\n",
       "      <td>2022-01-01 05:05:00</td>\n",
       "      <td>8.0</td>\n",
       "      <td>2022-01-01 08:52:00</td>\n",
       "      <td>2022-01-01 08:46:00</td>\n",
       "      <td>6.0</td>\n",
       "      <td>UA</td>\n",
       "      <td>850</td>\n",
       "      <td>N24202</td>\n",
       "      <td>SEA</td>\n",
       "      <td>DEN</td>\n",
       "      <td>133.0</td>\n",
       "      <td>1024</td>\n",
       "      <td>5</td>\n",
       "      <td>5</td>\n",
       "      <td>United Air Lines Inc.</td>\n",
       "      <td>SEA-DEN</td>\n",
       "      <td>24.1</td>\n",
       "      <td>17.1</td>\n",
       "      <td>74.27</td>\n",
       "      <td>110.0</td>\n",
       "      <td>6.90468</td>\n",
       "      <td>7.945768</td>\n",
       "      <td>0.0</td>\n",
       "      <td>1023.0</td>\n",
       "      <td>10.0</td>\n",
       "      <td>2022-01-01</td>\n",
       "      <td>20220101</td>\n",
       "      <td>8.0</td>\n",
       "      <td>6.0</td>\n",
       "      <td>219.0</td>\n",
       "      <td>0.073424</td>\n",
       "      <td>1000+ miles</td>\n",
       "    </tr>\n",
       "    <tr>\n",
       "      <th>2</th>\n",
       "      <td>2022</td>\n",
       "      <td>1</td>\n",
       "      <td>1</td>\n",
       "      <td>2022-01-01 05:14:00</td>\n",
       "      <td>2022-01-01 05:15:00</td>\n",
       "      <td>-1.0</td>\n",
       "      <td>2022-01-01 08:31:00</td>\n",
       "      <td>2022-01-01 08:45:00</td>\n",
       "      <td>-14.0</td>\n",
       "      <td>WN</td>\n",
       "      <td>558</td>\n",
       "      <td>N7738A</td>\n",
       "      <td>PDX</td>\n",
       "      <td>PHX</td>\n",
       "      <td>121.0</td>\n",
       "      <td>1009</td>\n",
       "      <td>5</td>\n",
       "      <td>15</td>\n",
       "      <td>Southwest Airlines Co.</td>\n",
       "      <td>PDX-PHX</td>\n",
       "      <td>28.0</td>\n",
       "      <td>15.1</td>\n",
       "      <td>57.93</td>\n",
       "      <td>130.0</td>\n",
       "      <td>9.20624</td>\n",
       "      <td>10.594357</td>\n",
       "      <td>0.0</td>\n",
       "      <td>1023.1</td>\n",
       "      <td>10.0</td>\n",
       "      <td>2022-01-01</td>\n",
       "      <td>20220101</td>\n",
       "      <td>-1.0</td>\n",
       "      <td>-14.0</td>\n",
       "      <td>197.0</td>\n",
       "      <td>0.051165</td>\n",
       "      <td>1000+ miles</td>\n",
       "    </tr>\n",
       "    <tr>\n",
       "      <th>3</th>\n",
       "      <td>2022</td>\n",
       "      <td>1</td>\n",
       "      <td>1</td>\n",
       "      <td>2022-01-01 05:32:00</td>\n",
       "      <td>2022-01-01 05:35:00</td>\n",
       "      <td>-3.0</td>\n",
       "      <td>2022-01-01 11:09:00</td>\n",
       "      <td>2022-01-01 11:30:00</td>\n",
       "      <td>-21.0</td>\n",
       "      <td>WN</td>\n",
       "      <td>874</td>\n",
       "      <td>N8683D</td>\n",
       "      <td>PDX</td>\n",
       "      <td>MDW</td>\n",
       "      <td>205.0</td>\n",
       "      <td>1751</td>\n",
       "      <td>5</td>\n",
       "      <td>35</td>\n",
       "      <td>Southwest Airlines Co.</td>\n",
       "      <td>PDX-MDW</td>\n",
       "      <td>28.0</td>\n",
       "      <td>15.1</td>\n",
       "      <td>57.93</td>\n",
       "      <td>130.0</td>\n",
       "      <td>9.20624</td>\n",
       "      <td>10.594357</td>\n",
       "      <td>0.0</td>\n",
       "      <td>1023.1</td>\n",
       "      <td>10.0</td>\n",
       "      <td>2022-01-01</td>\n",
       "      <td>20220101</td>\n",
       "      <td>-3.0</td>\n",
       "      <td>-21.0</td>\n",
       "      <td>337.0</td>\n",
       "      <td>0.051165</td>\n",
       "      <td>1000+ miles</td>\n",
       "    </tr>\n",
       "    <tr>\n",
       "      <th>4</th>\n",
       "      <td>2022</td>\n",
       "      <td>1</td>\n",
       "      <td>1</td>\n",
       "      <td>2022-01-01 05:37:00</td>\n",
       "      <td>2022-01-01 05:25:00</td>\n",
       "      <td>12.0</td>\n",
       "      <td>2022-01-01 07:29:00</td>\n",
       "      <td>2022-01-01 07:30:00</td>\n",
       "      <td>-1.0</td>\n",
       "      <td>WN</td>\n",
       "      <td>349</td>\n",
       "      <td>N289CT</td>\n",
       "      <td>SEA</td>\n",
       "      <td>OAK</td>\n",
       "      <td>92.0</td>\n",
       "      <td>672</td>\n",
       "      <td>5</td>\n",
       "      <td>25</td>\n",
       "      <td>Southwest Airlines Co.</td>\n",
       "      <td>SEA-OAK</td>\n",
       "      <td>24.1</td>\n",
       "      <td>17.1</td>\n",
       "      <td>74.27</td>\n",
       "      <td>110.0</td>\n",
       "      <td>6.90468</td>\n",
       "      <td>7.945768</td>\n",
       "      <td>0.0</td>\n",
       "      <td>1023.0</td>\n",
       "      <td>10.0</td>\n",
       "      <td>2022-01-01</td>\n",
       "      <td>20220101</td>\n",
       "      <td>12.0</td>\n",
       "      <td>-1.0</td>\n",
       "      <td>112.0</td>\n",
       "      <td>0.051165</td>\n",
       "      <td>500-1000 miles</td>\n",
       "    </tr>\n",
       "  </tbody>\n",
       "</table>\n",
       "</div>"
      ],
      "text/plain": [
       "   year  month  day            dep_time      sched_dep_time  dep_delay  \\\n",
       "0  2022      1    1 2022-01-01 01:04:00 2022-01-01 00:43:00       21.0   \n",
       "1  2022      1    1 2022-01-01 05:13:00 2022-01-01 05:05:00        8.0   \n",
       "2  2022      1    1 2022-01-01 05:14:00 2022-01-01 05:15:00       -1.0   \n",
       "3  2022      1    1 2022-01-01 05:32:00 2022-01-01 05:35:00       -3.0   \n",
       "4  2022      1    1 2022-01-01 05:37:00 2022-01-01 05:25:00       12.0   \n",
       "\n",
       "             arr_time      sched_arr_time  arr_delay carrier  flight tailnum  \\\n",
       "0 2022-01-01 09:36:00 2022-01-01 09:30:00        6.0      AA     501  N413AN   \n",
       "1 2022-01-01 08:52:00 2022-01-01 08:46:00        6.0      UA     850  N24202   \n",
       "2 2022-01-01 08:31:00 2022-01-01 08:45:00      -14.0      WN     558  N7738A   \n",
       "3 2022-01-01 11:09:00 2022-01-01 11:30:00      -21.0      WN     874  N8683D   \n",
       "4 2022-01-01 07:29:00 2022-01-01 07:30:00       -1.0      WN     349  N289CT   \n",
       "\n",
       "  origin dest  air_time  distance  hour  minute                 airline  \\\n",
       "0    SEA  MIA     312.0      2724     0      43  American Airlines Inc.   \n",
       "1    SEA  DEN     133.0      1024     5       5   United Air Lines Inc.   \n",
       "2    PDX  PHX     121.0      1009     5      15  Southwest Airlines Co.   \n",
       "3    PDX  MDW     205.0      1751     5      35  Southwest Airlines Co.   \n",
       "4    SEA  OAK      92.0       672     5      25  Southwest Airlines Co.   \n",
       "\n",
       "     route  temp  dewp  humid  wind_dir  wind_speed  wind_gust  precip  \\\n",
       "0  SEA-MIA  25.0  14.0  62.50     350.0     8.05546   9.270062     0.0   \n",
       "1  SEA-DEN  24.1  17.1  74.27     110.0     6.90468   7.945768     0.0   \n",
       "2  PDX-PHX  28.0  15.1  57.93     130.0     9.20624  10.594357     0.0   \n",
       "3  PDX-MDW  28.0  15.1  57.93     130.0     9.20624  10.594357     0.0   \n",
       "4  SEA-OAK  24.1  17.1  74.27     110.0     6.90468   7.945768     0.0   \n",
       "\n",
       "   pressure  visib       date date_string  dep_delay_check  arr_delay_check  \\\n",
       "0    1020.7   10.0 2022-01-01    20220101             21.0              6.0   \n",
       "1    1023.0   10.0 2022-01-01    20220101              8.0              6.0   \n",
       "2    1023.1   10.0 2022-01-01    20220101             -1.0            -14.0   \n",
       "3    1023.1   10.0 2022-01-01    20220101             -3.0            -21.0   \n",
       "4    1023.0   10.0 2022-01-01    20220101             12.0             -1.0   \n",
       "\n",
       "   air_time_check  distance_ratio_by_total distance_category  \n",
       "0           512.0                 0.051758       1000+ miles  \n",
       "1           219.0                 0.073424       1000+ miles  \n",
       "2           197.0                 0.051165       1000+ miles  \n",
       "3           337.0                 0.051165       1000+ miles  \n",
       "4           112.0                 0.051165    500-1000 miles  "
      ]
     },
     "execution_count": 74,
     "metadata": {},
     "output_type": "execute_result"
    }
   ],
   "source": [
    "df.head()"
   ]
  },
  {
   "cell_type": "markdown",
   "metadata": {},
   "source": [
    "- Kategorinin dogrulaması"
   ]
  },
  {
   "cell_type": "code",
   "execution_count": 75,
   "metadata": {},
   "outputs": [
    {
     "data": {
      "text/plain": [
       "distance_category\n",
       "1000+ miles       42737\n",
       "500-1000 miles    37836\n",
       "0-500 miles       25041\n",
       "Name: count, dtype: int64"
      ]
     },
     "execution_count": 75,
     "metadata": {},
     "output_type": "execute_result"
    }
   ],
   "source": [
    "df[\"distance_category\"].value_counts()"
   ]
  },
  {
   "cell_type": "markdown",
   "metadata": {},
   "source": [
    "# 3.\tHavayolu şirketleri arasında en fazla uçuşu gerçekleştiren firmaları belirleyiniz."
   ]
  },
  {
   "cell_type": "markdown",
   "metadata": {},
   "source": [
    "- En fazla toplam mesafeye sahip havayolları\n",
    "- Burda Alaska airlines en fazla mesafeyi yapmıştir. En az mesafeyi Allegiant ait yapmıştır. Sıralama görselde verilmiştir."
   ]
  },
  {
   "cell_type": "code",
   "execution_count": 98,
   "metadata": {},
   "outputs": [
    {
     "data": {
      "image/png": "[encoded data removed]",
      "text/plain": [
       "<Figure size 640x480 with 1 Axes>"
      ]
     },
     "metadata": {},
     "output_type": "display_data"
    }
   ],
   "source": [
    "_ = custom_barplot(df,\"airline\",\"distance\",sum)"
   ]
  },
  {
   "cell_type": "markdown",
   "metadata": {},
   "source": [
    "- En fazla uçuş yapan havayolları\n",
    "- Yine Alaska airlines en fazla sayıda uçuş yapmıştır. En az uçuşuda aynı şekilde Allegiant air yapmıştır. Sıralama ve uçuşların % dağılımları görselde verilmiştir."
   ]
  },
  {
   "cell_type": "code",
   "execution_count": 114,
   "metadata": {},
   "outputs": [
    {
     "data": {
      "image/png": "[encoded data removed]",
      "text/plain": [
       "<Figure size 1600x800 with 2 Axes>"
      ]
     },
     "metadata": {},
     "output_type": "display_data"
    }
   ],
   "source": [
    "single_variable_multiple_plot(df[[\"airline\"]],type=\"object\",numeric=False)"
   ]
  },
  {
   "cell_type": "markdown",
   "metadata": {},
   "source": [
    "# 4.\tGecikmeleri varsayarak havayolu şirketlerinin performansları kıyaslayınız."
   ]
  },
  {
   "cell_type": "markdown",
   "metadata": {},
   "source": [
    "**Kalkış ve varış gecikme sürelerinin dağılımları**\n",
    "- Dağılımlar yüksek oranda sağa çarpıktır genelde 0 - 200 aralığındadır.Medyan değerlerine baktığımızda negatiftir.Çarpık verilerde median değerlerini daha çok dikkate aldığımızdan. Genelde gecikmeler azdır diyebiliriz."
   ]
  },
  {
   "cell_type": "code",
   "execution_count": 133,
   "metadata": {},
   "outputs": [
    {
     "data": {
      "text/html": [
       "<div>\n",
       "<style scoped>\n",
       "    .dataframe tbody tr th:only-of-type {\n",
       "        vertical-align: middle;\n",
       "    }\n",
       "\n",
       "    .dataframe tbody tr th {\n",
       "        vertical-align: top;\n",
       "    }\n",
       "\n",
       "    .dataframe thead th {\n",
       "        text-align: right;\n",
       "    }\n",
       "</style>\n",
       "<table border=\"1\" class=\"dataframe\">\n",
       "  <thead>\n",
       "    <tr style=\"text-align: right;\">\n",
       "      <th></th>\n",
       "      <th>count</th>\n",
       "      <th>mean</th>\n",
       "      <th>std</th>\n",
       "      <th>min</th>\n",
       "      <th>25%</th>\n",
       "      <th>50%</th>\n",
       "      <th>75%</th>\n",
       "      <th>max</th>\n",
       "    </tr>\n",
       "  </thead>\n",
       "  <tbody>\n",
       "    <tr>\n",
       "      <th>dep_delay</th>\n",
       "      <td>105614.0</td>\n",
       "      <td>6.833924</td>\n",
       "      <td>29.388242</td>\n",
       "      <td>-36.0</td>\n",
       "      <td>-5.0</td>\n",
       "      <td>-2.0</td>\n",
       "      <td>6.0</td>\n",
       "      <td>939.0</td>\n",
       "    </tr>\n",
       "    <tr>\n",
       "      <th>arr_delay</th>\n",
       "      <td>105614.0</td>\n",
       "      <td>1.176501</td>\n",
       "      <td>31.420228</td>\n",
       "      <td>-65.0</td>\n",
       "      <td>-14.0</td>\n",
       "      <td>-5.0</td>\n",
       "      <td>6.0</td>\n",
       "      <td>907.0</td>\n",
       "    </tr>\n",
       "  </tbody>\n",
       "</table>\n",
       "</div>"
      ],
      "text/plain": [
       "              count      mean        std   min   25%  50%  75%    max\n",
       "dep_delay  105614.0  6.833924  29.388242 -36.0  -5.0 -2.0  6.0  939.0\n",
       "arr_delay  105614.0  1.176501  31.420228 -65.0 -14.0 -5.0  6.0  907.0"
      ]
     },
     "execution_count": 133,
     "metadata": {},
     "output_type": "execute_result"
    }
   ],
   "source": [
    "df[[\"dep_delay\",\"arr_delay\"]].describe().T"
   ]
  },
  {
   "cell_type": "code",
   "execution_count": 131,
   "metadata": {},
   "outputs": [
    {
     "data": {
      "image/png": "[encoded data removed]",
      "text/plain": [
       "<Figure size 2000x400 with 3 Axes>"
      ]
     },
     "metadata": {},
     "output_type": "display_data"
    },
    {
     "data": {
      "image/png": "[encoded data removed]",
      "text/plain": [
       "<Figure size 2000x400 with 3 Axes>"
      ]
     },
     "metadata": {},
     "output_type": "display_data"
    }
   ],
   "source": [
    "single_variable_multiple_plot(df[[\"dep_delay\",\"arr_delay\"]],numeric=True)\n"
   ]
  },
  {
   "cell_type": "markdown",
   "metadata": {},
   "source": [
    "- Aşağıda en fazla varış gecikmesine sahip havayolları (dep_delay) grafiği gösterilmiştir. Burda da toplam değere baktığımızda varış gecikmesi en az olan Allegiant Air olarak gözükmektedir. Ama yine uçuş sayısına orantılı bir değerlendirme yapmak daha faydalı olacaktır. Alaska Airlines en fazla uçuşu yapan firmadır bu nedenle gecikmesi en fazla çıkması doğaldır."
   ]
  },
  {
   "cell_type": "code",
   "execution_count": 117,
   "metadata": {},
   "outputs": [
    {
     "data": {
      "image/png": "[encoded data removed]",
      "text/plain": [
       "<Figure size 640x480 with 1 Axes>"
      ]
     },
     "metadata": {},
     "output_type": "display_data"
    }
   ],
   "source": [
    "_ = custom_barplot(df, \"airline\",\"dep_delay\",sum)"
   ]
  },
  {
   "cell_type": "markdown",
   "metadata": {},
   "source": [
    "- Yine aşağıda en fazla varış gecikmesine sahip havayolları (arr_delay) grafiği gösterilmiştir. Burda da toplam değere baktığımızda varış gecikmesi en az olan United Air Lines olarak gözükmektedir. Ama yine uçuş sayısına orantılı bir değerlendirme yapmak daha faydalı olacaktır. Alaska Airlines en fazla uçuşu yapan firmadır bu nedenle gecikmesi en fazla çıkması doğaldır."
   ]
  },
  {
   "cell_type": "code",
   "execution_count": 120,
   "metadata": {},
   "outputs": [
    {
     "data": {
      "image/png": "[encoded data removed]",
      "text/plain": [
       "<Figure size 640x480 with 1 Axes>"
      ]
     },
     "metadata": {},
     "output_type": "display_data"
    }
   ],
   "source": [
    "_ = custom_barplot(df, \"airline\",\"arr_delay\",sum)"
   ]
  },
  {
   "cell_type": "markdown",
   "metadata": {},
   "source": [
    "**Hava yolları şirketlerinin performans değerlendirmesi bir çok faktöre bağlıdır. Müşteri memnuniyeti anketleri, müşteri yorumları, bütçesi,  uçakların kalitesi vs. Bütün bu bilgilerin derlenip toparlanması için yeterli zaman olmadığından burada kalkış ve varış gecikme değerlerinin toplamını uçuş sayısına bölerek bir performans metriği elde etmeye çalıştım. Yaptığım bu basit yaklaşımda bu metriğin düşük olması daha iyi performansı ifade etmektedir**"
   ]
  },
  {
   "cell_type": "markdown",
   "metadata": {},
   "source": [
    "- Havayolu şirketlerinin toplam uçuş sayıları"
   ]
  },
  {
   "cell_type": "code",
   "execution_count": 136,
   "metadata": {},
   "outputs": [
    {
     "data": {
      "text/html": [
       "<div>\n",
       "<style scoped>\n",
       "    .dataframe tbody tr th:only-of-type {\n",
       "        vertical-align: middle;\n",
       "    }\n",
       "\n",
       "    .dataframe tbody tr th {\n",
       "        vertical-align: top;\n",
       "    }\n",
       "\n",
       "    .dataframe thead th {\n",
       "        text-align: right;\n",
       "    }\n",
       "</style>\n",
       "<table border=\"1\" class=\"dataframe\">\n",
       "  <thead>\n",
       "    <tr style=\"text-align: right;\">\n",
       "      <th></th>\n",
       "      <th>airline</th>\n",
       "      <th>0</th>\n",
       "    </tr>\n",
       "  </thead>\n",
       "  <tbody>\n",
       "    <tr>\n",
       "      <th>0</th>\n",
       "      <td>Alaska Airlines Inc.</td>\n",
       "      <td>39646</td>\n",
       "    </tr>\n",
       "    <tr>\n",
       "      <th>1</th>\n",
       "      <td>Allegiant Air</td>\n",
       "      <td>90</td>\n",
       "    </tr>\n",
       "    <tr>\n",
       "      <th>2</th>\n",
       "      <td>American Airlines Inc.</td>\n",
       "      <td>3403</td>\n",
       "    </tr>\n",
       "    <tr>\n",
       "      <th>3</th>\n",
       "      <td>Delta Air Lines Inc.</td>\n",
       "      <td>15407</td>\n",
       "    </tr>\n",
       "    <tr>\n",
       "      <th>4</th>\n",
       "      <td>Frontier Airlines Inc.</td>\n",
       "      <td>340</td>\n",
       "    </tr>\n",
       "    <tr>\n",
       "      <th>5</th>\n",
       "      <td>Hawaiian Airlines Inc.</td>\n",
       "      <td>719</td>\n",
       "    </tr>\n",
       "    <tr>\n",
       "      <th>6</th>\n",
       "      <td>Horizon Air</td>\n",
       "      <td>19035</td>\n",
       "    </tr>\n",
       "    <tr>\n",
       "      <th>7</th>\n",
       "      <td>JetBlue Airways</td>\n",
       "      <td>577</td>\n",
       "    </tr>\n",
       "    <tr>\n",
       "      <th>8</th>\n",
       "      <td>SkyWest Airlines Inc.</td>\n",
       "      <td>12680</td>\n",
       "    </tr>\n",
       "    <tr>\n",
       "      <th>9</th>\n",
       "      <td>Southwest Airlines Co.</td>\n",
       "      <td>6792</td>\n",
       "    </tr>\n",
       "    <tr>\n",
       "      <th>10</th>\n",
       "      <td>Spirit Air Lines</td>\n",
       "      <td>816</td>\n",
       "    </tr>\n",
       "    <tr>\n",
       "      <th>11</th>\n",
       "      <td>United Air Lines Inc.</td>\n",
       "      <td>6109</td>\n",
       "    </tr>\n",
       "  </tbody>\n",
       "</table>\n",
       "</div>"
      ],
      "text/plain": [
       "                   airline      0\n",
       "0     Alaska Airlines Inc.  39646\n",
       "1            Allegiant Air     90\n",
       "2   American Airlines Inc.   3403\n",
       "3     Delta Air Lines Inc.  15407\n",
       "4   Frontier Airlines Inc.    340\n",
       "5   Hawaiian Airlines Inc.    719\n",
       "6              Horizon Air  19035\n",
       "7          JetBlue Airways    577\n",
       "8    SkyWest Airlines Inc.  12680\n",
       "9   Southwest Airlines Co.   6792\n",
       "10        Spirit Air Lines    816\n",
       "11   United Air Lines Inc.   6109"
      ]
     },
     "execution_count": 136,
     "metadata": {},
     "output_type": "execute_result"
    }
   ],
   "source": [
    "df.groupby(\"airline\").size().reset_index()"
   ]
  },
  {
   "cell_type": "markdown",
   "metadata": {},
   "source": [
    "- Her şirketin toplam uçuş sayısının eklenmesi"
   ]
  },
  {
   "cell_type": "code",
   "execution_count": 137,
   "metadata": {},
   "outputs": [],
   "source": [
    "df[\"total_flight_count\"] = df.groupby(\"airline\").transform(\"size\")"
   ]
  },
  {
   "cell_type": "markdown",
   "metadata": {},
   "source": [
    "- ekleme işleminin kontrolü"
   ]
  },
  {
   "cell_type": "code",
   "execution_count": 142,
   "metadata": {},
   "outputs": [
    {
     "data": {
      "text/html": [
       "<div>\n",
       "<style scoped>\n",
       "    .dataframe tbody tr th:only-of-type {\n",
       "        vertical-align: middle;\n",
       "    }\n",
       "\n",
       "    .dataframe tbody tr th {\n",
       "        vertical-align: top;\n",
       "    }\n",
       "\n",
       "    .dataframe thead th {\n",
       "        text-align: right;\n",
       "    }\n",
       "</style>\n",
       "<table border=\"1\" class=\"dataframe\">\n",
       "  <thead>\n",
       "    <tr style=\"text-align: right;\">\n",
       "      <th></th>\n",
       "      <th>airline</th>\n",
       "      <th>total_flight_count</th>\n",
       "    </tr>\n",
       "  </thead>\n",
       "  <tbody>\n",
       "    <tr>\n",
       "      <th>0</th>\n",
       "      <td>Alaska Airlines Inc.</td>\n",
       "      <td>39646.0</td>\n",
       "    </tr>\n",
       "    <tr>\n",
       "      <th>1</th>\n",
       "      <td>Allegiant Air</td>\n",
       "      <td>90.0</td>\n",
       "    </tr>\n",
       "    <tr>\n",
       "      <th>2</th>\n",
       "      <td>American Airlines Inc.</td>\n",
       "      <td>3403.0</td>\n",
       "    </tr>\n",
       "    <tr>\n",
       "      <th>3</th>\n",
       "      <td>Delta Air Lines Inc.</td>\n",
       "      <td>15407.0</td>\n",
       "    </tr>\n",
       "    <tr>\n",
       "      <th>4</th>\n",
       "      <td>Frontier Airlines Inc.</td>\n",
       "      <td>340.0</td>\n",
       "    </tr>\n",
       "    <tr>\n",
       "      <th>5</th>\n",
       "      <td>Hawaiian Airlines Inc.</td>\n",
       "      <td>719.0</td>\n",
       "    </tr>\n",
       "    <tr>\n",
       "      <th>6</th>\n",
       "      <td>Horizon Air</td>\n",
       "      <td>19035.0</td>\n",
       "    </tr>\n",
       "    <tr>\n",
       "      <th>7</th>\n",
       "      <td>JetBlue Airways</td>\n",
       "      <td>577.0</td>\n",
       "    </tr>\n",
       "    <tr>\n",
       "      <th>8</th>\n",
       "      <td>SkyWest Airlines Inc.</td>\n",
       "      <td>12680.0</td>\n",
       "    </tr>\n",
       "    <tr>\n",
       "      <th>9</th>\n",
       "      <td>Southwest Airlines Co.</td>\n",
       "      <td>6792.0</td>\n",
       "    </tr>\n",
       "    <tr>\n",
       "      <th>10</th>\n",
       "      <td>Spirit Air Lines</td>\n",
       "      <td>816.0</td>\n",
       "    </tr>\n",
       "    <tr>\n",
       "      <th>11</th>\n",
       "      <td>United Air Lines Inc.</td>\n",
       "      <td>6109.0</td>\n",
       "    </tr>\n",
       "  </tbody>\n",
       "</table>\n",
       "</div>"
      ],
      "text/plain": [
       "                   airline  total_flight_count\n",
       "0     Alaska Airlines Inc.             39646.0\n",
       "1            Allegiant Air                90.0\n",
       "2   American Airlines Inc.              3403.0\n",
       "3     Delta Air Lines Inc.             15407.0\n",
       "4   Frontier Airlines Inc.               340.0\n",
       "5   Hawaiian Airlines Inc.               719.0\n",
       "6              Horizon Air             19035.0\n",
       "7          JetBlue Airways               577.0\n",
       "8    SkyWest Airlines Inc.             12680.0\n",
       "9   Southwest Airlines Co.              6792.0\n",
       "10        Spirit Air Lines               816.0\n",
       "11   United Air Lines Inc.              6109.0"
      ]
     },
     "execution_count": 142,
     "metadata": {},
     "output_type": "execute_result"
    }
   ],
   "source": [
    "df.groupby(\"airline\")[\"total_flight_count\"].mean().reset_index()"
   ]
  },
  {
   "cell_type": "markdown",
   "metadata": {},
   "source": [
    "**Performans metriğinin oluşturulması**"
   ]
  },
  {
   "cell_type": "code",
   "execution_count": 153,
   "metadata": {},
   "outputs": [
    {
     "data": {
      "text/html": [
       "<div>\n",
       "<style scoped>\n",
       "    .dataframe tbody tr th:only-of-type {\n",
       "        vertical-align: middle;\n",
       "    }\n",
       "\n",
       "    .dataframe tbody tr th {\n",
       "        vertical-align: top;\n",
       "    }\n",
       "\n",
       "    .dataframe thead th {\n",
       "        text-align: right;\n",
       "    }\n",
       "</style>\n",
       "<table border=\"1\" class=\"dataframe\">\n",
       "  <thead>\n",
       "    <tr style=\"text-align: right;\">\n",
       "      <th></th>\n",
       "      <th>airline</th>\n",
       "      <th>dep_delay</th>\n",
       "      <th>arr_delay</th>\n",
       "      <th>total_flight_count</th>\n",
       "    </tr>\n",
       "  </thead>\n",
       "  <tbody>\n",
       "    <tr>\n",
       "      <th>0</th>\n",
       "      <td>Alaska Airlines Inc.</td>\n",
       "      <td>250685.0</td>\n",
       "      <td>86881.0</td>\n",
       "      <td>39646.0</td>\n",
       "    </tr>\n",
       "    <tr>\n",
       "      <th>1</th>\n",
       "      <td>Allegiant Air</td>\n",
       "      <td>2278.0</td>\n",
       "      <td>1866.0</td>\n",
       "      <td>90.0</td>\n",
       "    </tr>\n",
       "    <tr>\n",
       "      <th>2</th>\n",
       "      <td>American Airlines Inc.</td>\n",
       "      <td>36608.0</td>\n",
       "      <td>-1279.0</td>\n",
       "      <td>3403.0</td>\n",
       "    </tr>\n",
       "    <tr>\n",
       "      <th>3</th>\n",
       "      <td>Delta Air Lines Inc.</td>\n",
       "      <td>123588.0</td>\n",
       "      <td>-26451.0</td>\n",
       "      <td>15407.0</td>\n",
       "    </tr>\n",
       "    <tr>\n",
       "      <th>4</th>\n",
       "      <td>Frontier Airlines Inc.</td>\n",
       "      <td>5884.0</td>\n",
       "      <td>5036.0</td>\n",
       "      <td>340.0</td>\n",
       "    </tr>\n",
       "    <tr>\n",
       "      <th>5</th>\n",
       "      <td>Hawaiian Airlines Inc.</td>\n",
       "      <td>5049.0</td>\n",
       "      <td>2470.0</td>\n",
       "      <td>719.0</td>\n",
       "    </tr>\n",
       "    <tr>\n",
       "      <th>6</th>\n",
       "      <td>Horizon Air</td>\n",
       "      <td>116754.0</td>\n",
       "      <td>78186.0</td>\n",
       "      <td>19035.0</td>\n",
       "    </tr>\n",
       "    <tr>\n",
       "      <th>7</th>\n",
       "      <td>JetBlue Airways</td>\n",
       "      <td>13423.0</td>\n",
       "      <td>7439.0</td>\n",
       "      <td>577.0</td>\n",
       "    </tr>\n",
       "    <tr>\n",
       "      <th>8</th>\n",
       "      <td>SkyWest Airlines Inc.</td>\n",
       "      <td>52394.0</td>\n",
       "      <td>-13253.0</td>\n",
       "      <td>12680.0</td>\n",
       "    </tr>\n",
       "    <tr>\n",
       "      <th>9</th>\n",
       "      <td>Southwest Airlines Co.</td>\n",
       "      <td>74991.0</td>\n",
       "      <td>17813.0</td>\n",
       "      <td>6792.0</td>\n",
       "    </tr>\n",
       "    <tr>\n",
       "      <th>10</th>\n",
       "      <td>Spirit Air Lines</td>\n",
       "      <td>7347.0</td>\n",
       "      <td>2858.0</td>\n",
       "      <td>816.0</td>\n",
       "    </tr>\n",
       "    <tr>\n",
       "      <th>11</th>\n",
       "      <td>United Air Lines Inc.</td>\n",
       "      <td>32757.0</td>\n",
       "      <td>-37311.0</td>\n",
       "      <td>6109.0</td>\n",
       "    </tr>\n",
       "  </tbody>\n",
       "</table>\n",
       "</div>"
      ],
      "text/plain": [
       "                   airline  dep_delay  arr_delay  total_flight_count\n",
       "0     Alaska Airlines Inc.   250685.0    86881.0             39646.0\n",
       "1            Allegiant Air     2278.0     1866.0                90.0\n",
       "2   American Airlines Inc.    36608.0    -1279.0              3403.0\n",
       "3     Delta Air Lines Inc.   123588.0   -26451.0             15407.0\n",
       "4   Frontier Airlines Inc.     5884.0     5036.0               340.0\n",
       "5   Hawaiian Airlines Inc.     5049.0     2470.0               719.0\n",
       "6              Horizon Air   116754.0    78186.0             19035.0\n",
       "7          JetBlue Airways    13423.0     7439.0               577.0\n",
       "8    SkyWest Airlines Inc.    52394.0   -13253.0             12680.0\n",
       "9   Southwest Airlines Co.    74991.0    17813.0              6792.0\n",
       "10        Spirit Air Lines     7347.0     2858.0               816.0\n",
       "11   United Air Lines Inc.    32757.0   -37311.0              6109.0"
      ]
     },
     "execution_count": 153,
     "metadata": {},
     "output_type": "execute_result"
    }
   ],
   "source": [
    "df.groupby(\"airline\").agg({\"dep_delay\":sum, \"arr_delay\":sum, \"total_flight_count\":np.mean}).reset_index()"
   ]
  },
  {
   "cell_type": "code",
   "execution_count": null,
   "metadata": {},
   "outputs": [],
   "source": [
    "airline_delay_group = df.groupby(\"airline\").agg({\"dep_delay\":sum, \"arr_delay\":sum, \"total_flight_count\":np.mean}).reset_index()"
   ]
  },
  {
   "cell_type": "code",
   "execution_count": 154,
   "metadata": {},
   "outputs": [],
   "source": [
    "airline_delay_group[\"airline_performance_ratio\"] = (airline_delay_group[\"dep_delay\"] + airline_delay_group[\"arr_delay\"]) / airline_delay_group[\"total_flight_count\"]"
   ]
  },
  {
   "cell_type": "code",
   "execution_count": 155,
   "metadata": {},
   "outputs": [
    {
     "data": {
      "text/html": [
       "<div>\n",
       "<style scoped>\n",
       "    .dataframe tbody tr th:only-of-type {\n",
       "        vertical-align: middle;\n",
       "    }\n",
       "\n",
       "    .dataframe tbody tr th {\n",
       "        vertical-align: top;\n",
       "    }\n",
       "\n",
       "    .dataframe thead th {\n",
       "        text-align: right;\n",
       "    }\n",
       "</style>\n",
       "<table border=\"1\" class=\"dataframe\">\n",
       "  <thead>\n",
       "    <tr style=\"text-align: right;\">\n",
       "      <th></th>\n",
       "      <th>airline</th>\n",
       "      <th>dep_delay</th>\n",
       "      <th>arr_delay</th>\n",
       "      <th>total_flight_count</th>\n",
       "      <th>airline_performance_ratio</th>\n",
       "    </tr>\n",
       "  </thead>\n",
       "  <tbody>\n",
       "    <tr>\n",
       "      <th>0</th>\n",
       "      <td>Alaska Airlines Inc.</td>\n",
       "      <td>250685.0</td>\n",
       "      <td>86881.0</td>\n",
       "      <td>39646.0</td>\n",
       "      <td>8.514503</td>\n",
       "    </tr>\n",
       "    <tr>\n",
       "      <th>1</th>\n",
       "      <td>Allegiant Air</td>\n",
       "      <td>2278.0</td>\n",
       "      <td>1866.0</td>\n",
       "      <td>90.0</td>\n",
       "      <td>46.044444</td>\n",
       "    </tr>\n",
       "    <tr>\n",
       "      <th>2</th>\n",
       "      <td>American Airlines Inc.</td>\n",
       "      <td>36608.0</td>\n",
       "      <td>-1279.0</td>\n",
       "      <td>3403.0</td>\n",
       "      <td>10.381722</td>\n",
       "    </tr>\n",
       "    <tr>\n",
       "      <th>3</th>\n",
       "      <td>Delta Air Lines Inc.</td>\n",
       "      <td>123588.0</td>\n",
       "      <td>-26451.0</td>\n",
       "      <td>15407.0</td>\n",
       "      <td>6.304732</td>\n",
       "    </tr>\n",
       "    <tr>\n",
       "      <th>4</th>\n",
       "      <td>Frontier Airlines Inc.</td>\n",
       "      <td>5884.0</td>\n",
       "      <td>5036.0</td>\n",
       "      <td>340.0</td>\n",
       "      <td>32.117647</td>\n",
       "    </tr>\n",
       "    <tr>\n",
       "      <th>5</th>\n",
       "      <td>Hawaiian Airlines Inc.</td>\n",
       "      <td>5049.0</td>\n",
       "      <td>2470.0</td>\n",
       "      <td>719.0</td>\n",
       "      <td>10.457580</td>\n",
       "    </tr>\n",
       "    <tr>\n",
       "      <th>6</th>\n",
       "      <td>Horizon Air</td>\n",
       "      <td>116754.0</td>\n",
       "      <td>78186.0</td>\n",
       "      <td>19035.0</td>\n",
       "      <td>10.241135</td>\n",
       "    </tr>\n",
       "    <tr>\n",
       "      <th>7</th>\n",
       "      <td>JetBlue Airways</td>\n",
       "      <td>13423.0</td>\n",
       "      <td>7439.0</td>\n",
       "      <td>577.0</td>\n",
       "      <td>36.155979</td>\n",
       "    </tr>\n",
       "    <tr>\n",
       "      <th>8</th>\n",
       "      <td>SkyWest Airlines Inc.</td>\n",
       "      <td>52394.0</td>\n",
       "      <td>-13253.0</td>\n",
       "      <td>12680.0</td>\n",
       "      <td>3.086830</td>\n",
       "    </tr>\n",
       "    <tr>\n",
       "      <th>9</th>\n",
       "      <td>Southwest Airlines Co.</td>\n",
       "      <td>74991.0</td>\n",
       "      <td>17813.0</td>\n",
       "      <td>6792.0</td>\n",
       "      <td>13.663722</td>\n",
       "    </tr>\n",
       "    <tr>\n",
       "      <th>10</th>\n",
       "      <td>Spirit Air Lines</td>\n",
       "      <td>7347.0</td>\n",
       "      <td>2858.0</td>\n",
       "      <td>816.0</td>\n",
       "      <td>12.506127</td>\n",
       "    </tr>\n",
       "    <tr>\n",
       "      <th>11</th>\n",
       "      <td>United Air Lines Inc.</td>\n",
       "      <td>32757.0</td>\n",
       "      <td>-37311.0</td>\n",
       "      <td>6109.0</td>\n",
       "      <td>-0.745458</td>\n",
       "    </tr>\n",
       "  </tbody>\n",
       "</table>\n",
       "</div>"
      ],
      "text/plain": [
       "                   airline  dep_delay  arr_delay  total_flight_count  \\\n",
       "0     Alaska Airlines Inc.   250685.0    86881.0             39646.0   \n",
       "1            Allegiant Air     2278.0     1866.0                90.0   \n",
       "2   American Airlines Inc.    36608.0    -1279.0              3403.0   \n",
       "3     Delta Air Lines Inc.   123588.0   -26451.0             15407.0   \n",
       "4   Frontier Airlines Inc.     5884.0     5036.0               340.0   \n",
       "5   Hawaiian Airlines Inc.     5049.0     2470.0               719.0   \n",
       "6              Horizon Air   116754.0    78186.0             19035.0   \n",
       "7          JetBlue Airways    13423.0     7439.0               577.0   \n",
       "8    SkyWest Airlines Inc.    52394.0   -13253.0             12680.0   \n",
       "9   Southwest Airlines Co.    74991.0    17813.0              6792.0   \n",
       "10        Spirit Air Lines     7347.0     2858.0               816.0   \n",
       "11   United Air Lines Inc.    32757.0   -37311.0              6109.0   \n",
       "\n",
       "    airline_performance_ratio  \n",
       "0                    8.514503  \n",
       "1                   46.044444  \n",
       "2                   10.381722  \n",
       "3                    6.304732  \n",
       "4                   32.117647  \n",
       "5                   10.457580  \n",
       "6                   10.241135  \n",
       "7                   36.155979  \n",
       "8                    3.086830  \n",
       "9                   13.663722  \n",
       "10                  12.506127  \n",
       "11                  -0.745458  "
      ]
     },
     "execution_count": 155,
     "metadata": {},
     "output_type": "execute_result"
    }
   ],
   "source": [
    "airline_delay_group"
   ]
  },
  {
   "cell_type": "code",
   "execution_count": 156,
   "metadata": {},
   "outputs": [
    {
     "data": {
      "text/html": [
       "<div>\n",
       "<style scoped>\n",
       "    .dataframe tbody tr th:only-of-type {\n",
       "        vertical-align: middle;\n",
       "    }\n",
       "\n",
       "    .dataframe tbody tr th {\n",
       "        vertical-align: top;\n",
       "    }\n",
       "\n",
       "    .dataframe thead th {\n",
       "        text-align: right;\n",
       "    }\n",
       "</style>\n",
       "<table border=\"1\" class=\"dataframe\">\n",
       "  <thead>\n",
       "    <tr style=\"text-align: right;\">\n",
       "      <th></th>\n",
       "      <th>airline</th>\n",
       "      <th>airline_performance_ratio</th>\n",
       "    </tr>\n",
       "  </thead>\n",
       "  <tbody>\n",
       "    <tr>\n",
       "      <th>0</th>\n",
       "      <td>Alaska Airlines Inc.</td>\n",
       "      <td>8.514503</td>\n",
       "    </tr>\n",
       "    <tr>\n",
       "      <th>1</th>\n",
       "      <td>Allegiant Air</td>\n",
       "      <td>46.044444</td>\n",
       "    </tr>\n",
       "    <tr>\n",
       "      <th>2</th>\n",
       "      <td>American Airlines Inc.</td>\n",
       "      <td>10.381722</td>\n",
       "    </tr>\n",
       "    <tr>\n",
       "      <th>3</th>\n",
       "      <td>Delta Air Lines Inc.</td>\n",
       "      <td>6.304732</td>\n",
       "    </tr>\n",
       "    <tr>\n",
       "      <th>4</th>\n",
       "      <td>Frontier Airlines Inc.</td>\n",
       "      <td>32.117647</td>\n",
       "    </tr>\n",
       "    <tr>\n",
       "      <th>5</th>\n",
       "      <td>Hawaiian Airlines Inc.</td>\n",
       "      <td>10.457580</td>\n",
       "    </tr>\n",
       "    <tr>\n",
       "      <th>6</th>\n",
       "      <td>Horizon Air</td>\n",
       "      <td>10.241135</td>\n",
       "    </tr>\n",
       "    <tr>\n",
       "      <th>7</th>\n",
       "      <td>JetBlue Airways</td>\n",
       "      <td>36.155979</td>\n",
       "    </tr>\n",
       "    <tr>\n",
       "      <th>8</th>\n",
       "      <td>SkyWest Airlines Inc.</td>\n",
       "      <td>3.086830</td>\n",
       "    </tr>\n",
       "    <tr>\n",
       "      <th>9</th>\n",
       "      <td>Southwest Airlines Co.</td>\n",
       "      <td>13.663722</td>\n",
       "    </tr>\n",
       "    <tr>\n",
       "      <th>10</th>\n",
       "      <td>Spirit Air Lines</td>\n",
       "      <td>12.506127</td>\n",
       "    </tr>\n",
       "    <tr>\n",
       "      <th>11</th>\n",
       "      <td>United Air Lines Inc.</td>\n",
       "      <td>-0.745458</td>\n",
       "    </tr>\n",
       "  </tbody>\n",
       "</table>\n",
       "</div>"
      ],
      "text/plain": [
       "                   airline  airline_performance_ratio\n",
       "0     Alaska Airlines Inc.                   8.514503\n",
       "1            Allegiant Air                  46.044444\n",
       "2   American Airlines Inc.                  10.381722\n",
       "3     Delta Air Lines Inc.                   6.304732\n",
       "4   Frontier Airlines Inc.                  32.117647\n",
       "5   Hawaiian Airlines Inc.                  10.457580\n",
       "6              Horizon Air                  10.241135\n",
       "7          JetBlue Airways                  36.155979\n",
       "8    SkyWest Airlines Inc.                   3.086830\n",
       "9   Southwest Airlines Co.                  13.663722\n",
       "10        Spirit Air Lines                  12.506127\n",
       "11   United Air Lines Inc.                  -0.745458"
      ]
     },
     "execution_count": 156,
     "metadata": {},
     "output_type": "execute_result"
    }
   ],
   "source": [
    "airline_delay_group.drop([\"dep_delay\",\"arr_delay\",\"total_flight_count\"],axis=1,inplace=True)\n",
    "airline_delay_group"
   ]
  },
  {
   "cell_type": "markdown",
   "metadata": {},
   "source": [
    "**oluşturulan metrik veri setine eklenmiştir**"
   ]
  },
  {
   "cell_type": "code",
   "execution_count": 157,
   "metadata": {},
   "outputs": [],
   "source": [
    "df = df.merge(airline_delay_group, on=\"airline\", how=\"left\")"
   ]
  },
  {
   "cell_type": "markdown",
   "metadata": {},
   "source": [
    "**yapılan işlemin doğrulaması**"
   ]
  },
  {
   "cell_type": "code",
   "execution_count": 163,
   "metadata": {},
   "outputs": [
    {
     "data": {
      "text/html": [
       "<div>\n",
       "<style scoped>\n",
       "    .dataframe tbody tr th:only-of-type {\n",
       "        vertical-align: middle;\n",
       "    }\n",
       "\n",
       "    .dataframe tbody tr th {\n",
       "        vertical-align: top;\n",
       "    }\n",
       "\n",
       "    .dataframe thead th {\n",
       "        text-align: right;\n",
       "    }\n",
       "</style>\n",
       "<table border=\"1\" class=\"dataframe\">\n",
       "  <thead>\n",
       "    <tr style=\"text-align: right;\">\n",
       "      <th></th>\n",
       "      <th>airline</th>\n",
       "      <th>airline_performance_ratio</th>\n",
       "    </tr>\n",
       "  </thead>\n",
       "  <tbody>\n",
       "    <tr>\n",
       "      <th>0</th>\n",
       "      <td>Alaska Airlines Inc.</td>\n",
       "      <td>8.514503</td>\n",
       "    </tr>\n",
       "    <tr>\n",
       "      <th>1</th>\n",
       "      <td>Allegiant Air</td>\n",
       "      <td>46.044444</td>\n",
       "    </tr>\n",
       "    <tr>\n",
       "      <th>2</th>\n",
       "      <td>American Airlines Inc.</td>\n",
       "      <td>10.381722</td>\n",
       "    </tr>\n",
       "    <tr>\n",
       "      <th>3</th>\n",
       "      <td>Delta Air Lines Inc.</td>\n",
       "      <td>6.304732</td>\n",
       "    </tr>\n",
       "    <tr>\n",
       "      <th>4</th>\n",
       "      <td>Frontier Airlines Inc.</td>\n",
       "      <td>32.117647</td>\n",
       "    </tr>\n",
       "    <tr>\n",
       "      <th>5</th>\n",
       "      <td>Hawaiian Airlines Inc.</td>\n",
       "      <td>10.457580</td>\n",
       "    </tr>\n",
       "    <tr>\n",
       "      <th>6</th>\n",
       "      <td>Horizon Air</td>\n",
       "      <td>10.241135</td>\n",
       "    </tr>\n",
       "    <tr>\n",
       "      <th>7</th>\n",
       "      <td>JetBlue Airways</td>\n",
       "      <td>36.155979</td>\n",
       "    </tr>\n",
       "    <tr>\n",
       "      <th>8</th>\n",
       "      <td>SkyWest Airlines Inc.</td>\n",
       "      <td>3.086830</td>\n",
       "    </tr>\n",
       "    <tr>\n",
       "      <th>9</th>\n",
       "      <td>Southwest Airlines Co.</td>\n",
       "      <td>13.663722</td>\n",
       "    </tr>\n",
       "    <tr>\n",
       "      <th>10</th>\n",
       "      <td>Spirit Air Lines</td>\n",
       "      <td>12.506127</td>\n",
       "    </tr>\n",
       "    <tr>\n",
       "      <th>11</th>\n",
       "      <td>United Air Lines Inc.</td>\n",
       "      <td>-0.745458</td>\n",
       "    </tr>\n",
       "  </tbody>\n",
       "</table>\n",
       "</div>"
      ],
      "text/plain": [
       "                   airline  airline_performance_ratio\n",
       "0     Alaska Airlines Inc.                   8.514503\n",
       "1            Allegiant Air                  46.044444\n",
       "2   American Airlines Inc.                  10.381722\n",
       "3     Delta Air Lines Inc.                   6.304732\n",
       "4   Frontier Airlines Inc.                  32.117647\n",
       "5   Hawaiian Airlines Inc.                  10.457580\n",
       "6              Horizon Air                  10.241135\n",
       "7          JetBlue Airways                  36.155979\n",
       "8    SkyWest Airlines Inc.                   3.086830\n",
       "9   Southwest Airlines Co.                  13.663722\n",
       "10        Spirit Air Lines                  12.506127\n",
       "11   United Air Lines Inc.                  -0.745458"
      ]
     },
     "execution_count": 163,
     "metadata": {},
     "output_type": "execute_result"
    }
   ],
   "source": [
    "df.groupby(\"airline\")[\"airline_performance_ratio\"].mean().reset_index()"
   ]
  },
  {
   "cell_type": "markdown",
   "metadata": {},
   "source": [
    "**Elde ettiğimiz grafiğe göre gecikmelerin az olması açısından performansı en iyiler United Airlines inc, Skywest Airlines, Delta Airlines, Alaska Airlines şeklinde küçükten büyüğe girmektedir. En kötü performans Allegiant Air'a aitttir.**"
   ]
  },
  {
   "cell_type": "code",
   "execution_count": 161,
   "metadata": {},
   "outputs": [
    {
     "data": {
      "image/png": "[encoded data removed]",
      "text/plain": [
       "<Figure size 640x480 with 1 Axes>"
      ]
     },
     "metadata": {},
     "output_type": "display_data"
    }
   ],
   "source": [
    "_ = custom_barplot(df,\"airline\",\"airline_performance_ratio\",np.mean)"
   ]
  },
  {
   "cell_type": "code",
   "execution_count": null,
   "metadata": {},
   "outputs": [],
   "source": []
  }
 ],
 "metadata": {
  "colab": {
   "provenance": []
  },
  "kernelspec": {
   "display_name": "Python 3 (ipykernel)",
   "language": "python",
   "name": "python3"
  },
  "language_info": {
   "codemirror_mode": {
    "name": "ipython",
    "version": 3
   },
   "file_extension": ".py",
   "mimetype": "text/x-python",
   "name": "python",
   "nbconvert_exporter": "python",
   "pygments_lexer": "ipython3",
   "version": "3.11.5"
  }
 },
 "nbformat": 4,
 "nbformat_minor": 4
}
