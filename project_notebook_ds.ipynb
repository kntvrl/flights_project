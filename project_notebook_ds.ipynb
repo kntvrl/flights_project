{
 "cells": [
  {
   "cell_type": "code",
   "execution_count": 351,
   "metadata": {},
   "outputs": [],
   "source": [
    "import warnings\n",
    "warnings.filterwarnings(\"ignore\")\n",
    "%matplotlib inline\n",
    "import missingno as msno\n",
    "import numpy as np\n",
    "import pandas as pd\n",
    "import matplotlib.pyplot as plt\n",
    "import seaborn as sns\n",
    "from sklearn.model_selection import StratifiedKFold,train_test_split,GridSearchCV,KFold\n",
    "from sklearn.preprocessing import RobustScaler,MinMaxScaler\n",
    "from sklearn.pipeline import Pipeline\n",
    "from sklearn.linear_model import LinearRegression\n",
    "from sklearn.ensemble import RandomForestRegressor\n",
    "from sklearn.metrics import mean_absolute_error,mean_squared_error\n",
    "pd.set_option(\"display.max_rows\", None)\n",
    "pd.set_option(\"display.max_columns\", None)\n",
    "plt.style.use(\"ggplot\")\n",
    "sns.set_palette(sns.diverging_palette(220, 20))"
   ]
  },
  {
   "cell_type": "markdown",
   "metadata": {},
   "source": [
    "# Uçuş Rötarları ve İptallerinin Analizi\n",
    "---"
   ]
  },
  {
   "cell_type": "markdown",
   "metadata": {
    "id": "Md_WfESotu_8"
   },
   "source": [
    "### Proje Detayları\n",
    "- Time Series Analysis and Forecasting için tarih-saat oluşturulmalıdır, böylece çizim ve zaman serisi analizi daha etkili bir şekilde gerçekleştirilebilir.\n",
    "- Kalkış ve varış saatleri düzeltilmelidir, bu sayede verilerin doğruluğu sağlanabilir.\n",
    "- Kopyalar kontrol edilmelidir, böylece veri setinde tutarsızlıklar ve tekrarlanan bilgiler tespit edilebilir.\n",
    "- HAVA DURUMU DEĞİŞKENLERİ İLE, DELAY ARASINDA MANTIKLI BİR PARAMETRE VAR MI?\n",
    "\n",
    "### Beklenenler\n",
    "- csv dosyasındaki verileri düzenleyiniz.\n",
    "- Gecikmeler açısından hangi havayolları en kötü performansı gösteriyor?\n",
    "- Hangisi en iyisi?\n",
    "- Uçuş performansı yılın aylarına göre değişiyor mu? Bir havayolu şirketi her zaman en kötü performansı gösteren havayolu mudur, yoksa değişkenlik var mıdır?\n",
    "- Hangi rotaların 1. seviye gecikme sınıfına girme olasılığı en yüksek?\n",
    "\n",
    "\n",
    "<span style=\"color: green\"> Gecikme sürelerini cut veya qcut fonksiyonları ile 5 parçaya bölerek kategorik bir değişken oluşturunuz.</span>\n",
    "\n",
    "<span style=\"color: green\">Örneğin: En az gecikme 1. Seviye, en çok gecikme 5. seviye olmak üzere</span>\n"
   ]
  },
  {
   "cell_type": "markdown",
   "metadata": {
    "id": "2-4_kbQI7mMd"
   },
   "source": [
    "---\n",
    "# PROJE SORULARI\n",
    "---\n",
    "1.\tHer havayolunun mesafeyle ilişkisini anlamak için kategorik bir değişken oluşturunuz.\n",
    "2.\tUçuş mesafeleri, 500 mil altındaki mesafeler, 500-1000 mil arasındaki mesafeler ve 1000 mil ve üzerindeki mesafeler olmak üzere üç ana grupta sınıflandırınız.\n",
    "3.\tHavayolu şirketleri arasında en fazla uçuşu gerçekleştiren firmaları belirleyiniz.\n",
    "4.\tGecikmeleri varsayarak havayolu şirketlerinin performansları kıyaslayınız.\n",
    "5.\tHavayolu performansının yılın farklı aylarına göre değişip değişmediğini ve en iyi 5 havayolu performansı ile en kötü 5 performansı gösteriniz.\n",
    "6.\tUçuş iptallerinin yüzde kaç olduğunu belirleyip havayoluna göre değişkenliğini gösteriniz?\n",
    "7.\tRotar Süresinin daha yüksek olduğu günün belirli bir saati ve/veya yılın saati var mı?\n",
    "8.\tEn yüksek ROTAR(gecikme) süresine sahip güzergahlar hangileri?\n",
    "9.\tMakine öğrenmesi modeli kurup uçuşların gecikme sürelerini tahmin ediniz.\n",
    "10.\tModeli Değerlendiriniz.\n",
    "\n"
   ]
  },
  {
   "cell_type": "code",
   "execution_count": null,
   "metadata": {},
   "outputs": [],
   "source": []
  },
  {
   "cell_type": "markdown",
   "metadata": {},
   "source": [
    "**Data Validation**"
   ]
  },
  {
   "cell_type": "markdown",
   "metadata": {},
   "source": [
    "Veri setinde 111006 satır ve 29 değişken bulunmaktadır.\n",
    "\n",
    "Değişken açıklamaları:\n",
    "\n",
    "- year : Yıl - 2022 yılına ait verileri kapsar.\n",
    "- month: Ay - 1. ve 6. aya ait verileri kapsar.\n",
    "- day: Gün - 31 günü ifade eder.\n",
    "- dep_time: Uçağın gerçekleşen kalkış zamanıdır. - \n",
    "- sched_dep_time: Planlanan kalkış zamanı\n",
    "- dep_delay: Kalkış gecikme süresi\n",
    "- arr_time: Gerçekleşen varış zamanı\n",
    "- sched_arr_time: Planlanan varış zamanı\n",
    "- arr_delay: Varış gecikme süresi\n",
    "- carrier: Hava yolu şirketinin kısaltması\n",
    "- flight: uçuş numarası ?\n",
    "- tailnum: Uçak kuyruk numarası\n",
    "- origin: kalkış hava alanı kodu\n",
    "- dest: varış hava alanı kodu\n",
    "- air_time: Uçuş süresi\n",
    "- distance: Uçuş mesafesi\n",
    "- hour: Saat\n",
    "- Minute: Dakika\n",
    "- airline: Havayolu şirketinin adı\n",
    "- route: Uçuş rotası\n",
    "- temp: Sıcaklık\n",
    "- dewp: Çiy noktası sıcaklığı, bir hava kütlesinin içindeki su buharının yoğunlaşmaya başladığı sıcaklık.\n",
    "- humid: Nemlilik\n",
    "- wind_dir: Rüzgar yönü\n",
    "- wind_speed: Rüzgar hızı\n",
    "- wind_gust:  belirli bir zaman dilimindeki rüzgarın en yüksek hızını ifade eder\n",
    "- precip: Yağış\n",
    "- pressure: Hava basıncı\n",
    "- visib: Görüş mesafesi\n",
    "\n",
    "Yüksek nem oranları, uçakların yüzeylerinde yoğuşma ve buzlanma riskini artırabilir. \n",
    "Yüksek nem oranları, düşük görüş mesafesi ve düşük hava kalitesi ile ilişkilendirilebilir. Bu da pilotların görüşünü etkileyebilir ve uçuş güvenliği için önemli bir faktör olabilir.\n",
    "Nem oranı, havanın yoğunluğunu etkiler. Bu da uçak performansını ve aerodinamik özelliklerini etkileyebilir.\n",
    "Yolcuların konforunu etkileyen bir faktör olarak düşünülebilir. Yüksek nem oranları, yolcuların rahatlık düzeyini azaltabilir ve kabin içinde nem kontrolüne ihtiyaç duyulmasına neden olabilir.\n",
    "\n",
    "\"Wind gust\" (rüzgar anında hızı), standart rüzgar hızından farklıdır. Rüzgar anında hızı, belirli bir zaman dilimindeki rüzgarın en yüksek hızını ifade eder. Bu, belirli bir süre boyunca rüzgarın geçici olarak ne kadar hızlandığını gösterir. Özellikle fırtına veya kuvvetli rüzgar koşullarında, rüzgar hızı anlık olarak artabilir ve bu artışlar \"wind gust\" olarak kaydedilir.\n",
    "\n",
    "\n"
   ]
  },
  {
   "cell_type": "code",
   "execution_count": 352,
   "metadata": {},
   "outputs": [],
   "source": [
    "df = pd.read_csv(\"data/flights_weather2022.csv\")"
   ]
  },
  {
   "cell_type": "code",
   "execution_count": 353,
   "metadata": {},
   "outputs": [
    {
     "data": {
      "text/html": [
       "<div>\n",
       "<style scoped>\n",
       "    .dataframe tbody tr th:only-of-type {\n",
       "        vertical-align: middle;\n",
       "    }\n",
       "\n",
       "    .dataframe tbody tr th {\n",
       "        vertical-align: top;\n",
       "    }\n",
       "\n",
       "    .dataframe thead th {\n",
       "        text-align: right;\n",
       "    }\n",
       "</style>\n",
       "<table border=\"1\" class=\"dataframe\">\n",
       "  <thead>\n",
       "    <tr style=\"text-align: right;\">\n",
       "      <th></th>\n",
       "      <th>year</th>\n",
       "      <th>month</th>\n",
       "      <th>day</th>\n",
       "      <th>dep_time</th>\n",
       "      <th>sched_dep_time</th>\n",
       "      <th>dep_delay</th>\n",
       "      <th>arr_time</th>\n",
       "      <th>sched_arr_time</th>\n",
       "      <th>arr_delay</th>\n",
       "      <th>carrier</th>\n",
       "      <th>flight</th>\n",
       "      <th>tailnum</th>\n",
       "      <th>origin</th>\n",
       "      <th>dest</th>\n",
       "      <th>air_time</th>\n",
       "      <th>distance</th>\n",
       "      <th>hour</th>\n",
       "      <th>minute</th>\n",
       "      <th>airline</th>\n",
       "      <th>route</th>\n",
       "      <th>temp</th>\n",
       "      <th>dewp</th>\n",
       "      <th>humid</th>\n",
       "      <th>wind_dir</th>\n",
       "      <th>wind_speed</th>\n",
       "      <th>wind_gust</th>\n",
       "      <th>precip</th>\n",
       "      <th>pressure</th>\n",
       "      <th>visib</th>\n",
       "    </tr>\n",
       "  </thead>\n",
       "  <tbody>\n",
       "    <tr>\n",
       "      <th>0</th>\n",
       "      <td>2022</td>\n",
       "      <td>1</td>\n",
       "      <td>1</td>\n",
       "      <td>1.0</td>\n",
       "      <td>2359</td>\n",
       "      <td>2.0</td>\n",
       "      <td>604.0</td>\n",
       "      <td>618</td>\n",
       "      <td>-14.0</td>\n",
       "      <td>UA</td>\n",
       "      <td>555</td>\n",
       "      <td>N405UA</td>\n",
       "      <td>SEA</td>\n",
       "      <td>IAH</td>\n",
       "      <td>221.0</td>\n",
       "      <td>1874</td>\n",
       "      <td>23</td>\n",
       "      <td>59</td>\n",
       "      <td>United Air Lines Inc.</td>\n",
       "      <td>SEA-IAH</td>\n",
       "      <td>33.0</td>\n",
       "      <td>23.0</td>\n",
       "      <td>66.06</td>\n",
       "      <td>160.0</td>\n",
       "      <td>8.05546</td>\n",
       "      <td>9.270062</td>\n",
       "      <td>0.0</td>\n",
       "      <td>1022.9</td>\n",
       "      <td>10.0</td>\n",
       "    </tr>\n",
       "    <tr>\n",
       "      <th>1</th>\n",
       "      <td>2022</td>\n",
       "      <td>1</td>\n",
       "      <td>1</td>\n",
       "      <td>1.0</td>\n",
       "      <td>2250</td>\n",
       "      <td>71.0</td>\n",
       "      <td>242.0</td>\n",
       "      <td>142</td>\n",
       "      <td>60.0</td>\n",
       "      <td>AS</td>\n",
       "      <td>72</td>\n",
       "      <td>N265AK</td>\n",
       "      <td>SEA</td>\n",
       "      <td>FAI</td>\n",
       "      <td>193.0</td>\n",
       "      <td>1533</td>\n",
       "      <td>22</td>\n",
       "      <td>50</td>\n",
       "      <td>Alaska Airlines Inc.</td>\n",
       "      <td>SEA-FAI</td>\n",
       "      <td>32.0</td>\n",
       "      <td>23.0</td>\n",
       "      <td>69.04</td>\n",
       "      <td>170.0</td>\n",
       "      <td>9.20624</td>\n",
       "      <td>10.594357</td>\n",
       "      <td>0.0</td>\n",
       "      <td>1023.4</td>\n",
       "      <td>10.0</td>\n",
       "    </tr>\n",
       "    <tr>\n",
       "      <th>2</th>\n",
       "      <td>2022</td>\n",
       "      <td>1</td>\n",
       "      <td>1</td>\n",
       "      <td>10.0</td>\n",
       "      <td>2355</td>\n",
       "      <td>15.0</td>\n",
       "      <td>759.0</td>\n",
       "      <td>730</td>\n",
       "      <td>29.0</td>\n",
       "      <td>AS</td>\n",
       "      <td>270</td>\n",
       "      <td>N274AK</td>\n",
       "      <td>SEA</td>\n",
       "      <td>ATL</td>\n",
       "      <td>261.0</td>\n",
       "      <td>2182</td>\n",
       "      <td>23</td>\n",
       "      <td>55</td>\n",
       "      <td>Alaska Airlines Inc.</td>\n",
       "      <td>SEA-ATL</td>\n",
       "      <td>33.0</td>\n",
       "      <td>23.0</td>\n",
       "      <td>66.06</td>\n",
       "      <td>160.0</td>\n",
       "      <td>8.05546</td>\n",
       "      <td>9.270062</td>\n",
       "      <td>0.0</td>\n",
       "      <td>1022.9</td>\n",
       "      <td>10.0</td>\n",
       "    </tr>\n",
       "    <tr>\n",
       "      <th>3</th>\n",
       "      <td>2022</td>\n",
       "      <td>1</td>\n",
       "      <td>1</td>\n",
       "      <td>25.0</td>\n",
       "      <td>2350</td>\n",
       "      <td>35.0</td>\n",
       "      <td>606.0</td>\n",
       "      <td>550</td>\n",
       "      <td>16.0</td>\n",
       "      <td>AS</td>\n",
       "      <td>7</td>\n",
       "      <td>N281AK</td>\n",
       "      <td>SEA</td>\n",
       "      <td>ORD</td>\n",
       "      <td>193.0</td>\n",
       "      <td>1721</td>\n",
       "      <td>23</td>\n",
       "      <td>50</td>\n",
       "      <td>Alaska Airlines Inc.</td>\n",
       "      <td>SEA-ORD</td>\n",
       "      <td>33.0</td>\n",
       "      <td>23.0</td>\n",
       "      <td>66.06</td>\n",
       "      <td>160.0</td>\n",
       "      <td>8.05546</td>\n",
       "      <td>9.270062</td>\n",
       "      <td>0.0</td>\n",
       "      <td>1022.9</td>\n",
       "      <td>10.0</td>\n",
       "    </tr>\n",
       "    <tr>\n",
       "      <th>4</th>\n",
       "      <td>2022</td>\n",
       "      <td>1</td>\n",
       "      <td>1</td>\n",
       "      <td>35.0</td>\n",
       "      <td>2349</td>\n",
       "      <td>46.0</td>\n",
       "      <td>616.0</td>\n",
       "      <td>545</td>\n",
       "      <td>31.0</td>\n",
       "      <td>UA</td>\n",
       "      <td>507</td>\n",
       "      <td>N426UA</td>\n",
       "      <td>PDX</td>\n",
       "      <td>ORD</td>\n",
       "      <td>196.0</td>\n",
       "      <td>1739</td>\n",
       "      <td>23</td>\n",
       "      <td>49</td>\n",
       "      <td>United Air Lines Inc.</td>\n",
       "      <td>PDX-ORD</td>\n",
       "      <td>33.0</td>\n",
       "      <td>19.0</td>\n",
       "      <td>55.75</td>\n",
       "      <td>120.0</td>\n",
       "      <td>6.90468</td>\n",
       "      <td>7.945768</td>\n",
       "      <td>0.0</td>\n",
       "      <td>1025.1</td>\n",
       "      <td>10.0</td>\n",
       "    </tr>\n",
       "  </tbody>\n",
       "</table>\n",
       "</div>"
      ],
      "text/plain": [
       "   year  month  day  dep_time  sched_dep_time  dep_delay  arr_time  \\\n",
       "0  2022      1    1       1.0            2359        2.0     604.0   \n",
       "1  2022      1    1       1.0            2250       71.0     242.0   \n",
       "2  2022      1    1      10.0            2355       15.0     759.0   \n",
       "3  2022      1    1      25.0            2350       35.0     606.0   \n",
       "4  2022      1    1      35.0            2349       46.0     616.0   \n",
       "\n",
       "   sched_arr_time  arr_delay carrier  flight tailnum origin dest  air_time  \\\n",
       "0             618      -14.0      UA     555  N405UA    SEA  IAH     221.0   \n",
       "1             142       60.0      AS      72  N265AK    SEA  FAI     193.0   \n",
       "2             730       29.0      AS     270  N274AK    SEA  ATL     261.0   \n",
       "3             550       16.0      AS       7  N281AK    SEA  ORD     193.0   \n",
       "4             545       31.0      UA     507  N426UA    PDX  ORD     196.0   \n",
       "\n",
       "   distance  hour  minute                airline    route  temp  dewp  humid  \\\n",
       "0      1874    23      59  United Air Lines Inc.  SEA-IAH  33.0  23.0  66.06   \n",
       "1      1533    22      50   Alaska Airlines Inc.  SEA-FAI  32.0  23.0  69.04   \n",
       "2      2182    23      55   Alaska Airlines Inc.  SEA-ATL  33.0  23.0  66.06   \n",
       "3      1721    23      50   Alaska Airlines Inc.  SEA-ORD  33.0  23.0  66.06   \n",
       "4      1739    23      49  United Air Lines Inc.  PDX-ORD  33.0  19.0  55.75   \n",
       "\n",
       "   wind_dir  wind_speed  wind_gust  precip  pressure  visib  \n",
       "0     160.0     8.05546   9.270062     0.0    1022.9   10.0  \n",
       "1     170.0     9.20624  10.594357     0.0    1023.4   10.0  \n",
       "2     160.0     8.05546   9.270062     0.0    1022.9   10.0  \n",
       "3     160.0     8.05546   9.270062     0.0    1022.9   10.0  \n",
       "4     120.0     6.90468   7.945768     0.0    1025.1   10.0  "
      ]
     },
     "execution_count": 353,
     "metadata": {},
     "output_type": "execute_result"
    }
   ],
   "source": [
    "df.head()"
   ]
  },
  {
   "cell_type": "markdown",
   "metadata": {},
   "source": [
    "**Veri setinde 111006 satır ve 29 değişken bulunmaktadır.**"
   ]
  },
  {
   "cell_type": "code",
   "execution_count": 354,
   "metadata": {},
   "outputs": [
    {
     "data": {
      "text/plain": [
       "(111006, 29)"
      ]
     },
     "execution_count": 354,
     "metadata": {},
     "output_type": "execute_result"
    }
   ],
   "source": [
    "df.shape"
   ]
  },
  {
   "cell_type": "code",
   "execution_count": 355,
   "metadata": {},
   "outputs": [
    {
     "data": {
      "text/plain": [
       "year\n",
       "2022    111006\n",
       "Name: count, dtype: int64"
      ]
     },
     "execution_count": 355,
     "metadata": {},
     "output_type": "execute_result"
    }
   ],
   "source": [
    "df[\"year\"].value_counts()"
   ]
  },
  {
   "cell_type": "code",
   "execution_count": 356,
   "metadata": {},
   "outputs": [
    {
     "data": {
      "text/plain": [
       "month\n",
       "6    20491\n",
       "5    19971\n",
       "4    18741\n",
       "3    18306\n",
       "1    17473\n",
       "2    16024\n",
       "Name: count, dtype: int64"
      ]
     },
     "execution_count": 356,
     "metadata": {},
     "output_type": "execute_result"
    }
   ],
   "source": [
    "df[\"month\"].value_counts()"
   ]
  },
  {
   "cell_type": "code",
   "execution_count": 357,
   "metadata": {},
   "outputs": [
    {
     "data": {
      "text/html": [
       "<div>\n",
       "<style scoped>\n",
       "    .dataframe tbody tr th:only-of-type {\n",
       "        vertical-align: middle;\n",
       "    }\n",
       "\n",
       "    .dataframe tbody tr th {\n",
       "        vertical-align: top;\n",
       "    }\n",
       "\n",
       "    .dataframe thead th {\n",
       "        text-align: right;\n",
       "    }\n",
       "</style>\n",
       "<table border=\"1\" class=\"dataframe\">\n",
       "  <thead>\n",
       "    <tr style=\"text-align: right;\">\n",
       "      <th></th>\n",
       "      <th>count</th>\n",
       "      <th>mean</th>\n",
       "      <th>std</th>\n",
       "      <th>min</th>\n",
       "      <th>25%</th>\n",
       "      <th>50%</th>\n",
       "      <th>75%</th>\n",
       "      <th>max</th>\n",
       "    </tr>\n",
       "  </thead>\n",
       "  <tbody>\n",
       "    <tr>\n",
       "      <th>year</th>\n",
       "      <td>111006.0</td>\n",
       "      <td>2022.000000</td>\n",
       "      <td>0.000000</td>\n",
       "      <td>2022.00</td>\n",
       "      <td>2022.000000</td>\n",
       "      <td>2022.000000</td>\n",
       "      <td>2022.000000</td>\n",
       "      <td>2022.000000</td>\n",
       "    </tr>\n",
       "    <tr>\n",
       "      <th>month</th>\n",
       "      <td>111006.0</td>\n",
       "      <td>3.623264</td>\n",
       "      <td>1.713287</td>\n",
       "      <td>1.00</td>\n",
       "      <td>2.000000</td>\n",
       "      <td>4.000000</td>\n",
       "      <td>5.000000</td>\n",
       "      <td>6.000000</td>\n",
       "    </tr>\n",
       "    <tr>\n",
       "      <th>day</th>\n",
       "      <td>111006.0</td>\n",
       "      <td>15.736654</td>\n",
       "      <td>8.723487</td>\n",
       "      <td>1.00</td>\n",
       "      <td>8.000000</td>\n",
       "      <td>16.000000</td>\n",
       "      <td>23.000000</td>\n",
       "      <td>31.000000</td>\n",
       "    </tr>\n",
       "    <tr>\n",
       "      <th>dep_time</th>\n",
       "      <td>108566.0</td>\n",
       "      <td>1336.449487</td>\n",
       "      <td>540.664793</td>\n",
       "      <td>1.00</td>\n",
       "      <td>912.000000</td>\n",
       "      <td>1309.000000</td>\n",
       "      <td>1800.000000</td>\n",
       "      <td>2400.000000</td>\n",
       "    </tr>\n",
       "    <tr>\n",
       "      <th>sched_dep_time</th>\n",
       "      <td>111006.0</td>\n",
       "      <td>1342.068158</td>\n",
       "      <td>530.610560</td>\n",
       "      <td>2.00</td>\n",
       "      <td>910.000000</td>\n",
       "      <td>1305.000000</td>\n",
       "      <td>1800.000000</td>\n",
       "      <td>2359.000000</td>\n",
       "    </tr>\n",
       "    <tr>\n",
       "      <th>dep_delay</th>\n",
       "      <td>108566.0</td>\n",
       "      <td>8.038456</td>\n",
       "      <td>41.687738</td>\n",
       "      <td>-36.00</td>\n",
       "      <td>-5.000000</td>\n",
       "      <td>-2.000000</td>\n",
       "      <td>6.000000</td>\n",
       "      <td>2120.000000</td>\n",
       "    </tr>\n",
       "    <tr>\n",
       "      <th>arr_time</th>\n",
       "      <td>108469.0</td>\n",
       "      <td>1467.243636</td>\n",
       "      <td>570.938019</td>\n",
       "      <td>1.00</td>\n",
       "      <td>1055.000000</td>\n",
       "      <td>1520.000000</td>\n",
       "      <td>1917.000000</td>\n",
       "      <td>2400.000000</td>\n",
       "    </tr>\n",
       "    <tr>\n",
       "      <th>sched_arr_time</th>\n",
       "      <td>111006.0</td>\n",
       "      <td>1506.330090</td>\n",
       "      <td>546.796862</td>\n",
       "      <td>3.00</td>\n",
       "      <td>1115.000000</td>\n",
       "      <td>1540.000000</td>\n",
       "      <td>1937.000000</td>\n",
       "      <td>2359.000000</td>\n",
       "    </tr>\n",
       "    <tr>\n",
       "      <th>arr_delay</th>\n",
       "      <td>108332.0</td>\n",
       "      <td>2.359524</td>\n",
       "      <td>43.088734</td>\n",
       "      <td>-65.00</td>\n",
       "      <td>-14.000000</td>\n",
       "      <td>-5.000000</td>\n",
       "      <td>6.000000</td>\n",
       "      <td>2098.000000</td>\n",
       "    </tr>\n",
       "    <tr>\n",
       "      <th>flight</th>\n",
       "      <td>111006.0</td>\n",
       "      <td>433.663856</td>\n",
       "      <td>267.779635</td>\n",
       "      <td>1.00</td>\n",
       "      <td>210.000000</td>\n",
       "      <td>416.000000</td>\n",
       "      <td>644.000000</td>\n",
       "      <td>1100.000000</td>\n",
       "    </tr>\n",
       "    <tr>\n",
       "      <th>air_time</th>\n",
       "      <td>108332.0</td>\n",
       "      <td>136.527628</td>\n",
       "      <td>82.487434</td>\n",
       "      <td>17.00</td>\n",
       "      <td>78.000000</td>\n",
       "      <td>120.000000</td>\n",
       "      <td>193.000000</td>\n",
       "      <td>397.000000</td>\n",
       "    </tr>\n",
       "    <tr>\n",
       "      <th>distance</th>\n",
       "      <td>111006.0</td>\n",
       "      <td>1068.619183</td>\n",
       "      <td>746.859903</td>\n",
       "      <td>93.00</td>\n",
       "      <td>543.000000</td>\n",
       "      <td>909.000000</td>\n",
       "      <td>1542.000000</td>\n",
       "      <td>2724.000000</td>\n",
       "    </tr>\n",
       "    <tr>\n",
       "      <th>hour</th>\n",
       "      <td>111006.0</td>\n",
       "      <td>13.135614</td>\n",
       "      <td>5.269788</td>\n",
       "      <td>0.00</td>\n",
       "      <td>9.000000</td>\n",
       "      <td>13.000000</td>\n",
       "      <td>18.000000</td>\n",
       "      <td>23.000000</td>\n",
       "    </tr>\n",
       "    <tr>\n",
       "      <th>minute</th>\n",
       "      <td>111006.0</td>\n",
       "      <td>28.506729</td>\n",
       "      <td>18.354465</td>\n",
       "      <td>0.00</td>\n",
       "      <td>15.000000</td>\n",
       "      <td>30.000000</td>\n",
       "      <td>45.000000</td>\n",
       "      <td>59.000000</td>\n",
       "    </tr>\n",
       "    <tr>\n",
       "      <th>temp</th>\n",
       "      <td>111006.0</td>\n",
       "      <td>48.155538</td>\n",
       "      <td>9.363201</td>\n",
       "      <td>21.90</td>\n",
       "      <td>42.000000</td>\n",
       "      <td>47.000000</td>\n",
       "      <td>54.000000</td>\n",
       "      <td>99.000000</td>\n",
       "    </tr>\n",
       "    <tr>\n",
       "      <th>dewp</th>\n",
       "      <td>111006.0</td>\n",
       "      <td>40.454927</td>\n",
       "      <td>7.968649</td>\n",
       "      <td>1.00</td>\n",
       "      <td>36.000000</td>\n",
       "      <td>40.000000</td>\n",
       "      <td>46.000000</td>\n",
       "      <td>61.000000</td>\n",
       "    </tr>\n",
       "    <tr>\n",
       "      <th>humid</th>\n",
       "      <td>111006.0</td>\n",
       "      <td>76.506300</td>\n",
       "      <td>15.192175</td>\n",
       "      <td>15.79</td>\n",
       "      <td>68.460000</td>\n",
       "      <td>79.400000</td>\n",
       "      <td>88.670000</td>\n",
       "      <td>100.000000</td>\n",
       "    </tr>\n",
       "    <tr>\n",
       "      <th>wind_dir</th>\n",
       "      <td>107843.0</td>\n",
       "      <td>164.500524</td>\n",
       "      <td>101.084372</td>\n",
       "      <td>0.00</td>\n",
       "      <td>100.000000</td>\n",
       "      <td>180.000000</td>\n",
       "      <td>220.000000</td>\n",
       "      <td>360.000000</td>\n",
       "    </tr>\n",
       "    <tr>\n",
       "      <th>wind_speed</th>\n",
       "      <td>110727.0</td>\n",
       "      <td>6.995307</td>\n",
       "      <td>4.507431</td>\n",
       "      <td>0.00</td>\n",
       "      <td>4.603120</td>\n",
       "      <td>6.904680</td>\n",
       "      <td>9.206240</td>\n",
       "      <td>27.618720</td>\n",
       "    </tr>\n",
       "    <tr>\n",
       "      <th>wind_gust</th>\n",
       "      <td>110727.0</td>\n",
       "      <td>8.050059</td>\n",
       "      <td>5.187061</td>\n",
       "      <td>0.00</td>\n",
       "      <td>5.297178</td>\n",
       "      <td>7.945768</td>\n",
       "      <td>10.594357</td>\n",
       "      <td>31.783071</td>\n",
       "    </tr>\n",
       "    <tr>\n",
       "      <th>precip</th>\n",
       "      <td>111006.0</td>\n",
       "      <td>0.005774</td>\n",
       "      <td>0.022099</td>\n",
       "      <td>0.00</td>\n",
       "      <td>0.000000</td>\n",
       "      <td>0.000000</td>\n",
       "      <td>0.000000</td>\n",
       "      <td>0.320000</td>\n",
       "    </tr>\n",
       "    <tr>\n",
       "      <th>pressure</th>\n",
       "      <td>111006.0</td>\n",
       "      <td>1020.187948</td>\n",
       "      <td>7.710084</td>\n",
       "      <td>991.00</td>\n",
       "      <td>1015.200000</td>\n",
       "      <td>1020.700000</td>\n",
       "      <td>1025.500000</td>\n",
       "      <td>1039.200000</td>\n",
       "    </tr>\n",
       "    <tr>\n",
       "      <th>visib</th>\n",
       "      <td>111006.0</td>\n",
       "      <td>8.922346</td>\n",
       "      <td>2.537055</td>\n",
       "      <td>0.00</td>\n",
       "      <td>10.000000</td>\n",
       "      <td>10.000000</td>\n",
       "      <td>10.000000</td>\n",
       "      <td>10.000000</td>\n",
       "    </tr>\n",
       "  </tbody>\n",
       "</table>\n",
       "</div>"
      ],
      "text/plain": [
       "                   count         mean         std      min          25%  \\\n",
       "year            111006.0  2022.000000    0.000000  2022.00  2022.000000   \n",
       "month           111006.0     3.623264    1.713287     1.00     2.000000   \n",
       "day             111006.0    15.736654    8.723487     1.00     8.000000   \n",
       "dep_time        108566.0  1336.449487  540.664793     1.00   912.000000   \n",
       "sched_dep_time  111006.0  1342.068158  530.610560     2.00   910.000000   \n",
       "dep_delay       108566.0     8.038456   41.687738   -36.00    -5.000000   \n",
       "arr_time        108469.0  1467.243636  570.938019     1.00  1055.000000   \n",
       "sched_arr_time  111006.0  1506.330090  546.796862     3.00  1115.000000   \n",
       "arr_delay       108332.0     2.359524   43.088734   -65.00   -14.000000   \n",
       "flight          111006.0   433.663856  267.779635     1.00   210.000000   \n",
       "air_time        108332.0   136.527628   82.487434    17.00    78.000000   \n",
       "distance        111006.0  1068.619183  746.859903    93.00   543.000000   \n",
       "hour            111006.0    13.135614    5.269788     0.00     9.000000   \n",
       "minute          111006.0    28.506729   18.354465     0.00    15.000000   \n",
       "temp            111006.0    48.155538    9.363201    21.90    42.000000   \n",
       "dewp            111006.0    40.454927    7.968649     1.00    36.000000   \n",
       "humid           111006.0    76.506300   15.192175    15.79    68.460000   \n",
       "wind_dir        107843.0   164.500524  101.084372     0.00   100.000000   \n",
       "wind_speed      110727.0     6.995307    4.507431     0.00     4.603120   \n",
       "wind_gust       110727.0     8.050059    5.187061     0.00     5.297178   \n",
       "precip          111006.0     0.005774    0.022099     0.00     0.000000   \n",
       "pressure        111006.0  1020.187948    7.710084   991.00  1015.200000   \n",
       "visib           111006.0     8.922346    2.537055     0.00    10.000000   \n",
       "\n",
       "                        50%          75%          max  \n",
       "year            2022.000000  2022.000000  2022.000000  \n",
       "month              4.000000     5.000000     6.000000  \n",
       "day               16.000000    23.000000    31.000000  \n",
       "dep_time        1309.000000  1800.000000  2400.000000  \n",
       "sched_dep_time  1305.000000  1800.000000  2359.000000  \n",
       "dep_delay         -2.000000     6.000000  2120.000000  \n",
       "arr_time        1520.000000  1917.000000  2400.000000  \n",
       "sched_arr_time  1540.000000  1937.000000  2359.000000  \n",
       "arr_delay         -5.000000     6.000000  2098.000000  \n",
       "flight           416.000000   644.000000  1100.000000  \n",
       "air_time         120.000000   193.000000   397.000000  \n",
       "distance         909.000000  1542.000000  2724.000000  \n",
       "hour              13.000000    18.000000    23.000000  \n",
       "minute            30.000000    45.000000    59.000000  \n",
       "temp              47.000000    54.000000    99.000000  \n",
       "dewp              40.000000    46.000000    61.000000  \n",
       "humid             79.400000    88.670000   100.000000  \n",
       "wind_dir         180.000000   220.000000   360.000000  \n",
       "wind_speed         6.904680     9.206240    27.618720  \n",
       "wind_gust          7.945768    10.594357    31.783071  \n",
       "precip             0.000000     0.000000     0.320000  \n",
       "pressure        1020.700000  1025.500000  1039.200000  \n",
       "visib             10.000000    10.000000    10.000000  "
      ]
     },
     "execution_count": 357,
     "metadata": {},
     "output_type": "execute_result"
    }
   ],
   "source": [
    "df.describe().T"
   ]
  },
  {
   "cell_type": "code",
   "execution_count": 358,
   "metadata": {},
   "outputs": [
    {
     "name": "stdout",
     "output_type": "stream",
     "text": [
      "<class 'pandas.core.frame.DataFrame'>\n",
      "RangeIndex: 111006 entries, 0 to 111005\n",
      "Data columns (total 29 columns):\n",
      " #   Column          Non-Null Count   Dtype  \n",
      "---  ------          --------------   -----  \n",
      " 0   year            111006 non-null  int64  \n",
      " 1   month           111006 non-null  int64  \n",
      " 2   day             111006 non-null  int64  \n",
      " 3   dep_time        108566 non-null  float64\n",
      " 4   sched_dep_time  111006 non-null  int64  \n",
      " 5   dep_delay       108566 non-null  float64\n",
      " 6   arr_time        108469 non-null  float64\n",
      " 7   sched_arr_time  111006 non-null  int64  \n",
      " 8   arr_delay       108332 non-null  float64\n",
      " 9   carrier         111006 non-null  object \n",
      " 10  flight          111006 non-null  int64  \n",
      " 11  tailnum         110877 non-null  object \n",
      " 12  origin          111006 non-null  object \n",
      " 13  dest            111006 non-null  object \n",
      " 14  air_time        108332 non-null  float64\n",
      " 15  distance        111006 non-null  int64  \n",
      " 16  hour            111006 non-null  int64  \n",
      " 17  minute          111006 non-null  int64  \n",
      " 18  airline         111006 non-null  object \n",
      " 19  route           111006 non-null  object \n",
      " 20  temp            111006 non-null  float64\n",
      " 21  dewp            111006 non-null  float64\n",
      " 22  humid           111006 non-null  float64\n",
      " 23  wind_dir        107843 non-null  float64\n",
      " 24  wind_speed      110727 non-null  float64\n",
      " 25  wind_gust       110727 non-null  float64\n",
      " 26  precip          111006 non-null  float64\n",
      " 27  pressure        111006 non-null  float64\n",
      " 28  visib           111006 non-null  float64\n",
      "dtypes: float64(14), int64(9), object(6)\n",
      "memory usage: 24.6+ MB\n"
     ]
    }
   ],
   "source": [
    "df.info()"
   ]
  },
  {
   "cell_type": "markdown",
   "metadata": {},
   "source": [
    "**Sayısal Kolonlar**"
   ]
  },
  {
   "cell_type": "code",
   "execution_count": 359,
   "metadata": {},
   "outputs": [
    {
     "data": {
      "text/plain": [
       "Index(['year', 'month', 'day', 'dep_time', 'sched_dep_time', 'dep_delay',\n",
       "       'arr_time', 'sched_arr_time', 'arr_delay', 'flight', 'air_time',\n",
       "       'distance', 'hour', 'minute', 'temp', 'dewp', 'humid', 'wind_dir',\n",
       "       'wind_speed', 'wind_gust', 'precip', 'pressure', 'visib'],\n",
       "      dtype='object')"
      ]
     },
     "execution_count": 359,
     "metadata": {},
     "output_type": "execute_result"
    }
   ],
   "source": [
    "numeric_df = df.select_dtypes(include=[\"int64\",\"float64\"])\n",
    "numeric_df.columns"
   ]
  },
  {
   "cell_type": "markdown",
   "metadata": {},
   "source": [
    "**Kategorik Kolonlar**"
   ]
  },
  {
   "cell_type": "code",
   "execution_count": 360,
   "metadata": {},
   "outputs": [
    {
     "data": {
      "text/plain": [
       "Index(['carrier', 'tailnum', 'origin', 'dest', 'airline', 'route'], dtype='object')"
      ]
     },
     "execution_count": 360,
     "metadata": {},
     "output_type": "execute_result"
    }
   ],
   "source": [
    "categoric_df =df.select_dtypes(include=[\"object\",\"category\"])\n",
    "categoric_df.columns"
   ]
  },
  {
   "cell_type": "markdown",
   "metadata": {},
   "source": [
    "**Eksik verilerin temizlenmesi**\n",
    "- Veri setinde dep_time, dep_delay, arr_time, arr_delay, air_time değişkenlerinde sistematik meydana gelen eksik veriler vardır. Bunların aynı anda meydana gelmesi uçuk iptallerinden kaynaklı olabilir. Yine tailnum değişkeninde 129 adet eksik veri vardır. Bu eksiklikte diğer eksiklikler ile ilişkilidir. Aynı zamanda wind_dir, wind_speed ve wind_gust değişkenlerinde de eksiklikler yer almakdadır. \n"
   ]
  },
  {
   "cell_type": "code",
   "execution_count": 361,
   "metadata": {},
   "outputs": [
    {
     "data": {
      "text/plain": [
       "year                 0\n",
       "month                0\n",
       "day                  0\n",
       "dep_time          2440\n",
       "sched_dep_time       0\n",
       "dep_delay         2440\n",
       "arr_time          2537\n",
       "sched_arr_time       0\n",
       "arr_delay         2674\n",
       "carrier              0\n",
       "flight               0\n",
       "tailnum            129\n",
       "origin               0\n",
       "dest                 0\n",
       "air_time          2674\n",
       "distance             0\n",
       "hour                 0\n",
       "minute               0\n",
       "airline              0\n",
       "route                0\n",
       "temp                 0\n",
       "dewp                 0\n",
       "humid                0\n",
       "wind_dir          3163\n",
       "wind_speed         279\n",
       "wind_gust          279\n",
       "precip               0\n",
       "pressure             0\n",
       "visib                0\n",
       "dtype: int64"
      ]
     },
     "execution_count": 361,
     "metadata": {},
     "output_type": "execute_result"
    }
   ],
   "source": [
    "#Eksik veri kontrolü\n",
    "df.isnull().sum()"
   ]
  },
  {
   "cell_type": "code",
   "execution_count": 362,
   "metadata": {},
   "outputs": [
    {
     "data": {
      "text/plain": [
       "<Figure size 600x400 with 0 Axes>"
      ]
     },
     "metadata": {},
     "output_type": "display_data"
    },
    {
     "data": {
      "image/png": "[encoded data removed]",
      "text/plain": [
       "<Figure size 2500x1000 with 2 Axes>"
      ]
     },
     "metadata": {},
     "output_type": "display_data"
    }
   ],
   "source": [
    "#Eksik verilerin görselleştirilmesi\n",
    "plt.figure(figsize=(6, 4)) \n",
    "msno.matrix(df)\n",
    "plt.show()"
   ]
  },
  {
   "cell_type": "markdown",
   "metadata": {},
   "source": [
    "- \"dep_time\",\"dep_delay\",\"arr_time\",\"arr_delay\",\"air_time\" kolonlarındaki eksik verilerin aynı anda oluşmuş olabileceği grafikten görünüyor. Bu durumu sorguladığımızda bu kolonlarda 2440 değerin eksik olduğu görülmektedir."
   ]
  },
  {
   "cell_type": "code",
   "execution_count": 363,
   "metadata": {},
   "outputs": [
    {
     "data": {
      "text/plain": [
       "2440"
      ]
     },
     "execution_count": 363,
     "metadata": {},
     "output_type": "execute_result"
    }
   ],
   "source": [
    "df[[\"dep_time\",\"dep_delay\",\"arr_time\",\"arr_delay\",\"air_time\"]].isnull().all(axis=1).sum()\n"
   ]
  },
  {
   "cell_type": "code",
   "execution_count": 364,
   "metadata": {},
   "outputs": [
    {
     "name": "stdout",
     "output_type": "stream",
     "text": [
      "Aynı anda eksik olan değişkenlerin tüm veri setine oranı %2.20'dir.\n"
     ]
    }
   ],
   "source": [
    "simultaneus_missing_data = df[[\"dep_time\",\"dep_delay\",\"arr_time\",\"arr_delay\",\"air_time\"]].isnull().all(axis=1).sum()\n",
    "ratio = simultaneus_missing_data / len(df) * 100\n",
    "print(f\"Aynı anda eksik olan değişkenlerin tüm veri setine oranı %{ratio:.2f}'dir.\")"
   ]
  },
  {
   "cell_type": "code",
   "execution_count": 365,
   "metadata": {},
   "outputs": [
    {
     "data": {
      "text/plain": [
       "5787"
      ]
     },
     "execution_count": 365,
     "metadata": {},
     "output_type": "execute_result"
    }
   ],
   "source": [
    "#Eksik değer olan toplam satır sayısı veri setinin yaklaşık %5 ine karşılık gelir.\n",
    "df.isnull().any(axis=1).sum()"
   ]
  },
  {
   "cell_type": "code",
   "execution_count": 366,
   "metadata": {},
   "outputs": [
    {
     "data": {
      "text/plain": [
       "5550.3"
      ]
     },
     "execution_count": 366,
     "metadata": {},
     "output_type": "execute_result"
    }
   ],
   "source": [
    "# Genel kabul gören kabul edilebilir eksiklik oranı olan %5' ekarşılık gelen veri sayısı 5550 dir. \n",
    "#Başka bir deyişle eksik verilerde 5550 adet eksikliğe kadar tölaransımız vardır.\n",
    "threshold = len(df) * 0.05\n",
    "threshold"
   ]
  },
  {
   "cell_type": "markdown",
   "metadata": {},
   "source": [
    "\n",
    "**Eksik verileri temizlemeden önce 6. sorunun değerlendirilmesi**\n",
    "\n",
    "6.\tUçuş iptallerinin yüzde kaç olduğunu belirleyip havayoluna göre değişkenliğini gösteriniz?\n",
    "\n",
    "- \"dep_time\",\"dep_delay\",\"arr_time\",\"arr_delay\",\"air_time\" kolonlarında 2440 adet aynı anda meydana gelen eksik veriler yer almaktadır. Uçuş iptalini belirten herhangi bir kolon olmadığı için bu eksiklikleri uçuş iptali olarak kabul ettim.\n",
    "Eksik olan 2440 olan değer veri setinin %2.20'si olduğundan bu sayede uçuş iptallerinin yüzdesini de elde etmiş oldum.\n",
    "- İptaller en çok Alaska Airlines a aittir. Neredeyse toplam iptal edilen uçuşların %50 den fazlasını kapsamaktadır. En az iptal edilen uçuşda Hawaiian Airlines a aittir."
   ]
  },
  {
   "cell_type": "code",
   "execution_count": 367,
   "metadata": {},
   "outputs": [
    {
     "data": {
      "image/png": "[encoded data removed]",
      "text/plain": [
       "<Figure size 640x480 with 1 Axes>"
      ]
     },
     "metadata": {},
     "output_type": "display_data"
    }
   ],
   "source": [
    "missing_df=df.loc[df[[\"dep_time\",\"dep_delay\",\"arr_time\",\"arr_delay\",\"air_time\"]].isnull().all(axis=1),\"airline\"].reset_index()\n",
    "sns.countplot(data=missing_df,x=\"airline\")\n",
    "plt.xticks(rotation=90)\n",
    "plt.show()"
   ]
  },
  {
   "cell_type": "markdown",
   "metadata": {},
   "source": [
    "**Aynı anda eksik olan %2.20 lik verinin veri setinden çıkarılması**"
   ]
  },
  {
   "cell_type": "code",
   "execution_count": 368,
   "metadata": {},
   "outputs": [
    {
     "data": {
      "text/plain": [
       "2440"
      ]
     },
     "execution_count": 368,
     "metadata": {},
     "output_type": "execute_result"
    }
   ],
   "source": [
    "df[[\"dep_time\",\"dep_delay\",\"arr_time\",\"arr_delay\",\"air_time\"]].isnull().all(axis=1).sum()"
   ]
  },
  {
   "cell_type": "code",
   "execution_count": 369,
   "metadata": {},
   "outputs": [],
   "source": [
    "df.dropna(subset=[\"dep_time\", \"dep_delay\", \"arr_time\", \"arr_delay\", \"air_time\"], how=\"all\", inplace=True)"
   ]
  },
  {
   "cell_type": "markdown",
   "metadata": {},
   "source": [
    "-  Bu eksik veriler veri setinin  %2.20 sinde meydana gelmiştir. Genelde kabul gören yaklaşım eksik veriler veri setinin %5'inden fazla değilse silinmesinde sakınca olmayabilir. Ayrıca aynı anda olan eksiklik aynı anda bilgi kaybı demektir. Eksik verileri doldurma yoluna gidersek bir çok değişkeni aynı anda tahmin etmemiz gerekicek buda yanıltıcı sonuçlara yol açabilir.\n",
    "-  Eksik verilerin aynı olanlarını çıkardıktan sonra arr_time değişkeninde 97 tane arr_delay değişkeninde 234 tane, airtime değişkeninde yine 234 eksik veri kalmıştır. Bu değerlerde çok küçük bir oranda kaldığından bunlarıda veri setinden çıkardım."
   ]
  },
  {
   "cell_type": "code",
   "execution_count": 370,
   "metadata": {},
   "outputs": [
    {
     "data": {
      "text/plain": [
       "year                 0\n",
       "month                0\n",
       "day                  0\n",
       "dep_time             0\n",
       "sched_dep_time       0\n",
       "dep_delay            0\n",
       "arr_time            97\n",
       "sched_arr_time       0\n",
       "arr_delay          234\n",
       "carrier              0\n",
       "flight               0\n",
       "tailnum              0\n",
       "origin               0\n",
       "dest                 0\n",
       "air_time           234\n",
       "distance             0\n",
       "hour                 0\n",
       "minute               0\n",
       "airline              0\n",
       "route                0\n",
       "temp                 0\n",
       "dewp                 0\n",
       "humid                0\n",
       "wind_dir          3116\n",
       "wind_speed         274\n",
       "wind_gust          274\n",
       "precip               0\n",
       "pressure             0\n",
       "visib                0\n",
       "dtype: int64"
      ]
     },
     "execution_count": 370,
     "metadata": {},
     "output_type": "execute_result"
    }
   ],
   "source": [
    "df.isnull().sum()"
   ]
  },
  {
   "cell_type": "code",
   "execution_count": 371,
   "metadata": {},
   "outputs": [],
   "source": [
    "df.dropna(subset=[\"arr_time\", \"arr_delay\", \"air_time\"], inplace=True)"
   ]
  },
  {
   "cell_type": "code",
   "execution_count": 372,
   "metadata": {},
   "outputs": [
    {
     "data": {
      "text/plain": [
       "year                 0\n",
       "month                0\n",
       "day                  0\n",
       "dep_time             0\n",
       "sched_dep_time       0\n",
       "dep_delay            0\n",
       "arr_time             0\n",
       "sched_arr_time       0\n",
       "arr_delay            0\n",
       "carrier              0\n",
       "flight               0\n",
       "tailnum              0\n",
       "origin               0\n",
       "dest                 0\n",
       "air_time             0\n",
       "distance             0\n",
       "hour                 0\n",
       "minute               0\n",
       "airline              0\n",
       "route                0\n",
       "temp                 0\n",
       "dewp                 0\n",
       "humid                0\n",
       "wind_dir          3113\n",
       "wind_speed         273\n",
       "wind_gust          273\n",
       "precip               0\n",
       "pressure             0\n",
       "visib                0\n",
       "dtype: int64"
      ]
     },
     "execution_count": 372,
     "metadata": {},
     "output_type": "execute_result"
    }
   ],
   "source": [
    "df.isnull().sum()"
   ]
  },
  {
   "cell_type": "markdown",
   "metadata": {},
   "source": [
    "**Hava durumu verilerinden wind_dir, wind_speed ve wind_gust eksik verilerinin doldurulması**\n",
    "- Rüzgar yönünü ifade eden wind_dir değişkeni veri setinin %2.87'sini oluşturmaktadır. Bu eksikliğin tek bir değişkende olması ve hava olayını ifade etmesinden dolayı ilave %2.87 lik veri kaybetmek istemediğimden bu değerlerin doldurulmasını daha faydalı buldum. Aynı metodu rüzgar hızını ifade eden wind_speed ve wind_gust değişkenleri içinde uygulayacağım. Doldurma işlemi için verileri tarihe göre sıralayıp ffill uygulayacağım. Bu sayede hava durumu verileri en yakın tarihteki veriler ile doldurulmuş olacaktır.\n"
   ]
  },
  {
   "cell_type": "code",
   "execution_count": 373,
   "metadata": {},
   "outputs": [
    {
     "name": "stdout",
     "output_type": "stream",
     "text": [
      "Eksik olan wind_dir değişkeninin tüm veri setine oranı %2.87'dir.\n"
     ]
    }
   ],
   "source": [
    "wind_dir=df[\"wind_dir\"].isnull().sum()\n",
    "ratio_wind = wind_dir/len(df) * 100\n",
    "print(f\"Eksik olan wind_dir değişkeninin tüm veri setine oranı %{ratio_wind:.2f}'dir.\")"
   ]
  },
  {
   "cell_type": "code",
   "execution_count": 374,
   "metadata": {},
   "outputs": [
    {
     "data": {
      "text/html": [
       "<div>\n",
       "<style scoped>\n",
       "    .dataframe tbody tr th:only-of-type {\n",
       "        vertical-align: middle;\n",
       "    }\n",
       "\n",
       "    .dataframe tbody tr th {\n",
       "        vertical-align: top;\n",
       "    }\n",
       "\n",
       "    .dataframe thead th {\n",
       "        text-align: right;\n",
       "    }\n",
       "</style>\n",
       "<table border=\"1\" class=\"dataframe\">\n",
       "  <thead>\n",
       "    <tr style=\"text-align: right;\">\n",
       "      <th></th>\n",
       "      <th>count</th>\n",
       "      <th>mean</th>\n",
       "      <th>std</th>\n",
       "      <th>min</th>\n",
       "      <th>25%</th>\n",
       "      <th>50%</th>\n",
       "      <th>75%</th>\n",
       "      <th>max</th>\n",
       "    </tr>\n",
       "  </thead>\n",
       "  <tbody>\n",
       "    <tr>\n",
       "      <th>wind_dir</th>\n",
       "      <td>105219.0</td>\n",
       "      <td>164.55222</td>\n",
       "      <td>101.194287</td>\n",
       "      <td>0.0</td>\n",
       "      <td>100.0</td>\n",
       "      <td>180.0</td>\n",
       "      <td>220.0</td>\n",
       "      <td>360.0</td>\n",
       "    </tr>\n",
       "  </tbody>\n",
       "</table>\n",
       "</div>"
      ],
      "text/plain": [
       "             count       mean         std  min    25%    50%    75%    max\n",
       "wind_dir  105219.0  164.55222  101.194287  0.0  100.0  180.0  220.0  360.0"
      ]
     },
     "execution_count": 374,
     "metadata": {},
     "output_type": "execute_result"
    }
   ],
   "source": [
    "df[[\"wind_dir\"]].describe().T"
   ]
  },
  {
   "cell_type": "code",
   "execution_count": 375,
   "metadata": {},
   "outputs": [
    {
     "data": {
      "text/html": [
       "<div>\n",
       "<style scoped>\n",
       "    .dataframe tbody tr th:only-of-type {\n",
       "        vertical-align: middle;\n",
       "    }\n",
       "\n",
       "    .dataframe tbody tr th {\n",
       "        vertical-align: top;\n",
       "    }\n",
       "\n",
       "    .dataframe thead th {\n",
       "        text-align: right;\n",
       "    }\n",
       "</style>\n",
       "<table border=\"1\" class=\"dataframe\">\n",
       "  <thead>\n",
       "    <tr style=\"text-align: right;\">\n",
       "      <th></th>\n",
       "      <th>count</th>\n",
       "      <th>mean</th>\n",
       "      <th>std</th>\n",
       "      <th>min</th>\n",
       "      <th>25%</th>\n",
       "      <th>50%</th>\n",
       "      <th>75%</th>\n",
       "      <th>max</th>\n",
       "    </tr>\n",
       "  </thead>\n",
       "  <tbody>\n",
       "    <tr>\n",
       "      <th>wind_speed</th>\n",
       "      <td>108059.0</td>\n",
       "      <td>6.976437</td>\n",
       "      <td>4.496918</td>\n",
       "      <td>0.0</td>\n",
       "      <td>4.60312</td>\n",
       "      <td>6.90468</td>\n",
       "      <td>9.20624</td>\n",
       "      <td>27.61872</td>\n",
       "    </tr>\n",
       "  </tbody>\n",
       "</table>\n",
       "</div>"
      ],
      "text/plain": [
       "               count      mean       std  min      25%      50%      75%  \\\n",
       "wind_speed  108059.0  6.976437  4.496918  0.0  4.60312  6.90468  9.20624   \n",
       "\n",
       "                 max  \n",
       "wind_speed  27.61872  "
      ]
     },
     "execution_count": 375,
     "metadata": {},
     "output_type": "execute_result"
    }
   ],
   "source": [
    "df[[\"wind_speed\"]].describe().T"
   ]
  },
  {
   "cell_type": "code",
   "execution_count": 376,
   "metadata": {},
   "outputs": [
    {
     "data": {
      "text/html": [
       "<div>\n",
       "<style scoped>\n",
       "    .dataframe tbody tr th:only-of-type {\n",
       "        vertical-align: middle;\n",
       "    }\n",
       "\n",
       "    .dataframe tbody tr th {\n",
       "        vertical-align: top;\n",
       "    }\n",
       "\n",
       "    .dataframe thead th {\n",
       "        text-align: right;\n",
       "    }\n",
       "</style>\n",
       "<table border=\"1\" class=\"dataframe\">\n",
       "  <thead>\n",
       "    <tr style=\"text-align: right;\">\n",
       "      <th></th>\n",
       "      <th>count</th>\n",
       "      <th>mean</th>\n",
       "      <th>std</th>\n",
       "      <th>min</th>\n",
       "      <th>25%</th>\n",
       "      <th>50%</th>\n",
       "      <th>75%</th>\n",
       "      <th>max</th>\n",
       "    </tr>\n",
       "  </thead>\n",
       "  <tbody>\n",
       "    <tr>\n",
       "      <th>wind_gust</th>\n",
       "      <td>108059.0</td>\n",
       "      <td>8.028344</td>\n",
       "      <td>5.174964</td>\n",
       "      <td>0.0</td>\n",
       "      <td>5.297178</td>\n",
       "      <td>7.945768</td>\n",
       "      <td>10.594357</td>\n",
       "      <td>31.783071</td>\n",
       "    </tr>\n",
       "  </tbody>\n",
       "</table>\n",
       "</div>"
      ],
      "text/plain": [
       "              count      mean       std  min       25%       50%        75%  \\\n",
       "wind_gust  108059.0  8.028344  5.174964  0.0  5.297178  7.945768  10.594357   \n",
       "\n",
       "                 max  \n",
       "wind_gust  31.783071  "
      ]
     },
     "execution_count": 376,
     "metadata": {},
     "output_type": "execute_result"
    }
   ],
   "source": [
    "df[[\"wind_gust\"]].describe().T"
   ]
  },
  {
   "cell_type": "markdown",
   "metadata": {},
   "source": [
    "**Tarih Kolonlarının düzeltilip aynı formata getirilmesi**\n",
    "- Burada amacım bozuk yapıda olan ve tarih ifade eden dep_time, sched_dep_time, arr_timeve sched_arr_time değişkenlerini yıl,ay,gün,saat ve dakika şeklinde aynı formata getirmektir.\n",
    "- Ayrıca günün tarihini ifade eden yıl, ay, gün şeklinde ilave genel bir date değişken oluşturdum. "
   ]
  },
  {
   "cell_type": "markdown",
   "metadata": {},
   "source": [
    "- date değişkeninin oluşturulması"
   ]
  },
  {
   "cell_type": "code",
   "execution_count": 377,
   "metadata": {},
   "outputs": [],
   "source": [
    "df[\"date\"] = pd.to_datetime(df[[\"year\",\"month\",\"day\"]])"
   ]
  },
  {
   "cell_type": "markdown",
   "metadata": {},
   "source": [
    "- Oluşturduğum date değişkenini dep_time,arr_time, sched_dep_time ve sched_arr_time değişkenleri ile birleştirip bir timestamp elde etmek için string formata çevirdim"
   ]
  },
  {
   "cell_type": "code",
   "execution_count": 378,
   "metadata": {},
   "outputs": [],
   "source": [
    "df[\"date_string\"] = df[\"date\"].astype(str).str.replace(\"-\",\"\")"
   ]
  },
  {
   "cell_type": "markdown",
   "metadata": {},
   "source": [
    "- dep_time ve arr_time değişkenleri float sched_dep_time ve sched_arr_time integerdır. Zfill ile bu değerleri aynı formatta saat ve dakika stringine dönüştürdüm. float veri tipleri için extra integer dönüşümü uyguladım"
   ]
  },
  {
   "cell_type": "code",
   "execution_count": 379,
   "metadata": {},
   "outputs": [],
   "source": [
    "# dep_time ve arr_time değişkenleri float sched_dep_time ve sched_arr_time integerdır. Zfill ile bu değerleri aynı formatta saat ve dakika stringine dönüştürdüm. float veri tipleri için extra integer dönüşümü uyguladım\n",
    "df[\"dep_time\"] = df[\"dep_time\"].astype(int).astype(str).str.zfill(4)\n",
    "df[\"sched_dep_time\"] = df[\"sched_dep_time\"].astype(str).str.zfill(4)\n",
    "df[\"arr_time\"] = df[\"arr_time\"].astype(int).astype(str).str.zfill(4)\n",
    "df[\"sched_arr_time\"] = df[\"sched_arr_time\"].astype(str).str.zfill(4)\n"
   ]
  },
  {
   "cell_type": "markdown",
   "metadata": {},
   "source": [
    "- dep_time,arr_time, sched_dep_time ve sched_arr_time değişkenlerini date_string ile birleştirerek aynı yapıda yıl,ay,gün,hour, minute şeklinde aynı tarih yapısına getirdim ve tekrar datetime oluşturdum.\n",
    "- sched_dep_time ve sched_arr_time verileri düzgün bir şekilde dönüştürüldü. Fakat dep_time ve arr_time verilerinde 0000 şeklinde olması gereken saat dakika verisi 2400 şeklinde yanlış yazılmış. \n",
    "- Bu nedenden dolayı format hatası oluştu 2400 olan verileri 0000 şekline dönüştürünce hata giderildi ve bütün değişkenlerin datetime dönüşümü tamamlandı."
   ]
  },
  {
   "cell_type": "code",
   "execution_count": 380,
   "metadata": {},
   "outputs": [],
   "source": [
    "# sched_dep_time ve sched_arr_time dönüşümü\n",
    "df[\"sched_dep_time\"] = df[\"date_string\"].str.cat(df[\"sched_dep_time\"])\n",
    "df[\"sched_dep_time\"] = pd.to_datetime(df[\"sched_dep_time\"],format=\"%Y%m%d%H%M\")\n",
    "\n",
    "df[\"sched_arr_time\"] = df[\"date_string\"].str.cat(df[\"sched_arr_time\"])\n",
    "df[\"sched_arr_time\"] = pd.to_datetime(df[\"sched_arr_time\"],format=\"%Y%m%d%H%M\")\n",
    "\n",
    "# dep_time ve arr_time dönüşümü\n",
    "df[\"dep_time\"] = df[\"dep_time\"].replace({\"2400\":\"0000\"})\n",
    "df[\"dep_time\"] = df[\"date_string\"].str.cat(df[\"dep_time\"])\n",
    "df[\"dep_time\"] = pd.to_datetime(df[\"dep_time\"],format=\"%Y%m%d%H%M\")\n",
    "\n",
    "df[\"arr_time\"] = df[\"arr_time\"].replace({\"2400\":\"0000\"})\n",
    "df[\"arr_time\"] = df[\"date_string\"].str.cat(df[\"arr_time\"])\n",
    "df[\"arr_time\"] = pd.to_datetime(df[\"arr_time\"],format=\"%Y%m%d%H%M\")\n"
   ]
  },
  {
   "cell_type": "code",
   "execution_count": 381,
   "metadata": {},
   "outputs": [
    {
     "data": {
      "text/html": [
       "<div>\n",
       "<style scoped>\n",
       "    .dataframe tbody tr th:only-of-type {\n",
       "        vertical-align: middle;\n",
       "    }\n",
       "\n",
       "    .dataframe tbody tr th {\n",
       "        vertical-align: top;\n",
       "    }\n",
       "\n",
       "    .dataframe thead th {\n",
       "        text-align: right;\n",
       "    }\n",
       "</style>\n",
       "<table border=\"1\" class=\"dataframe\">\n",
       "  <thead>\n",
       "    <tr style=\"text-align: right;\">\n",
       "      <th></th>\n",
       "      <th>year</th>\n",
       "      <th>month</th>\n",
       "      <th>day</th>\n",
       "      <th>dep_time</th>\n",
       "      <th>sched_dep_time</th>\n",
       "      <th>dep_delay</th>\n",
       "      <th>arr_time</th>\n",
       "      <th>sched_arr_time</th>\n",
       "      <th>arr_delay</th>\n",
       "      <th>carrier</th>\n",
       "      <th>flight</th>\n",
       "      <th>tailnum</th>\n",
       "      <th>origin</th>\n",
       "      <th>dest</th>\n",
       "      <th>air_time</th>\n",
       "      <th>distance</th>\n",
       "      <th>hour</th>\n",
       "      <th>minute</th>\n",
       "      <th>airline</th>\n",
       "      <th>route</th>\n",
       "      <th>temp</th>\n",
       "      <th>dewp</th>\n",
       "      <th>humid</th>\n",
       "      <th>wind_dir</th>\n",
       "      <th>wind_speed</th>\n",
       "      <th>wind_gust</th>\n",
       "      <th>precip</th>\n",
       "      <th>pressure</th>\n",
       "      <th>visib</th>\n",
       "      <th>date</th>\n",
       "      <th>date_string</th>\n",
       "    </tr>\n",
       "  </thead>\n",
       "  <tbody>\n",
       "    <tr>\n",
       "      <th>0</th>\n",
       "      <td>2022</td>\n",
       "      <td>1</td>\n",
       "      <td>1</td>\n",
       "      <td>2022-01-01 00:01:00</td>\n",
       "      <td>2022-01-01 23:59:00</td>\n",
       "      <td>2.0</td>\n",
       "      <td>2022-01-01 06:04:00</td>\n",
       "      <td>2022-01-01 06:18:00</td>\n",
       "      <td>-14.0</td>\n",
       "      <td>UA</td>\n",
       "      <td>555</td>\n",
       "      <td>N405UA</td>\n",
       "      <td>SEA</td>\n",
       "      <td>IAH</td>\n",
       "      <td>221.0</td>\n",
       "      <td>1874</td>\n",
       "      <td>23</td>\n",
       "      <td>59</td>\n",
       "      <td>United Air Lines Inc.</td>\n",
       "      <td>SEA-IAH</td>\n",
       "      <td>33.0</td>\n",
       "      <td>23.0</td>\n",
       "      <td>66.06</td>\n",
       "      <td>160.0</td>\n",
       "      <td>8.05546</td>\n",
       "      <td>9.270062</td>\n",
       "      <td>0.0</td>\n",
       "      <td>1022.9</td>\n",
       "      <td>10.0</td>\n",
       "      <td>2022-01-01</td>\n",
       "      <td>20220101</td>\n",
       "    </tr>\n",
       "    <tr>\n",
       "      <th>1</th>\n",
       "      <td>2022</td>\n",
       "      <td>1</td>\n",
       "      <td>1</td>\n",
       "      <td>2022-01-01 00:01:00</td>\n",
       "      <td>2022-01-01 22:50:00</td>\n",
       "      <td>71.0</td>\n",
       "      <td>2022-01-01 02:42:00</td>\n",
       "      <td>2022-01-01 01:42:00</td>\n",
       "      <td>60.0</td>\n",
       "      <td>AS</td>\n",
       "      <td>72</td>\n",
       "      <td>N265AK</td>\n",
       "      <td>SEA</td>\n",
       "      <td>FAI</td>\n",
       "      <td>193.0</td>\n",
       "      <td>1533</td>\n",
       "      <td>22</td>\n",
       "      <td>50</td>\n",
       "      <td>Alaska Airlines Inc.</td>\n",
       "      <td>SEA-FAI</td>\n",
       "      <td>32.0</td>\n",
       "      <td>23.0</td>\n",
       "      <td>69.04</td>\n",
       "      <td>170.0</td>\n",
       "      <td>9.20624</td>\n",
       "      <td>10.594357</td>\n",
       "      <td>0.0</td>\n",
       "      <td>1023.4</td>\n",
       "      <td>10.0</td>\n",
       "      <td>2022-01-01</td>\n",
       "      <td>20220101</td>\n",
       "    </tr>\n",
       "    <tr>\n",
       "      <th>2</th>\n",
       "      <td>2022</td>\n",
       "      <td>1</td>\n",
       "      <td>1</td>\n",
       "      <td>2022-01-01 00:10:00</td>\n",
       "      <td>2022-01-01 23:55:00</td>\n",
       "      <td>15.0</td>\n",
       "      <td>2022-01-01 07:59:00</td>\n",
       "      <td>2022-01-01 07:30:00</td>\n",
       "      <td>29.0</td>\n",
       "      <td>AS</td>\n",
       "      <td>270</td>\n",
       "      <td>N274AK</td>\n",
       "      <td>SEA</td>\n",
       "      <td>ATL</td>\n",
       "      <td>261.0</td>\n",
       "      <td>2182</td>\n",
       "      <td>23</td>\n",
       "      <td>55</td>\n",
       "      <td>Alaska Airlines Inc.</td>\n",
       "      <td>SEA-ATL</td>\n",
       "      <td>33.0</td>\n",
       "      <td>23.0</td>\n",
       "      <td>66.06</td>\n",
       "      <td>160.0</td>\n",
       "      <td>8.05546</td>\n",
       "      <td>9.270062</td>\n",
       "      <td>0.0</td>\n",
       "      <td>1022.9</td>\n",
       "      <td>10.0</td>\n",
       "      <td>2022-01-01</td>\n",
       "      <td>20220101</td>\n",
       "    </tr>\n",
       "    <tr>\n",
       "      <th>3</th>\n",
       "      <td>2022</td>\n",
       "      <td>1</td>\n",
       "      <td>1</td>\n",
       "      <td>2022-01-01 00:25:00</td>\n",
       "      <td>2022-01-01 23:50:00</td>\n",
       "      <td>35.0</td>\n",
       "      <td>2022-01-01 06:06:00</td>\n",
       "      <td>2022-01-01 05:50:00</td>\n",
       "      <td>16.0</td>\n",
       "      <td>AS</td>\n",
       "      <td>7</td>\n",
       "      <td>N281AK</td>\n",
       "      <td>SEA</td>\n",
       "      <td>ORD</td>\n",
       "      <td>193.0</td>\n",
       "      <td>1721</td>\n",
       "      <td>23</td>\n",
       "      <td>50</td>\n",
       "      <td>Alaska Airlines Inc.</td>\n",
       "      <td>SEA-ORD</td>\n",
       "      <td>33.0</td>\n",
       "      <td>23.0</td>\n",
       "      <td>66.06</td>\n",
       "      <td>160.0</td>\n",
       "      <td>8.05546</td>\n",
       "      <td>9.270062</td>\n",
       "      <td>0.0</td>\n",
       "      <td>1022.9</td>\n",
       "      <td>10.0</td>\n",
       "      <td>2022-01-01</td>\n",
       "      <td>20220101</td>\n",
       "    </tr>\n",
       "    <tr>\n",
       "      <th>4</th>\n",
       "      <td>2022</td>\n",
       "      <td>1</td>\n",
       "      <td>1</td>\n",
       "      <td>2022-01-01 00:35:00</td>\n",
       "      <td>2022-01-01 23:49:00</td>\n",
       "      <td>46.0</td>\n",
       "      <td>2022-01-01 06:16:00</td>\n",
       "      <td>2022-01-01 05:45:00</td>\n",
       "      <td>31.0</td>\n",
       "      <td>UA</td>\n",
       "      <td>507</td>\n",
       "      <td>N426UA</td>\n",
       "      <td>PDX</td>\n",
       "      <td>ORD</td>\n",
       "      <td>196.0</td>\n",
       "      <td>1739</td>\n",
       "      <td>23</td>\n",
       "      <td>49</td>\n",
       "      <td>United Air Lines Inc.</td>\n",
       "      <td>PDX-ORD</td>\n",
       "      <td>33.0</td>\n",
       "      <td>19.0</td>\n",
       "      <td>55.75</td>\n",
       "      <td>120.0</td>\n",
       "      <td>6.90468</td>\n",
       "      <td>7.945768</td>\n",
       "      <td>0.0</td>\n",
       "      <td>1025.1</td>\n",
       "      <td>10.0</td>\n",
       "      <td>2022-01-01</td>\n",
       "      <td>20220101</td>\n",
       "    </tr>\n",
       "  </tbody>\n",
       "</table>\n",
       "</div>"
      ],
      "text/plain": [
       "   year  month  day            dep_time      sched_dep_time  dep_delay  \\\n",
       "0  2022      1    1 2022-01-01 00:01:00 2022-01-01 23:59:00        2.0   \n",
       "1  2022      1    1 2022-01-01 00:01:00 2022-01-01 22:50:00       71.0   \n",
       "2  2022      1    1 2022-01-01 00:10:00 2022-01-01 23:55:00       15.0   \n",
       "3  2022      1    1 2022-01-01 00:25:00 2022-01-01 23:50:00       35.0   \n",
       "4  2022      1    1 2022-01-01 00:35:00 2022-01-01 23:49:00       46.0   \n",
       "\n",
       "             arr_time      sched_arr_time  arr_delay carrier  flight tailnum  \\\n",
       "0 2022-01-01 06:04:00 2022-01-01 06:18:00      -14.0      UA     555  N405UA   \n",
       "1 2022-01-01 02:42:00 2022-01-01 01:42:00       60.0      AS      72  N265AK   \n",
       "2 2022-01-01 07:59:00 2022-01-01 07:30:00       29.0      AS     270  N274AK   \n",
       "3 2022-01-01 06:06:00 2022-01-01 05:50:00       16.0      AS       7  N281AK   \n",
       "4 2022-01-01 06:16:00 2022-01-01 05:45:00       31.0      UA     507  N426UA   \n",
       "\n",
       "  origin dest  air_time  distance  hour  minute                airline  \\\n",
       "0    SEA  IAH     221.0      1874    23      59  United Air Lines Inc.   \n",
       "1    SEA  FAI     193.0      1533    22      50   Alaska Airlines Inc.   \n",
       "2    SEA  ATL     261.0      2182    23      55   Alaska Airlines Inc.   \n",
       "3    SEA  ORD     193.0      1721    23      50   Alaska Airlines Inc.   \n",
       "4    PDX  ORD     196.0      1739    23      49  United Air Lines Inc.   \n",
       "\n",
       "     route  temp  dewp  humid  wind_dir  wind_speed  wind_gust  precip  \\\n",
       "0  SEA-IAH  33.0  23.0  66.06     160.0     8.05546   9.270062     0.0   \n",
       "1  SEA-FAI  32.0  23.0  69.04     170.0     9.20624  10.594357     0.0   \n",
       "2  SEA-ATL  33.0  23.0  66.06     160.0     8.05546   9.270062     0.0   \n",
       "3  SEA-ORD  33.0  23.0  66.06     160.0     8.05546   9.270062     0.0   \n",
       "4  PDX-ORD  33.0  19.0  55.75     120.0     6.90468   7.945768     0.0   \n",
       "\n",
       "   pressure  visib       date date_string  \n",
       "0    1022.9   10.0 2022-01-01    20220101  \n",
       "1    1023.4   10.0 2022-01-01    20220101  \n",
       "2    1022.9   10.0 2022-01-01    20220101  \n",
       "3    1022.9   10.0 2022-01-01    20220101  \n",
       "4    1025.1   10.0 2022-01-01    20220101  "
      ]
     },
     "execution_count": 381,
     "metadata": {},
     "output_type": "execute_result"
    }
   ],
   "source": [
    "df.head()"
   ]
  },
  {
   "cell_type": "markdown",
   "metadata": {},
   "source": [
    "**Eksik olan wind_dir,wind_speed, wind_gust değerlerinin ffill ile doldurulması**\n",
    "- Burada verileri yıl,ay,gün, saat , dakika içeren kalkış zamanına göre sıraladım(dep_time). Bu sayede ffill uygularken en yakın değerleri dakika bazında almış oldum kalan eksik verilerde dolduruldu.\n"
   ]
  },
  {
   "cell_type": "code",
   "execution_count": 382,
   "metadata": {},
   "outputs": [],
   "source": [
    "df.sort_values(\"dep_time\",inplace=True)"
   ]
  },
  {
   "cell_type": "code",
   "execution_count": 383,
   "metadata": {},
   "outputs": [
    {
     "data": {
      "text/html": [
       "<div>\n",
       "<style scoped>\n",
       "    .dataframe tbody tr th:only-of-type {\n",
       "        vertical-align: middle;\n",
       "    }\n",
       "\n",
       "    .dataframe tbody tr th {\n",
       "        vertical-align: top;\n",
       "    }\n",
       "\n",
       "    .dataframe thead th {\n",
       "        text-align: right;\n",
       "    }\n",
       "</style>\n",
       "<table border=\"1\" class=\"dataframe\">\n",
       "  <thead>\n",
       "    <tr style=\"text-align: right;\">\n",
       "      <th></th>\n",
       "      <th>year</th>\n",
       "      <th>month</th>\n",
       "      <th>day</th>\n",
       "      <th>dep_time</th>\n",
       "      <th>sched_dep_time</th>\n",
       "      <th>dep_delay</th>\n",
       "      <th>arr_time</th>\n",
       "      <th>sched_arr_time</th>\n",
       "      <th>arr_delay</th>\n",
       "      <th>carrier</th>\n",
       "      <th>flight</th>\n",
       "      <th>tailnum</th>\n",
       "      <th>origin</th>\n",
       "      <th>dest</th>\n",
       "      <th>air_time</th>\n",
       "      <th>distance</th>\n",
       "      <th>hour</th>\n",
       "      <th>minute</th>\n",
       "      <th>airline</th>\n",
       "      <th>route</th>\n",
       "      <th>temp</th>\n",
       "      <th>dewp</th>\n",
       "      <th>humid</th>\n",
       "      <th>wind_dir</th>\n",
       "      <th>wind_speed</th>\n",
       "      <th>wind_gust</th>\n",
       "      <th>precip</th>\n",
       "      <th>pressure</th>\n",
       "      <th>visib</th>\n",
       "      <th>date</th>\n",
       "      <th>date_string</th>\n",
       "    </tr>\n",
       "  </thead>\n",
       "  <tbody>\n",
       "    <tr>\n",
       "      <th>0</th>\n",
       "      <td>2022</td>\n",
       "      <td>1</td>\n",
       "      <td>1</td>\n",
       "      <td>2022-01-01 00:01:00</td>\n",
       "      <td>2022-01-01 23:59:00</td>\n",
       "      <td>2.0</td>\n",
       "      <td>2022-01-01 06:04:00</td>\n",
       "      <td>2022-01-01 06:18:00</td>\n",
       "      <td>-14.0</td>\n",
       "      <td>UA</td>\n",
       "      <td>555</td>\n",
       "      <td>N405UA</td>\n",
       "      <td>SEA</td>\n",
       "      <td>IAH</td>\n",
       "      <td>221.0</td>\n",
       "      <td>1874</td>\n",
       "      <td>23</td>\n",
       "      <td>59</td>\n",
       "      <td>United Air Lines Inc.</td>\n",
       "      <td>SEA-IAH</td>\n",
       "      <td>33.0</td>\n",
       "      <td>23.0</td>\n",
       "      <td>66.06</td>\n",
       "      <td>160.0</td>\n",
       "      <td>8.05546</td>\n",
       "      <td>9.270062</td>\n",
       "      <td>0.0</td>\n",
       "      <td>1022.9</td>\n",
       "      <td>10.0</td>\n",
       "      <td>2022-01-01</td>\n",
       "      <td>20220101</td>\n",
       "    </tr>\n",
       "    <tr>\n",
       "      <th>1</th>\n",
       "      <td>2022</td>\n",
       "      <td>1</td>\n",
       "      <td>1</td>\n",
       "      <td>2022-01-01 00:01:00</td>\n",
       "      <td>2022-01-01 22:50:00</td>\n",
       "      <td>71.0</td>\n",
       "      <td>2022-01-01 02:42:00</td>\n",
       "      <td>2022-01-01 01:42:00</td>\n",
       "      <td>60.0</td>\n",
       "      <td>AS</td>\n",
       "      <td>72</td>\n",
       "      <td>N265AK</td>\n",
       "      <td>SEA</td>\n",
       "      <td>FAI</td>\n",
       "      <td>193.0</td>\n",
       "      <td>1533</td>\n",
       "      <td>22</td>\n",
       "      <td>50</td>\n",
       "      <td>Alaska Airlines Inc.</td>\n",
       "      <td>SEA-FAI</td>\n",
       "      <td>32.0</td>\n",
       "      <td>23.0</td>\n",
       "      <td>69.04</td>\n",
       "      <td>170.0</td>\n",
       "      <td>9.20624</td>\n",
       "      <td>10.594357</td>\n",
       "      <td>0.0</td>\n",
       "      <td>1023.4</td>\n",
       "      <td>10.0</td>\n",
       "      <td>2022-01-01</td>\n",
       "      <td>20220101</td>\n",
       "    </tr>\n",
       "    <tr>\n",
       "      <th>2</th>\n",
       "      <td>2022</td>\n",
       "      <td>1</td>\n",
       "      <td>1</td>\n",
       "      <td>2022-01-01 00:10:00</td>\n",
       "      <td>2022-01-01 23:55:00</td>\n",
       "      <td>15.0</td>\n",
       "      <td>2022-01-01 07:59:00</td>\n",
       "      <td>2022-01-01 07:30:00</td>\n",
       "      <td>29.0</td>\n",
       "      <td>AS</td>\n",
       "      <td>270</td>\n",
       "      <td>N274AK</td>\n",
       "      <td>SEA</td>\n",
       "      <td>ATL</td>\n",
       "      <td>261.0</td>\n",
       "      <td>2182</td>\n",
       "      <td>23</td>\n",
       "      <td>55</td>\n",
       "      <td>Alaska Airlines Inc.</td>\n",
       "      <td>SEA-ATL</td>\n",
       "      <td>33.0</td>\n",
       "      <td>23.0</td>\n",
       "      <td>66.06</td>\n",
       "      <td>160.0</td>\n",
       "      <td>8.05546</td>\n",
       "      <td>9.270062</td>\n",
       "      <td>0.0</td>\n",
       "      <td>1022.9</td>\n",
       "      <td>10.0</td>\n",
       "      <td>2022-01-01</td>\n",
       "      <td>20220101</td>\n",
       "    </tr>\n",
       "    <tr>\n",
       "      <th>3</th>\n",
       "      <td>2022</td>\n",
       "      <td>1</td>\n",
       "      <td>1</td>\n",
       "      <td>2022-01-01 00:25:00</td>\n",
       "      <td>2022-01-01 23:50:00</td>\n",
       "      <td>35.0</td>\n",
       "      <td>2022-01-01 06:06:00</td>\n",
       "      <td>2022-01-01 05:50:00</td>\n",
       "      <td>16.0</td>\n",
       "      <td>AS</td>\n",
       "      <td>7</td>\n",
       "      <td>N281AK</td>\n",
       "      <td>SEA</td>\n",
       "      <td>ORD</td>\n",
       "      <td>193.0</td>\n",
       "      <td>1721</td>\n",
       "      <td>23</td>\n",
       "      <td>50</td>\n",
       "      <td>Alaska Airlines Inc.</td>\n",
       "      <td>SEA-ORD</td>\n",
       "      <td>33.0</td>\n",
       "      <td>23.0</td>\n",
       "      <td>66.06</td>\n",
       "      <td>160.0</td>\n",
       "      <td>8.05546</td>\n",
       "      <td>9.270062</td>\n",
       "      <td>0.0</td>\n",
       "      <td>1022.9</td>\n",
       "      <td>10.0</td>\n",
       "      <td>2022-01-01</td>\n",
       "      <td>20220101</td>\n",
       "    </tr>\n",
       "    <tr>\n",
       "      <th>4</th>\n",
       "      <td>2022</td>\n",
       "      <td>1</td>\n",
       "      <td>1</td>\n",
       "      <td>2022-01-01 00:35:00</td>\n",
       "      <td>2022-01-01 23:49:00</td>\n",
       "      <td>46.0</td>\n",
       "      <td>2022-01-01 06:16:00</td>\n",
       "      <td>2022-01-01 05:45:00</td>\n",
       "      <td>31.0</td>\n",
       "      <td>UA</td>\n",
       "      <td>507</td>\n",
       "      <td>N426UA</td>\n",
       "      <td>PDX</td>\n",
       "      <td>ORD</td>\n",
       "      <td>196.0</td>\n",
       "      <td>1739</td>\n",
       "      <td>23</td>\n",
       "      <td>49</td>\n",
       "      <td>United Air Lines Inc.</td>\n",
       "      <td>PDX-ORD</td>\n",
       "      <td>33.0</td>\n",
       "      <td>19.0</td>\n",
       "      <td>55.75</td>\n",
       "      <td>120.0</td>\n",
       "      <td>6.90468</td>\n",
       "      <td>7.945768</td>\n",
       "      <td>0.0</td>\n",
       "      <td>1025.1</td>\n",
       "      <td>10.0</td>\n",
       "      <td>2022-01-01</td>\n",
       "      <td>20220101</td>\n",
       "    </tr>\n",
       "  </tbody>\n",
       "</table>\n",
       "</div>"
      ],
      "text/plain": [
       "   year  month  day            dep_time      sched_dep_time  dep_delay  \\\n",
       "0  2022      1    1 2022-01-01 00:01:00 2022-01-01 23:59:00        2.0   \n",
       "1  2022      1    1 2022-01-01 00:01:00 2022-01-01 22:50:00       71.0   \n",
       "2  2022      1    1 2022-01-01 00:10:00 2022-01-01 23:55:00       15.0   \n",
       "3  2022      1    1 2022-01-01 00:25:00 2022-01-01 23:50:00       35.0   \n",
       "4  2022      1    1 2022-01-01 00:35:00 2022-01-01 23:49:00       46.0   \n",
       "\n",
       "             arr_time      sched_arr_time  arr_delay carrier  flight tailnum  \\\n",
       "0 2022-01-01 06:04:00 2022-01-01 06:18:00      -14.0      UA     555  N405UA   \n",
       "1 2022-01-01 02:42:00 2022-01-01 01:42:00       60.0      AS      72  N265AK   \n",
       "2 2022-01-01 07:59:00 2022-01-01 07:30:00       29.0      AS     270  N274AK   \n",
       "3 2022-01-01 06:06:00 2022-01-01 05:50:00       16.0      AS       7  N281AK   \n",
       "4 2022-01-01 06:16:00 2022-01-01 05:45:00       31.0      UA     507  N426UA   \n",
       "\n",
       "  origin dest  air_time  distance  hour  minute                airline  \\\n",
       "0    SEA  IAH     221.0      1874    23      59  United Air Lines Inc.   \n",
       "1    SEA  FAI     193.0      1533    22      50   Alaska Airlines Inc.   \n",
       "2    SEA  ATL     261.0      2182    23      55   Alaska Airlines Inc.   \n",
       "3    SEA  ORD     193.0      1721    23      50   Alaska Airlines Inc.   \n",
       "4    PDX  ORD     196.0      1739    23      49  United Air Lines Inc.   \n",
       "\n",
       "     route  temp  dewp  humid  wind_dir  wind_speed  wind_gust  precip  \\\n",
       "0  SEA-IAH  33.0  23.0  66.06     160.0     8.05546   9.270062     0.0   \n",
       "1  SEA-FAI  32.0  23.0  69.04     170.0     9.20624  10.594357     0.0   \n",
       "2  SEA-ATL  33.0  23.0  66.06     160.0     8.05546   9.270062     0.0   \n",
       "3  SEA-ORD  33.0  23.0  66.06     160.0     8.05546   9.270062     0.0   \n",
       "4  PDX-ORD  33.0  19.0  55.75     120.0     6.90468   7.945768     0.0   \n",
       "\n",
       "   pressure  visib       date date_string  \n",
       "0    1022.9   10.0 2022-01-01    20220101  \n",
       "1    1023.4   10.0 2022-01-01    20220101  \n",
       "2    1022.9   10.0 2022-01-01    20220101  \n",
       "3    1022.9   10.0 2022-01-01    20220101  \n",
       "4    1025.1   10.0 2022-01-01    20220101  "
      ]
     },
     "execution_count": 383,
     "metadata": {},
     "output_type": "execute_result"
    }
   ],
   "source": [
    "df.head()"
   ]
  },
  {
   "cell_type": "markdown",
   "metadata": {},
   "source": [
    "- ffill uygulamadan önce özet istatistikler"
   ]
  },
  {
   "cell_type": "code",
   "execution_count": 384,
   "metadata": {},
   "outputs": [
    {
     "data": {
      "text/html": [
       "<div>\n",
       "<style scoped>\n",
       "    .dataframe tbody tr th:only-of-type {\n",
       "        vertical-align: middle;\n",
       "    }\n",
       "\n",
       "    .dataframe tbody tr th {\n",
       "        vertical-align: top;\n",
       "    }\n",
       "\n",
       "    .dataframe thead th {\n",
       "        text-align: right;\n",
       "    }\n",
       "</style>\n",
       "<table border=\"1\" class=\"dataframe\">\n",
       "  <thead>\n",
       "    <tr style=\"text-align: right;\">\n",
       "      <th></th>\n",
       "      <th>count</th>\n",
       "      <th>mean</th>\n",
       "      <th>std</th>\n",
       "      <th>min</th>\n",
       "      <th>25%</th>\n",
       "      <th>50%</th>\n",
       "      <th>75%</th>\n",
       "      <th>max</th>\n",
       "    </tr>\n",
       "  </thead>\n",
       "  <tbody>\n",
       "    <tr>\n",
       "      <th>wind_dir</th>\n",
       "      <td>105219.0</td>\n",
       "      <td>164.55222</td>\n",
       "      <td>101.194287</td>\n",
       "      <td>0.0</td>\n",
       "      <td>100.0</td>\n",
       "      <td>180.0</td>\n",
       "      <td>220.0</td>\n",
       "      <td>360.0</td>\n",
       "    </tr>\n",
       "  </tbody>\n",
       "</table>\n",
       "</div>"
      ],
      "text/plain": [
       "             count       mean         std  min    25%    50%    75%    max\n",
       "wind_dir  105219.0  164.55222  101.194287  0.0  100.0  180.0  220.0  360.0"
      ]
     },
     "execution_count": 384,
     "metadata": {},
     "output_type": "execute_result"
    }
   ],
   "source": [
    "df[[\"wind_dir\"]].describe().T"
   ]
  },
  {
   "cell_type": "code",
   "execution_count": 385,
   "metadata": {},
   "outputs": [
    {
     "data": {
      "text/html": [
       "<div>\n",
       "<style scoped>\n",
       "    .dataframe tbody tr th:only-of-type {\n",
       "        vertical-align: middle;\n",
       "    }\n",
       "\n",
       "    .dataframe tbody tr th {\n",
       "        vertical-align: top;\n",
       "    }\n",
       "\n",
       "    .dataframe thead th {\n",
       "        text-align: right;\n",
       "    }\n",
       "</style>\n",
       "<table border=\"1\" class=\"dataframe\">\n",
       "  <thead>\n",
       "    <tr style=\"text-align: right;\">\n",
       "      <th></th>\n",
       "      <th>count</th>\n",
       "      <th>mean</th>\n",
       "      <th>std</th>\n",
       "      <th>min</th>\n",
       "      <th>25%</th>\n",
       "      <th>50%</th>\n",
       "      <th>75%</th>\n",
       "      <th>max</th>\n",
       "    </tr>\n",
       "  </thead>\n",
       "  <tbody>\n",
       "    <tr>\n",
       "      <th>wind_speed</th>\n",
       "      <td>108059.0</td>\n",
       "      <td>6.976437</td>\n",
       "      <td>4.496918</td>\n",
       "      <td>0.0</td>\n",
       "      <td>4.60312</td>\n",
       "      <td>6.90468</td>\n",
       "      <td>9.20624</td>\n",
       "      <td>27.61872</td>\n",
       "    </tr>\n",
       "  </tbody>\n",
       "</table>\n",
       "</div>"
      ],
      "text/plain": [
       "               count      mean       std  min      25%      50%      75%  \\\n",
       "wind_speed  108059.0  6.976437  4.496918  0.0  4.60312  6.90468  9.20624   \n",
       "\n",
       "                 max  \n",
       "wind_speed  27.61872  "
      ]
     },
     "execution_count": 385,
     "metadata": {},
     "output_type": "execute_result"
    }
   ],
   "source": [
    "df[[\"wind_speed\"]].describe().T"
   ]
  },
  {
   "cell_type": "code",
   "execution_count": 386,
   "metadata": {},
   "outputs": [
    {
     "data": {
      "text/html": [
       "<div>\n",
       "<style scoped>\n",
       "    .dataframe tbody tr th:only-of-type {\n",
       "        vertical-align: middle;\n",
       "    }\n",
       "\n",
       "    .dataframe tbody tr th {\n",
       "        vertical-align: top;\n",
       "    }\n",
       "\n",
       "    .dataframe thead th {\n",
       "        text-align: right;\n",
       "    }\n",
       "</style>\n",
       "<table border=\"1\" class=\"dataframe\">\n",
       "  <thead>\n",
       "    <tr style=\"text-align: right;\">\n",
       "      <th></th>\n",
       "      <th>count</th>\n",
       "      <th>mean</th>\n",
       "      <th>std</th>\n",
       "      <th>min</th>\n",
       "      <th>25%</th>\n",
       "      <th>50%</th>\n",
       "      <th>75%</th>\n",
       "      <th>max</th>\n",
       "    </tr>\n",
       "  </thead>\n",
       "  <tbody>\n",
       "    <tr>\n",
       "      <th>wind_gust</th>\n",
       "      <td>108059.0</td>\n",
       "      <td>8.028344</td>\n",
       "      <td>5.174964</td>\n",
       "      <td>0.0</td>\n",
       "      <td>5.297178</td>\n",
       "      <td>7.945768</td>\n",
       "      <td>10.594357</td>\n",
       "      <td>31.783071</td>\n",
       "    </tr>\n",
       "  </tbody>\n",
       "</table>\n",
       "</div>"
      ],
      "text/plain": [
       "              count      mean       std  min       25%       50%        75%  \\\n",
       "wind_gust  108059.0  8.028344  5.174964  0.0  5.297178  7.945768  10.594357   \n",
       "\n",
       "                 max  \n",
       "wind_gust  31.783071  "
      ]
     },
     "execution_count": 386,
     "metadata": {},
     "output_type": "execute_result"
    }
   ],
   "source": [
    "df[[\"wind_gust\"]].describe().T"
   ]
  },
  {
   "cell_type": "code",
   "execution_count": 387,
   "metadata": {},
   "outputs": [],
   "source": [
    "# ffill uygulanması\n",
    "wind_data_to_be_filled = [\"wind_dir\",\"wind_speed\",\"wind_gust\"]\n",
    "for value in wind_data_to_be_filled:\n",
    "    df[value].ffill(inplace=True)"
   ]
  },
  {
   "cell_type": "markdown",
   "metadata": {},
   "source": [
    "- ffill uyguladıktan sonraki özet istatistikler\n",
    "- Böylelikle özet istatistiklere bakıncada verilerin dağılımında bir bozulma olmamıştır."
   ]
  },
  {
   "cell_type": "code",
   "execution_count": 388,
   "metadata": {},
   "outputs": [
    {
     "data": {
      "text/html": [
       "<div>\n",
       "<style scoped>\n",
       "    .dataframe tbody tr th:only-of-type {\n",
       "        vertical-align: middle;\n",
       "    }\n",
       "\n",
       "    .dataframe tbody tr th {\n",
       "        vertical-align: top;\n",
       "    }\n",
       "\n",
       "    .dataframe thead th {\n",
       "        text-align: right;\n",
       "    }\n",
       "</style>\n",
       "<table border=\"1\" class=\"dataframe\">\n",
       "  <thead>\n",
       "    <tr style=\"text-align: right;\">\n",
       "      <th></th>\n",
       "      <th>count</th>\n",
       "      <th>mean</th>\n",
       "      <th>std</th>\n",
       "      <th>min</th>\n",
       "      <th>25%</th>\n",
       "      <th>50%</th>\n",
       "      <th>75%</th>\n",
       "      <th>max</th>\n",
       "    </tr>\n",
       "  </thead>\n",
       "  <tbody>\n",
       "    <tr>\n",
       "      <th>wind_dir</th>\n",
       "      <td>108332.0</td>\n",
       "      <td>165.351697</td>\n",
       "      <td>101.634295</td>\n",
       "      <td>0.0</td>\n",
       "      <td>100.0</td>\n",
       "      <td>180.0</td>\n",
       "      <td>220.0</td>\n",
       "      <td>360.0</td>\n",
       "    </tr>\n",
       "  </tbody>\n",
       "</table>\n",
       "</div>"
      ],
      "text/plain": [
       "             count        mean         std  min    25%    50%    75%    max\n",
       "wind_dir  108332.0  165.351697  101.634295  0.0  100.0  180.0  220.0  360.0"
      ]
     },
     "execution_count": 388,
     "metadata": {},
     "output_type": "execute_result"
    }
   ],
   "source": [
    "df[[\"wind_dir\"]].describe().T"
   ]
  },
  {
   "cell_type": "code",
   "execution_count": 389,
   "metadata": {},
   "outputs": [
    {
     "data": {
      "text/html": [
       "<div>\n",
       "<style scoped>\n",
       "    .dataframe tbody tr th:only-of-type {\n",
       "        vertical-align: middle;\n",
       "    }\n",
       "\n",
       "    .dataframe tbody tr th {\n",
       "        vertical-align: top;\n",
       "    }\n",
       "\n",
       "    .dataframe thead th {\n",
       "        text-align: right;\n",
       "    }\n",
       "</style>\n",
       "<table border=\"1\" class=\"dataframe\">\n",
       "  <thead>\n",
       "    <tr style=\"text-align: right;\">\n",
       "      <th></th>\n",
       "      <th>count</th>\n",
       "      <th>mean</th>\n",
       "      <th>std</th>\n",
       "      <th>min</th>\n",
       "      <th>25%</th>\n",
       "      <th>50%</th>\n",
       "      <th>75%</th>\n",
       "      <th>max</th>\n",
       "    </tr>\n",
       "  </thead>\n",
       "  <tbody>\n",
       "    <tr>\n",
       "      <th>wind_speed</th>\n",
       "      <td>108332.0</td>\n",
       "      <td>6.974153</td>\n",
       "      <td>4.494219</td>\n",
       "      <td>0.0</td>\n",
       "      <td>4.60312</td>\n",
       "      <td>6.90468</td>\n",
       "      <td>9.20624</td>\n",
       "      <td>27.61872</td>\n",
       "    </tr>\n",
       "  </tbody>\n",
       "</table>\n",
       "</div>"
      ],
      "text/plain": [
       "               count      mean       std  min      25%      50%      75%  \\\n",
       "wind_speed  108332.0  6.974153  4.494219  0.0  4.60312  6.90468  9.20624   \n",
       "\n",
       "                 max  \n",
       "wind_speed  27.61872  "
      ]
     },
     "execution_count": 389,
     "metadata": {},
     "output_type": "execute_result"
    }
   ],
   "source": [
    "df[[\"wind_speed\"]].describe().T"
   ]
  },
  {
   "cell_type": "code",
   "execution_count": 390,
   "metadata": {},
   "outputs": [
    {
     "data": {
      "text/html": [
       "<div>\n",
       "<style scoped>\n",
       "    .dataframe tbody tr th:only-of-type {\n",
       "        vertical-align: middle;\n",
       "    }\n",
       "\n",
       "    .dataframe tbody tr th {\n",
       "        vertical-align: top;\n",
       "    }\n",
       "\n",
       "    .dataframe thead th {\n",
       "        text-align: right;\n",
       "    }\n",
       "</style>\n",
       "<table border=\"1\" class=\"dataframe\">\n",
       "  <thead>\n",
       "    <tr style=\"text-align: right;\">\n",
       "      <th></th>\n",
       "      <th>count</th>\n",
       "      <th>mean</th>\n",
       "      <th>std</th>\n",
       "      <th>min</th>\n",
       "      <th>25%</th>\n",
       "      <th>50%</th>\n",
       "      <th>75%</th>\n",
       "      <th>max</th>\n",
       "    </tr>\n",
       "  </thead>\n",
       "  <tbody>\n",
       "    <tr>\n",
       "      <th>wind_gust</th>\n",
       "      <td>108332.0</td>\n",
       "      <td>8.025715</td>\n",
       "      <td>5.171857</td>\n",
       "      <td>0.0</td>\n",
       "      <td>5.297178</td>\n",
       "      <td>7.945768</td>\n",
       "      <td>10.594357</td>\n",
       "      <td>31.783071</td>\n",
       "    </tr>\n",
       "  </tbody>\n",
       "</table>\n",
       "</div>"
      ],
      "text/plain": [
       "              count      mean       std  min       25%       50%        75%  \\\n",
       "wind_gust  108332.0  8.025715  5.171857  0.0  5.297178  7.945768  10.594357   \n",
       "\n",
       "                 max  \n",
       "wind_gust  31.783071  "
      ]
     },
     "execution_count": 390,
     "metadata": {},
     "output_type": "execute_result"
    }
   ],
   "source": [
    "df[[\"wind_gust\"]].describe().T"
   ]
  },
  {
   "cell_type": "markdown",
   "metadata": {},
   "source": [
    "- Eksik veri giderilme işlemi tamamlandı."
   ]
  },
  {
   "cell_type": "code",
   "execution_count": 391,
   "metadata": {},
   "outputs": [
    {
     "data": {
      "text/plain": [
       "year              0\n",
       "month             0\n",
       "day               0\n",
       "dep_time          0\n",
       "sched_dep_time    0\n",
       "dep_delay         0\n",
       "arr_time          0\n",
       "sched_arr_time    0\n",
       "arr_delay         0\n",
       "carrier           0\n",
       "flight            0\n",
       "tailnum           0\n",
       "origin            0\n",
       "dest              0\n",
       "air_time          0\n",
       "distance          0\n",
       "hour              0\n",
       "minute            0\n",
       "airline           0\n",
       "route             0\n",
       "temp              0\n",
       "dewp              0\n",
       "humid             0\n",
       "wind_dir          0\n",
       "wind_speed        0\n",
       "wind_gust         0\n",
       "precip            0\n",
       "pressure          0\n",
       "visib             0\n",
       "date              0\n",
       "date_string       0\n",
       "dtype: int64"
      ]
     },
     "execution_count": 391,
     "metadata": {},
     "output_type": "execute_result"
    }
   ],
   "source": [
    "df.isnull().sum()"
   ]
  },
  {
   "cell_type": "code",
   "execution_count": null,
   "metadata": {},
   "outputs": [],
   "source": []
  },
  {
   "cell_type": "code",
   "execution_count": null,
   "metadata": {},
   "outputs": [],
   "source": []
  },
  {
   "cell_type": "code",
   "execution_count": null,
   "metadata": {},
   "outputs": [],
   "source": []
  },
  {
   "cell_type": "code",
   "execution_count": null,
   "metadata": {},
   "outputs": [],
   "source": []
  },
  {
   "cell_type": "code",
   "execution_count": null,
   "metadata": {},
   "outputs": [],
   "source": []
  }
 ],
 "metadata": {
  "colab": {
   "provenance": []
  },
  "kernelspec": {
   "display_name": "Python 3 (ipykernel)",
   "language": "python",
   "name": "python3"
  },
  "language_info": {
   "codemirror_mode": {
    "name": "ipython",
    "version": 3
   },
   "file_extension": ".py",
   "mimetype": "text/x-python",
   "name": "python",
   "nbconvert_exporter": "python",
   "pygments_lexer": "ipython3",
   "version": "3.11.5"
  }
 },
 "nbformat": 4,
 "nbformat_minor": 4
}
