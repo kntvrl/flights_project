{
  "cells": [
    {
      "cell_type": "code",
      "execution_count": 1,
      "metadata": {
        "id": "Md_WfESotu_8"
      },
      "outputs": [],
      "source": [
        "# Analyzing Flight Delays and Cancellations ile Python Projesi\n",
        "\n",
        "# Beklenenler\n",
        "# .csv dosyasındaki Verileri düzenleyiniz.\n",
        "# Gecikmeler açısından hangi havayolları en kötü performansı gösteriyor?\n",
        "# Hangisi en iyisi?\n",
        "# Uçuş performansı yılın aylarına göre değişiyor mu? Bir havayolu şirketi her zaman en kötü performansı gösteren havayolu mudur, yoksa değişkenlik var mıdır?\n",
        "# Hangi rotaların iptal edilme olasılığı en yüksek?"
      ]
    },
    {
      "cell_type": "code",
      "execution_count": null,
      "metadata": {
        "id": "1Qo3_H-_7iD1"
      },
      "outputs": [],
      "source": [
        "# Proje Detayları\n",
        "# •\tTime Series Analysis and Forecasting için tarih-saat oluşturulmalıdır, böylece çizim ve zaman serisi analizi daha etkili bir şekilde gerçekleştirilebilir.\n",
        "# •\tKalkış ve varış saatleri düzeltilmelidir, bu sayede verilerin doğruluğu sağlanabilir.\n",
        "# •\tKopyalar kontrol edilmelidir, böylece veri setinde tutarsızlıklar ve tekrarlanan bilgiler tespit edilebilir.\n",
        "# •\tBazı havaalanları tam sayı olarak kodlanmıştır, bu durumun nedeni ve etkileri üzerine daha fazla açıklama yapılmalıdır.\n",
        "# •\tUçuş mesafeleri, 500 mil altındaki mesafeler, 500-1000 mil arasındaki mesafeler ve 1000 mil ve üzerindeki mesafeler olmak üzere üç ana grupta sınıflandırılabilir."
      ]
    },
    {
      "cell_type": "code",
      "execution_count": null,
      "metadata": {
        "id": "2-4_kbQI7mMd"
      },
      "outputs": [],
      "source": [
        "# PROJE SORULARI\n",
        "#1.\tHer havayolunun mesafeyle ilişkisini anlamak için kategorik bir değişken oluşturunuz.\n",
        "#2.\tHavayolu şirketleri arasında en fazla uçuşu gerçekleştiren firmaları belirleyiniz.\n",
        "#3.\tGecikmeleri varsayarak havayolu şirketlerinin performansları kıyaslayınız.\n",
        "#4.\tHavayolu performansının yılın farklı aylarına göre değişip değişmediğini ve en iyi 5 havayolu performansı ile en kötü 5 performansı gösteriniz.\n",
        "#5.\tUçuş iptalleri yüzde kaç olduğunu belirleyip havayoluna göre nasıl değişkenliğini gösteriniz? (Model kıyaslamasını da ekleyiniz.)\n",
        "#6.\tİptal oranının daha yüksek olduğu günün belirli bir saati ve/veya yılın saati var mı?\n",
        "#7.\tEn yüksek iptal oranına sahip güzergahlar hangileri?\n",
        "#8.\tModel ekleyip uçuşların gecikme sürelerini tahmin ediniz.\n"
      ]
    }
  ],
  "metadata": {
    "colab": {
      "provenance": []
    },
    "kernelspec": {
      "display_name": "Python 3",
      "name": "python3"
    },
    "language_info": {
      "name": "python"
    }
  },
  "nbformat": 4,
  "nbformat_minor": 0
}
